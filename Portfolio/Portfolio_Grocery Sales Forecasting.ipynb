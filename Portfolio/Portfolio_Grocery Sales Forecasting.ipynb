{
 "cells": [
  {
   "cell_type": "markdown",
   "metadata": {},
   "source": [
    "#  <h1><center>Grocery Sales Forecesting for Supermarket</center></h1>\n",
    "\n",
    "<img src=\"header.png\">\n",
    "\n",
    "Img Source: Kaggle.com\n",
    "\n",
    "## Table of Contents\n",
    "\n",
    "1. Abstract\n",
    "\n",
    "2. Introduction\n",
    "\n",
    "3. Import libraries\n",
    "\n",
    "4. Data Sources\n",
    "\n",
    "   4.a. Data Loading\n",
    "   \n",
    "   4.b. Anamoly Detection\n",
    "   \n",
    "   4.c. Data Preparation and Data Cleaning\n",
    "   \n",
    "5. Analyzing Impact of Oil on the Sales\n",
    "\n",
    "6. Data Blending\n",
    "\n",
    "7. Product Purchase Trend\n",
    "\n",
    "   7.a Fetching N most purchased products\n",
    "\n",
    "8. Exploratory Data Analysis\n",
    "\n",
    "9. Data Transformation\n",
    "\n",
    "   9.a. One Hot Encoding\n",
    "   \n",
    "10. Regression Techniques\n",
    "\n",
    "   10.a Linear Regression\n",
    "   \n",
    "   10.b Decision Tree Regressors\n",
    "   \n",
    "   10.c Extra Tree Regressors\n",
    "   \n",
    "   10.d Random Forest Regressors\n",
    "   \n",
    "   10.e Gradient Boosting Regressors\n",
    "   \n",
    "   10.f XGBoost\n",
    "   \n",
    "11. Light Gradient Boosting Method (LGBM)\n",
    "\n",
    "12. Creating Neural Network\n",
    "\n",
    "13. Conclusion\n",
    "\n",
    "14. References and Attributions\n",
    "\n"
   ]
  },
  {
   "cell_type": "markdown",
   "metadata": {},
   "source": [
    "# 1. Abstract\n",
    "\n",
    "<img src=\"Forecast.jpg\">\n",
    "\n",
    "Product sales forecasting is a major aspect of purchasing management. Forecasts are crucial in\n",
    "determining inventory stock levels, and accurately estimating future demand for goods has been an\n",
    "ongoing challenge, especially in the Supermarkets and Grocery Stores industry. If goods are not readily\n",
    "available or goods availability is more than demand overall profit can be compromised. As a result, sales\n",
    "forecasting for goods can be significant to ensure loss is minimized. Additionally, the problem becomes\n",
    "more complex as retailers add new locations with unique needs, new products, ever transitioning\n",
    "seasonal tastes, and unpredictable product marketing. In this analysis, a forecasting model is developed\n",
    "using machine learning algorithms to improve the accurately forecasts product sales. The proposed\n",
    "model is especially targeted to support the future purchase and more accurate forecasts product sales\n",
    "and is not intended to change current subjective forecasting methods. A model based on a real grocery\n",
    "store's data is developed in order to validate the use of the various machine learning algorithms. In the\n",
    "case study, multiple regression methods are compared. The methods impact on forecast product\n",
    "availability in store to ensure they have just enough products at right time.\n",
    "\n",
    "### The aim of this project is to forecast more accurate product sales for the Ecuadorian supermarket chain based on certain features.\n"
   ]
  },
  {
   "cell_type": "markdown",
   "metadata": {},
   "source": [
    "# 2. Introduction\n",
    "\n",
    "In this project, we are trying to forecasts product sales based on the items, stores, transaction and other\n",
    "dependent variables like holidays and oil prices.\n",
    "\n",
    "This is a Kaggle Competition called \"Corporación Favorita Grocery Sales Forecasting\" where the task is to\n",
    "predict stocking of products to better ensure grocery stores please customers by having just enough of\n",
    "the right products at the right time.\n",
    "\n",
    "For this particular problem, we have analyzed the data as a supervised learning problem. In order to\n",
    "forecasts the sales we have compared different regression models like Linear Regression, Decision Tree,\n",
    "ExtraTreeRegressor, Gradient Boosting, Random Forest and XgBoost. Further to optimize the results we\n",
    "have used multilayer perception (MLP: a class of feed forward artificial neural network) and LightGBM (\n",
    "gradient boosting framework that uses tree based learning algorithms).\n",
    "\n",
    "The data comes in the shape of multiple files. First, the training data (train.csv) essentially contains the sales by date, store, and item. The test data (test.csv) contains the same features without the sales information, which we are tasked to predict. The train vs test split is based on the date. In addition, some test items are not included in the train data.\n",
    "\n",
    "<img src=\"background.jpg\">"
   ]
  },
  {
   "cell_type": "markdown",
   "metadata": {},
   "source": [
    "# 3. Import libraries:\n",
    "\n",
    "The libraries that we will be using are:\n",
    "\n",
    "**Numpy** : NumPy is a library for the Python programming language, adding support for large, multi-dimensional   arrays and matrices, along with a large collection of high-level mathematical functions to operate on these arrays.\n",
    "\n",
    "\n",
    "**Pandas** :  Pandas is a software library written for the Python programming language for data manipulation and analysis. In particular, it offers data structures and operations for manipulating numerical tables and time series.\n",
    "\n",
    "\n",
    "**Matplotlib** : Matplotlib is a plotting library for the Python programming language and its numerical mathematics extension NumPy.\n",
    "\n",
    "\n",
    "**Scikit-learn** : Scikit-learn is a machine learning library for the Python programming language. It features various classification, regression and clustering algorithms including support vector machines, random forests, gradient boosting, k-means and DBSCAN.\n",
    "\n",
    "\n",
    "**XgBoost** : XgBoost is an optimized distributed gradient boosting library designed to be highly efficient, flexible and portable. It implements machine learning algorithms under the Gradient Boosting framework.\n",
    "\n",
    "\n",
    "**Keras** : Keras is a deep learning library that: Allows for easy and fast prototyping (through user friendliness, modularity, and extensibility). Supports both convolutional networks and recurrent networks, as well as combinations of the two.\n",
    "\n",
    "\n",
    "**LightGBM** : LightGBM is a gradient boosting framework that uses tree based learning algorithms. It is designed to be distributed and efficient\n",
    "\n",
    "\n",
    "\n",
    "We shall be loading all the above libraries and several of their features which we will be using."
   ]
  },
  {
   "cell_type": "code",
   "execution_count": 2,
   "metadata": {},
   "outputs": [
    {
     "name": "stderr",
     "output_type": "stream",
     "text": [
      "Using TensorFlow backend.\n"
     ]
    }
   ],
   "source": [
    "#Loading all the relevant libraries\n",
    "import pandas as pd\n",
    "import numpy as np\n",
    "import matplotlib.pyplot as plt\n",
    "import seaborn as sns\n",
    "from scipy import stats\n",
    "from sklearn.preprocessing import LabelEncoder,minmax_scale,PolynomialFeatures,StandardScaler,Normalizer\n",
    "from sklearn.model_selection import KFold,GridSearchCV,train_test_split\n",
    "import matplotlib.pyplot as plt\n",
    "from scipy.stats import itemfreq\n",
    "import seaborn as sns\n",
    "from sklearn import linear_model\n",
    "from sklearn.model_selection import cross_val_score\n",
    "from sklearn.linear_model import Lasso\n",
    "from sklearn.preprocessing import StandardScaler\n",
    "from sklearn.linear_model import LinearRegression, Ridge, LassoCV, ElasticNetCV\n",
    "from sklearn.metrics import mean_squared_error, make_scorer\n",
    "#from sklearn.model_selection import train_test_split\n",
    "%matplotlib inline\n",
    "import datetime\n",
    "from datetime import date, timedelta\n",
    "from sklearn.tree import DecisionTreeRegressor\n",
    "from sklearn.metrics import r2_score\n",
    "from sklearn.metrics import mean_squared_error\n",
    "from sklearn.ensemble import ExtraTreesRegressor\n",
    "from sklearn.ensemble import RandomForestRegressor\n",
    "from sklearn.model_selection import GridSearchCV\n",
    "from sklearn.ensemble import GradientBoostingRegressor\n",
    "from xgboost import XGBRegressor\n",
    "import keras\n",
    "import sys\n",
    "from keras.layers.core import Dense, Dropout, Activation\n",
    "from keras.models import Sequential\n",
    "from keras.layers.core import Dense, Dropout, Activation\n",
    "import lightgbm as lgb"
   ]
  },
  {
   "cell_type": "markdown",
   "metadata": {},
   "source": [
    "# 4. Data Sources\n",
    "\n",
    "The main dataset consist of sales data on the basis of dates, store and item information, whether that item was being promoted, as well as the unit sales. The data span a peroid of 5 years from 2013 to 2017.\n",
    "\n",
    "You can find dataset at: https://www.kaggle.com/c/favorita-grocery-sales-forecasting/data\n",
    "\n",
    "There are 5 additional data files that include supplementary information that may be useful in building model:\n",
    "\n",
    "**stores.csv** : Consist of Store metadata, including city, state, type, and cluster (cluster is a grouping of similar stores).\n",
    "\n",
    "**items.csv** : Item metadata, such as class and whether they are perishable. Note, that perishable items have a higher scoring weight than others.\n",
    "\n",
    "**transactions.csv** : Count of sales transactions for each date, store_nbr combination\n",
    "\n",
    "**oil.csv** : Daily oil price. This is relevant, because “Ecuador is an oil-dependent country and its economical health is highly vulnerable to shocks in oil prices.” (source)\n",
    "\n",
    "**holidays_events.csv** : Holidays in Ecuador. Some holidays can be transferred to another day (possibly from weekend to weekday).\n",
    "\n",
    "\n",
    "<img src=\"Capture1.jpg\">\n",
    "\n",
    "\n",
    "The text in the document by Source Kaggle is licensed under CC BY 3.0 https://creativecommons.org/licenses/by/3.0/us/\n"
   ]
  },
  {
   "cell_type": "markdown",
   "metadata": {},
   "source": [
    "# 4.a. Data Loading"
   ]
  },
  {
   "cell_type": "code",
   "execution_count": 3,
   "metadata": {
    "collapsed": true
   },
   "outputs": [],
   "source": [
    "#Loading the data\n",
    "dtypes = {'store_nbr': np.dtype('int64'),\n",
    "          'item_nbr': np.dtype('int64'),\n",
    "          'unit_sales': np.dtype('float64'),\n",
    "          'onpromotion': np.dtype('O')}\n",
    "\n",
    "Sales = pd.read_csv('favoritaTrain_Set2.csv', dtype=dtypes)\n",
    "test = pd.read_csv('test.csv', dtype=dtypes)\n",
    "stores = pd.read_csv('stores.csv')\n",
    "items = pd.read_csv('items.csv')\n",
    "trans = pd.read_csv('transactions.csv')\n",
    "#oil = pd.read_csv('../input/oil.csv') #we upload this database later\n",
    "holidays = pd.read_csv('holidays_events.csv')"
   ]
  },
  {
   "cell_type": "code",
   "execution_count": 4,
   "metadata": {},
   "outputs": [
    {
     "data": {
      "text/plain": [
       "336867"
      ]
     },
     "execution_count": 4,
     "metadata": {},
     "output_type": "execute_result"
    }
   ],
   "source": [
    "#sampling the data, since the data is too huge to carry put any operations\n",
    "date_mask = (Sales['date'] >= '2017-07-15') & (Sales['date'] <= '2017-08-15')\n",
    "\n",
    "Salesdf = Sales[date_mask]\n",
    "\n",
    "#Print the size\n",
    "len(Salesdf)"
   ]
  },
  {
   "cell_type": "markdown",
   "metadata": {},
   "source": [
    "# 4.b. Anamoly Detection"
   ]
  },
  {
   "cell_type": "code",
   "execution_count": 5,
   "metadata": {
    "collapsed": true
   },
   "outputs": [],
   "source": [
    "#Load the data\n",
    "oil = pd.read_csv('oil.csv')\n",
    "\n",
    "#add missing date\n",
    "min_oil_date = min(Salesdf.date)\n",
    "max_oil_date = max(Salesdf.date)\n",
    "\n",
    "calendar = []\n",
    "\n",
    "d1 = datetime.datetime.strptime(min_oil_date, '%Y-%m-%d')  # start date\n",
    "d2 = datetime.datetime.strptime(max_oil_date, '%Y-%m-%d')  # end date\n",
    "\n",
    "delta = d2 - d1         # timedelta\n",
    "\n",
    "for i in range(delta.days + 1):\n",
    "    calendar.append(datetime.date.strftime(d1 + timedelta(days=i), '%Y-%m-%d'))\n",
    "\n",
    "calendar = pd.DataFrame({'date':calendar})\n",
    "\n",
    "oil = calendar.merge(oil, left_on='date', right_on='date', how='left')"
   ]
  },
  {
   "cell_type": "code",
   "execution_count": 6,
   "metadata": {},
   "outputs": [
    {
     "data": {
      "text/html": [
       "<div>\n",
       "<style scoped>\n",
       "    .dataframe tbody tr th:only-of-type {\n",
       "        vertical-align: middle;\n",
       "    }\n",
       "\n",
       "    .dataframe tbody tr th {\n",
       "        vertical-align: top;\n",
       "    }\n",
       "\n",
       "    .dataframe thead th {\n",
       "        text-align: right;\n",
       "    }\n",
       "</style>\n",
       "<table border=\"1\" class=\"dataframe\">\n",
       "  <thead>\n",
       "    <tr style=\"text-align: right;\">\n",
       "      <th></th>\n",
       "      <th>date</th>\n",
       "      <th>dcoilwtico</th>\n",
       "    </tr>\n",
       "  </thead>\n",
       "  <tbody>\n",
       "    <tr>\n",
       "      <th>0</th>\n",
       "      <td>2017-07-15</td>\n",
       "      <td>NaN</td>\n",
       "    </tr>\n",
       "    <tr>\n",
       "      <th>1</th>\n",
       "      <td>2017-07-16</td>\n",
       "      <td>NaN</td>\n",
       "    </tr>\n",
       "    <tr>\n",
       "      <th>2</th>\n",
       "      <td>2017-07-17</td>\n",
       "      <td>46.02</td>\n",
       "    </tr>\n",
       "    <tr>\n",
       "      <th>3</th>\n",
       "      <td>2017-07-18</td>\n",
       "      <td>46.40</td>\n",
       "    </tr>\n",
       "    <tr>\n",
       "      <th>4</th>\n",
       "      <td>2017-07-19</td>\n",
       "      <td>47.10</td>\n",
       "    </tr>\n",
       "  </tbody>\n",
       "</table>\n",
       "</div>"
      ],
      "text/plain": [
       "         date  dcoilwtico\n",
       "0  2017-07-15         NaN\n",
       "1  2017-07-16         NaN\n",
       "2  2017-07-17       46.02\n",
       "3  2017-07-18       46.40\n",
       "4  2017-07-19       47.10"
      ]
     },
     "execution_count": 6,
     "metadata": {},
     "output_type": "execute_result"
    }
   ],
   "source": [
    "oil.head()"
   ]
  },
  {
   "cell_type": "markdown",
   "metadata": {},
   "source": [
    "# 4.c Data Preparation and Data Cleaning"
   ]
  },
  {
   "cell_type": "code",
   "execution_count": 7,
   "metadata": {},
   "outputs": [
    {
     "name": "stdout",
     "output_type": "stream",
     "text": [
      "date           0\n",
      "dcoilwtico    10\n",
      "dtype: int64 \n",
      "\n",
      "Type :  \n",
      " date           object\n",
      "dcoilwtico    float64\n",
      "dtype: object\n"
     ]
    },
    {
     "data": {
      "text/html": [
       "<div>\n",
       "<style scoped>\n",
       "    .dataframe tbody tr th:only-of-type {\n",
       "        vertical-align: middle;\n",
       "    }\n",
       "\n",
       "    .dataframe tbody tr th {\n",
       "        vertical-align: top;\n",
       "    }\n",
       "\n",
       "    .dataframe thead th {\n",
       "        text-align: right;\n",
       "    }\n",
       "</style>\n",
       "<table border=\"1\" class=\"dataframe\">\n",
       "  <thead>\n",
       "    <tr style=\"text-align: right;\">\n",
       "      <th></th>\n",
       "      <th>date</th>\n",
       "      <th>dcoilwtico</th>\n",
       "    </tr>\n",
       "  </thead>\n",
       "  <tbody>\n",
       "    <tr>\n",
       "      <th>0</th>\n",
       "      <td>2017-07-15</td>\n",
       "      <td>NaN</td>\n",
       "    </tr>\n",
       "    <tr>\n",
       "      <th>1</th>\n",
       "      <td>2017-07-16</td>\n",
       "      <td>NaN</td>\n",
       "    </tr>\n",
       "    <tr>\n",
       "      <th>2</th>\n",
       "      <td>2017-07-17</td>\n",
       "      <td>46.02</td>\n",
       "    </tr>\n",
       "    <tr>\n",
       "      <th>3</th>\n",
       "      <td>2017-07-18</td>\n",
       "      <td>46.40</td>\n",
       "    </tr>\n",
       "    <tr>\n",
       "      <th>4</th>\n",
       "      <td>2017-07-19</td>\n",
       "      <td>47.10</td>\n",
       "    </tr>\n",
       "  </tbody>\n",
       "</table>\n",
       "</div>"
      ],
      "text/plain": [
       "         date  dcoilwtico\n",
       "0  2017-07-15         NaN\n",
       "1  2017-07-16         NaN\n",
       "2  2017-07-17       46.02\n",
       "3  2017-07-18       46.40\n",
       "4  2017-07-19       47.10"
      ]
     },
     "execution_count": 7,
     "metadata": {},
     "output_type": "execute_result"
    }
   ],
   "source": [
    "#Check how many NA\n",
    "print(oil.isnull().sum(), '\\n')\n",
    "\n",
    "#Type\n",
    "print('Type : ', '\\n', oil.dtypes)\n",
    "\n",
    "#Print the 5 first line\n",
    "oil.head(5)"
   ]
  },
  {
   "cell_type": "markdown",
   "metadata": {},
   "source": [
    "# 5. Analyzing Impact of Oil on the sales of other products\n",
    "Oli is one pof the important factor in economy so we are replacing null values with the average of previous and next day value "
   ]
  },
  {
   "cell_type": "code",
   "execution_count": 8,
   "metadata": {
    "collapsed": true
   },
   "outputs": [],
   "source": [
    "#Check index to apply the formula\n",
    "na_index_oil = oil[oil['dcoilwtico'].isnull() == True].index.values\n",
    "\n",
    "#Define the index to use to apply the formala\n",
    "na_index_oil_plus = na_index_oil.copy()\n",
    "na_index_oil_minus = np.maximum(0, na_index_oil-1)\n",
    "\n",
    "for i in range(len(na_index_oil)):\n",
    "    k = 1\n",
    "    while (na_index_oil[min(i+k,len(na_index_oil)-1)] == na_index_oil[i]+k):\n",
    "        k += 1\n",
    "    na_index_oil_plus[i] = min(len(oil)-1, na_index_oil_plus[i] + k )\n",
    "\n",
    "#Apply the formula\n",
    "for i in range(len(na_index_oil)):\n",
    "    if (na_index_oil[i] == 0):\n",
    "        oil.loc[na_index_oil[i], 'dcoilwtico'] = oil.loc[na_index_oil_plus[i], 'dcoilwtico']\n",
    "    elif (na_index_oil[i] == len(oil)):\n",
    "        oil.loc[na_index_oil[i], 'dcoilwtico'] = oil.loc[na_index_oil_minus[i], 'dcoilwtico']\n",
    "    else:\n",
    "        oil.loc[na_index_oil[i], 'dcoilwtico'] = (oil.loc[na_index_oil_plus[i], 'dcoilwtico'] + oil.loc[na_index_oil_minus[i], 'dcoilwtico'])/ 2   "
   ]
  },
  {
   "cell_type": "code",
   "execution_count": 9,
   "metadata": {},
   "outputs": [
    {
     "data": {
      "text/plain": [
       "date          0\n",
       "dcoilwtico    0\n",
       "dtype: int64"
      ]
     },
     "execution_count": 9,
     "metadata": {},
     "output_type": "execute_result"
    }
   ],
   "source": [
    "oil.isnull().sum()"
   ]
  },
  {
   "cell_type": "code",
   "execution_count": 10,
   "metadata": {},
   "outputs": [
    {
     "data": {
      "image/png": "[encoded data removed]",
      "text/plain": [
       "<matplotlib.figure.Figure at 0x1d7e2132828>"
      ]
     },
     "metadata": {},
     "output_type": "display_data"
    }
   ],
   "source": [
    "#Plot the oil values\n",
    "oil_plot = oil['dcoilwtico'].copy()\n",
    "oil_plot.index = oil['date'].copy()\n",
    "oil_plot.plot()\n",
    "plt.show()"
   ]
  },
  {
   "cell_type": "markdown",
   "metadata": {},
   "source": [
    "##### By the end of the analysis it is evident that the sale of oil as an important commodity has a significant impact on the unit sales of other products."
   ]
  },
  {
   "cell_type": "markdown",
   "metadata": {},
   "source": [
    "The text in the document by Source Wikipedia is licensed under CC BY 3.0 https://creativecommons.org/licenses/by/3.0/us/\n",
    "\n",
    "The text in the document by Analytics Vidhya is licensed under CC BY 3.0 https://creativecommons.org/licenses/by/3.0/us/\n",
    "\n",
    "The code in the document by Source Kaggle is licensed under the MIT License https://opensource.org/licenses/MIT"
   ]
  },
  {
   "cell_type": "markdown",
   "metadata": {},
   "source": [
    "# 6. Data Blending\n",
    "\n",
    "Data blending is the process of combining data from multiple sources into a functioning dataset. This process is gaining attention among analysts and analytic companies due to the fact that it is a quick and straightforward method used to extract value from multiple data sources. It can help to discover correlations between the different data sets without the time and expense of traditional data warehouse processes."
   ]
  },
  {
   "cell_type": "code",
   "execution_count": 11,
   "metadata": {
    "collapsed": true
   },
   "outputs": [],
   "source": [
    "#Merge train\n",
    "Salesdf = Salesdf.drop('id', axis = 1)\n",
    "Salesdf = Salesdf.merge(stores, left_on='store_nbr', right_on='store_nbr', how='left')\n",
    "Salesdf = Salesdf.merge(items, left_on='item_nbr', right_on='item_nbr', how='left')\n",
    "Salesdf = Salesdf.merge(holidays, left_on='date', right_on='date', how='left')\n",
    "Salesdf = Salesdf.merge(oil, left_on='date', right_on='date', how='left')\n",
    "Salesdf = Salesdf.drop(['description', 'state', 'locale_name', 'class'], axis = 1)"
   ]
  },
  {
   "cell_type": "code",
   "execution_count": 12,
   "metadata": {},
   "outputs": [
    {
     "name": "stdout",
     "output_type": "stream",
     "text": [
      "<class 'pandas.core.frame.DataFrame'>\n",
      "Int64Index: 336867 entries, 0 to 336866\n",
      "Data columns (total 14 columns):\n",
      "date           336867 non-null object\n",
      "store_nbr      336867 non-null int64\n",
      "item_nbr       336867 non-null int64\n",
      "unit_sales     336867 non-null float64\n",
      "onpromotion    336867 non-null object\n",
      "city           336867 non-null object\n",
      "type_x         336867 non-null object\n",
      "cluster        336867 non-null int64\n",
      "family         336867 non-null object\n",
      "perishable     336867 non-null int64\n",
      "type_y         73283 non-null object\n",
      "locale         73283 non-null object\n",
      "transferred    73283 non-null object\n",
      "dcoilwtico     336867 non-null float64\n",
      "dtypes: float64(2), int64(4), object(8)\n",
      "memory usage: 38.6+ MB\n"
     ]
    }
   ],
   "source": [
    "Salesdf.info()"
   ]
  },
  {
   "cell_type": "code",
   "execution_count": 13,
   "metadata": {},
   "outputs": [
    {
     "data": {
      "text/plain": [
       "transferred    263584\n",
       "locale         263584\n",
       "type_y         263584\n",
       "dcoilwtico          0\n",
       "perishable          0\n",
       "family              0\n",
       "cluster             0\n",
       "type_x              0\n",
       "city                0\n",
       "onpromotion         0\n",
       "unit_sales          0\n",
       "item_nbr            0\n",
       "store_nbr           0\n",
       "date                0\n",
       "dtype: int64"
      ]
     },
     "execution_count": 13,
     "metadata": {},
     "output_type": "execute_result"
    }
   ],
   "source": [
    "Salesdf.isnull().sum().sort_values(ascending=False)"
   ]
  },
  {
   "cell_type": "code",
   "execution_count": 14,
   "metadata": {},
   "outputs": [
    {
     "name": "stdout",
     "output_type": "stream",
     "text": [
      "Shape :  (336867, 14) \n",
      "\n",
      "Type :  \n",
      " date            object\n",
      "store_nbr        int64\n",
      "item_nbr         int64\n",
      "unit_sales     float64\n",
      "onpromotion     object\n",
      "city            object\n",
      "type_x          object\n",
      "cluster          int64\n",
      "family          object\n",
      "perishable       int64\n",
      "type_y          object\n",
      "locale          object\n",
      "transferred     object\n",
      "dcoilwtico     float64\n",
      "dtype: object\n"
     ]
    },
    {
     "data": {
      "text/html": [
       "<div>\n",
       "<style scoped>\n",
       "    .dataframe tbody tr th:only-of-type {\n",
       "        vertical-align: middle;\n",
       "    }\n",
       "\n",
       "    .dataframe tbody tr th {\n",
       "        vertical-align: top;\n",
       "    }\n",
       "\n",
       "    .dataframe thead th {\n",
       "        text-align: right;\n",
       "    }\n",
       "</style>\n",
       "<table border=\"1\" class=\"dataframe\">\n",
       "  <thead>\n",
       "    <tr style=\"text-align: right;\">\n",
       "      <th></th>\n",
       "      <th>store_nbr</th>\n",
       "      <th>item_nbr</th>\n",
       "      <th>unit_sales</th>\n",
       "      <th>cluster</th>\n",
       "      <th>perishable</th>\n",
       "      <th>dcoilwtico</th>\n",
       "    </tr>\n",
       "  </thead>\n",
       "  <tbody>\n",
       "    <tr>\n",
       "      <th>count</th>\n",
       "      <td>336867.000000</td>\n",
       "      <td>3.368670e+05</td>\n",
       "      <td>336867.000000</td>\n",
       "      <td>336867.000000</td>\n",
       "      <td>336867.000000</td>\n",
       "      <td>336867.000000</td>\n",
       "    </tr>\n",
       "    <tr>\n",
       "      <th>mean</th>\n",
       "      <td>28.313305</td>\n",
       "      <td>1.170498e+06</td>\n",
       "      <td>8.043790</td>\n",
       "      <td>8.709102</td>\n",
       "      <td>0.258402</td>\n",
       "      <td>48.146043</td>\n",
       "    </tr>\n",
       "    <tr>\n",
       "      <th>std</th>\n",
       "      <td>16.309769</td>\n",
       "      <td>5.868558e+05</td>\n",
       "      <td>22.929827</td>\n",
       "      <td>4.563188</td>\n",
       "      <td>0.437757</td>\n",
       "      <td>1.467865</td>\n",
       "    </tr>\n",
       "    <tr>\n",
       "      <th>min</th>\n",
       "      <td>1.000000</td>\n",
       "      <td>9.699500e+04</td>\n",
       "      <td>-36.000000</td>\n",
       "      <td>1.000000</td>\n",
       "      <td>0.000000</td>\n",
       "      <td>45.780000</td>\n",
       "    </tr>\n",
       "    <tr>\n",
       "      <th>25%</th>\n",
       "      <td>13.000000</td>\n",
       "      <td>6.925310e+05</td>\n",
       "      <td>2.000000</td>\n",
       "      <td>5.000000</td>\n",
       "      <td>0.000000</td>\n",
       "      <td>46.400000</td>\n",
       "    </tr>\n",
       "    <tr>\n",
       "      <th>50%</th>\n",
       "      <td>29.000000</td>\n",
       "      <td>1.209720e+06</td>\n",
       "      <td>4.000000</td>\n",
       "      <td>9.000000</td>\n",
       "      <td>0.000000</td>\n",
       "      <td>48.580000</td>\n",
       "    </tr>\n",
       "    <tr>\n",
       "      <th>75%</th>\n",
       "      <td>44.000000</td>\n",
       "      <td>1.576330e+06</td>\n",
       "      <td>8.000000</td>\n",
       "      <td>13.000000</td>\n",
       "      <td>1.000000</td>\n",
       "      <td>49.470000</td>\n",
       "    </tr>\n",
       "    <tr>\n",
       "      <th>max</th>\n",
       "      <td>54.000000</td>\n",
       "      <td>2.127114e+06</td>\n",
       "      <td>3952.000000</td>\n",
       "      <td>17.000000</td>\n",
       "      <td>1.000000</td>\n",
       "      <td>50.210000</td>\n",
       "    </tr>\n",
       "  </tbody>\n",
       "</table>\n",
       "</div>"
      ],
      "text/plain": [
       "           store_nbr      item_nbr     unit_sales        cluster  \\\n",
       "count  336867.000000  3.368670e+05  336867.000000  336867.000000   \n",
       "mean       28.313305  1.170498e+06       8.043790       8.709102   \n",
       "std        16.309769  5.868558e+05      22.929827       4.563188   \n",
       "min         1.000000  9.699500e+04     -36.000000       1.000000   \n",
       "25%        13.000000  6.925310e+05       2.000000       5.000000   \n",
       "50%        29.000000  1.209720e+06       4.000000       9.000000   \n",
       "75%        44.000000  1.576330e+06       8.000000      13.000000   \n",
       "max        54.000000  2.127114e+06    3952.000000      17.000000   \n",
       "\n",
       "          perishable     dcoilwtico  \n",
       "count  336867.000000  336867.000000  \n",
       "mean        0.258402      48.146043  \n",
       "std         0.437757       1.467865  \n",
       "min         0.000000      45.780000  \n",
       "25%         0.000000      46.400000  \n",
       "50%         0.000000      48.580000  \n",
       "75%         1.000000      49.470000  \n",
       "max         1.000000      50.210000  "
      ]
     },
     "execution_count": 14,
     "metadata": {},
     "output_type": "execute_result"
    }
   ],
   "source": [
    "#Shape\n",
    "print('Shape : ', Salesdf.shape, '\\n')\n",
    "\n",
    "#Type\n",
    "print('Type : ', '\\n', Salesdf.dtypes)\n",
    "\n",
    "#Summary\n",
    "Salesdf.describe()"
   ]
  },
  {
   "cell_type": "code",
   "execution_count": 15,
   "metadata": {},
   "outputs": [
    {
     "data": {
      "text/html": [
       "<div>\n",
       "<style scoped>\n",
       "    .dataframe tbody tr th:only-of-type {\n",
       "        vertical-align: middle;\n",
       "    }\n",
       "\n",
       "    .dataframe tbody tr th {\n",
       "        vertical-align: top;\n",
       "    }\n",
       "\n",
       "    .dataframe thead th {\n",
       "        text-align: right;\n",
       "    }\n",
       "</style>\n",
       "<table border=\"1\" class=\"dataframe\">\n",
       "  <thead>\n",
       "    <tr style=\"text-align: right;\">\n",
       "      <th></th>\n",
       "      <th>date</th>\n",
       "      <th>store_nbr</th>\n",
       "      <th>item_nbr</th>\n",
       "      <th>unit_sales</th>\n",
       "      <th>onpromotion</th>\n",
       "      <th>city</th>\n",
       "      <th>type_x</th>\n",
       "      <th>cluster</th>\n",
       "      <th>family</th>\n",
       "      <th>perishable</th>\n",
       "      <th>type_y</th>\n",
       "      <th>locale</th>\n",
       "      <th>transferred</th>\n",
       "      <th>dcoilwtico</th>\n",
       "    </tr>\n",
       "  </thead>\n",
       "  <tbody>\n",
       "    <tr>\n",
       "      <th>220265</th>\n",
       "      <td>2017-07-29</td>\n",
       "      <td>13</td>\n",
       "      <td>1239908</td>\n",
       "      <td>6.0</td>\n",
       "      <td>False</td>\n",
       "      <td>Latacunga</td>\n",
       "      <td>C</td>\n",
       "      <td>15</td>\n",
       "      <td>DAIRY</td>\n",
       "      <td>1</td>\n",
       "      <td>NaN</td>\n",
       "      <td>NaN</td>\n",
       "      <td>NaN</td>\n",
       "      <td>49.9650</td>\n",
       "    </tr>\n",
       "    <tr>\n",
       "      <th>230155</th>\n",
       "      <td>2017-07-30</td>\n",
       "      <td>41</td>\n",
       "      <td>890825</td>\n",
       "      <td>1.0</td>\n",
       "      <td>False</td>\n",
       "      <td>Machala</td>\n",
       "      <td>D</td>\n",
       "      <td>4</td>\n",
       "      <td>GROCERY I</td>\n",
       "      <td>0</td>\n",
       "      <td>NaN</td>\n",
       "      <td>NaN</td>\n",
       "      <td>NaN</td>\n",
       "      <td>50.0875</td>\n",
       "    </tr>\n",
       "    <tr>\n",
       "      <th>99418</th>\n",
       "      <td>2017-07-29</td>\n",
       "      <td>23</td>\n",
       "      <td>1909483</td>\n",
       "      <td>2.0</td>\n",
       "      <td>False</td>\n",
       "      <td>Ambato</td>\n",
       "      <td>D</td>\n",
       "      <td>9</td>\n",
       "      <td>HOME AND KITCHEN II</td>\n",
       "      <td>0</td>\n",
       "      <td>NaN</td>\n",
       "      <td>NaN</td>\n",
       "      <td>NaN</td>\n",
       "      <td>49.9650</td>\n",
       "    </tr>\n",
       "    <tr>\n",
       "      <th>19077</th>\n",
       "      <td>2017-08-02</td>\n",
       "      <td>20</td>\n",
       "      <td>1463783</td>\n",
       "      <td>2.0</td>\n",
       "      <td>False</td>\n",
       "      <td>Quito</td>\n",
       "      <td>B</td>\n",
       "      <td>6</td>\n",
       "      <td>BEVERAGES</td>\n",
       "      <td>0</td>\n",
       "      <td>NaN</td>\n",
       "      <td>NaN</td>\n",
       "      <td>NaN</td>\n",
       "      <td>49.6000</td>\n",
       "    </tr>\n",
       "    <tr>\n",
       "      <th>114306</th>\n",
       "      <td>2017-07-31</td>\n",
       "      <td>13</td>\n",
       "      <td>1373037</td>\n",
       "      <td>2.0</td>\n",
       "      <td>False</td>\n",
       "      <td>Latacunga</td>\n",
       "      <td>C</td>\n",
       "      <td>15</td>\n",
       "      <td>HOME AND KITCHEN II</td>\n",
       "      <td>0</td>\n",
       "      <td>NaN</td>\n",
       "      <td>NaN</td>\n",
       "      <td>NaN</td>\n",
       "      <td>50.2100</td>\n",
       "    </tr>\n",
       "    <tr>\n",
       "      <th>287861</th>\n",
       "      <td>2017-08-12</td>\n",
       "      <td>53</td>\n",
       "      <td>936994</td>\n",
       "      <td>6.0</td>\n",
       "      <td>False</td>\n",
       "      <td>Manta</td>\n",
       "      <td>D</td>\n",
       "      <td>13</td>\n",
       "      <td>GROCERY I</td>\n",
       "      <td>0</td>\n",
       "      <td>NaN</td>\n",
       "      <td>NaN</td>\n",
       "      <td>NaN</td>\n",
       "      <td>48.2000</td>\n",
       "    </tr>\n",
       "    <tr>\n",
       "      <th>275581</th>\n",
       "      <td>2017-07-20</td>\n",
       "      <td>9</td>\n",
       "      <td>2047752</td>\n",
       "      <td>6.0</td>\n",
       "      <td>False</td>\n",
       "      <td>Quito</td>\n",
       "      <td>B</td>\n",
       "      <td>6</td>\n",
       "      <td>CLEANING</td>\n",
       "      <td>0</td>\n",
       "      <td>NaN</td>\n",
       "      <td>NaN</td>\n",
       "      <td>NaN</td>\n",
       "      <td>46.7300</td>\n",
       "    </tr>\n",
       "    <tr>\n",
       "      <th>100110</th>\n",
       "      <td>2017-08-14</td>\n",
       "      <td>40</td>\n",
       "      <td>788172</td>\n",
       "      <td>3.0</td>\n",
       "      <td>False</td>\n",
       "      <td>Machala</td>\n",
       "      <td>C</td>\n",
       "      <td>3</td>\n",
       "      <td>CLEANING</td>\n",
       "      <td>0</td>\n",
       "      <td>NaN</td>\n",
       "      <td>NaN</td>\n",
       "      <td>NaN</td>\n",
       "      <td>47.5900</td>\n",
       "    </tr>\n",
       "    <tr>\n",
       "      <th>34409</th>\n",
       "      <td>2017-07-26</td>\n",
       "      <td>42</td>\n",
       "      <td>1012788</td>\n",
       "      <td>2.0</td>\n",
       "      <td>False</td>\n",
       "      <td>Cuenca</td>\n",
       "      <td>D</td>\n",
       "      <td>2</td>\n",
       "      <td>GROCERY I</td>\n",
       "      <td>0</td>\n",
       "      <td>NaN</td>\n",
       "      <td>NaN</td>\n",
       "      <td>NaN</td>\n",
       "      <td>48.5800</td>\n",
       "    </tr>\n",
       "    <tr>\n",
       "      <th>207282</th>\n",
       "      <td>2017-08-09</td>\n",
       "      <td>34</td>\n",
       "      <td>255161</td>\n",
       "      <td>1.0</td>\n",
       "      <td>True</td>\n",
       "      <td>Guayaquil</td>\n",
       "      <td>B</td>\n",
       "      <td>6</td>\n",
       "      <td>GROCERY I</td>\n",
       "      <td>0</td>\n",
       "      <td>NaN</td>\n",
       "      <td>NaN</td>\n",
       "      <td>NaN</td>\n",
       "      <td>49.5900</td>\n",
       "    </tr>\n",
       "  </tbody>\n",
       "</table>\n",
       "</div>"
      ],
      "text/plain": [
       "              date  store_nbr  item_nbr  unit_sales onpromotion       city  \\\n",
       "220265  2017-07-29         13   1239908         6.0       False  Latacunga   \n",
       "230155  2017-07-30         41    890825         1.0       False    Machala   \n",
       "99418   2017-07-29         23   1909483         2.0       False     Ambato   \n",
       "19077   2017-08-02         20   1463783         2.0       False      Quito   \n",
       "114306  2017-07-31         13   1373037         2.0       False  Latacunga   \n",
       "287861  2017-08-12         53    936994         6.0       False      Manta   \n",
       "275581  2017-07-20          9   2047752         6.0       False      Quito   \n",
       "100110  2017-08-14         40    788172         3.0       False    Machala   \n",
       "34409   2017-07-26         42   1012788         2.0       False     Cuenca   \n",
       "207282  2017-08-09         34    255161         1.0        True  Guayaquil   \n",
       "\n",
       "       type_x  cluster               family  perishable type_y locale  \\\n",
       "220265      C       15                DAIRY           1    NaN    NaN   \n",
       "230155      D        4            GROCERY I           0    NaN    NaN   \n",
       "99418       D        9  HOME AND KITCHEN II           0    NaN    NaN   \n",
       "19077       B        6            BEVERAGES           0    NaN    NaN   \n",
       "114306      C       15  HOME AND KITCHEN II           0    NaN    NaN   \n",
       "287861      D       13            GROCERY I           0    NaN    NaN   \n",
       "275581      B        6             CLEANING           0    NaN    NaN   \n",
       "100110      C        3             CLEANING           0    NaN    NaN   \n",
       "34409       D        2            GROCERY I           0    NaN    NaN   \n",
       "207282      B        6            GROCERY I           0    NaN    NaN   \n",
       "\n",
       "       transferred  dcoilwtico  \n",
       "220265         NaN     49.9650  \n",
       "230155         NaN     50.0875  \n",
       "99418          NaN     49.9650  \n",
       "19077          NaN     49.6000  \n",
       "114306         NaN     50.2100  \n",
       "287861         NaN     48.2000  \n",
       "275581         NaN     46.7300  \n",
       "100110         NaN     47.5900  \n",
       "34409          NaN     48.5800  \n",
       "207282         NaN     49.5900  "
      ]
     },
     "execution_count": 15,
     "metadata": {},
     "output_type": "execute_result"
    }
   ],
   "source": [
    "#5 random lines\n",
    "Salesdf.sample(10)"
   ]
  },
  {
   "cell_type": "code",
   "execution_count": 16,
   "metadata": {},
   "outputs": [
    {
     "name": "stderr",
     "output_type": "stream",
     "text": [
      "C:\\ProgramData\\Anaconda3\\lib\\site-packages\\seaborn\\categorical.py:1460: FutureWarning: remove_na is deprecated and is a private function. Do not use.\n",
      "  stat_data = remove_na(group_data)\n"
     ]
    },
    {
     "data": {
      "image/png": "[encoded data removed]",
      "text/plain": [
       "<matplotlib.figure.Figure at 0x1d786708e80>"
      ]
     },
     "metadata": {},
     "output_type": "display_data"
    }
   ],
   "source": [
    "sns.countplot(x='store_nbr', data=Salesdf);"
   ]
  },
  {
   "cell_type": "markdown",
   "metadata": {},
   "source": [
    "##### The the above plot shows the number of stores according to each store type."
   ]
  },
  {
   "cell_type": "code",
   "execution_count": 17,
   "metadata": {
    "scrolled": true
   },
   "outputs": [
    {
     "data": {
      "text/plain": [
       "<bound method Series.unique of 0          633977\n",
       "1         1991151\n",
       "2          968935\n",
       "3         1909453\n",
       "4         1695875\n",
       "5          884878\n",
       "6          322095\n",
       "7          915980\n",
       "8          939131\n",
       "9         2013621\n",
       "10         838216\n",
       "11        1146783\n",
       "12        1473428\n",
       "13         940590\n",
       "14         938126\n",
       "15        2027777\n",
       "16         916886\n",
       "17        1660194\n",
       "18         404334\n",
       "19         214381\n",
       "20        1114761\n",
       "21         414426\n",
       "22        2035581\n",
       "23         513855\n",
       "24        2010766\n",
       "25        1473511\n",
       "26        1112840\n",
       "27        1037857\n",
       "28         769312\n",
       "29         510054\n",
       "           ...   \n",
       "336837    1987383\n",
       "336838     273528\n",
       "336839     315320\n",
       "336840    1473476\n",
       "336841    1321497\n",
       "336842     872317\n",
       "336843    1456881\n",
       "336844    1967038\n",
       "336845     552050\n",
       "336846    1695848\n",
       "336847     839362\n",
       "336848     979197\n",
       "336849     360705\n",
       "336850    1920284\n",
       "336851    1464088\n",
       "336852    1281011\n",
       "336853     957096\n",
       "336854    1914786\n",
       "336855    1153584\n",
       "336856     812751\n",
       "336857    1986680\n",
       "336858    2048358\n",
       "336859    1150362\n",
       "336860    1367273\n",
       "336861     557285\n",
       "336862    1070962\n",
       "336863    1347811\n",
       "336864    1456916\n",
       "336865    1471462\n",
       "336866     671079\n",
       "Name: item_nbr, Length: 336867, dtype: int64>"
      ]
     },
     "execution_count": 17,
     "metadata": {},
     "output_type": "execute_result"
    }
   ],
   "source": [
    "Salesdf.item_nbr.unique"
   ]
  },
  {
   "cell_type": "code",
   "execution_count": 18,
   "metadata": {},
   "outputs": [
    {
     "data": {
      "text/plain": [
       "array([[1254013,     203],\n",
       "       [2042947,     195],\n",
       "       [ 847863,     190],\n",
       "       ..., \n",
       "       [1047709,       1],\n",
       "       [2011032,       1],\n",
       "       [1360013,       1]], dtype=int64)"
      ]
     },
     "execution_count": 18,
     "metadata": {},
     "output_type": "execute_result"
    }
   ],
   "source": [
    "x=itemfreq(Salesdf.item_nbr)\n",
    "x=x[x[:,1].argsort()[::-1]]\n",
    "x"
   ]
  },
  {
   "cell_type": "code",
   "execution_count": 19,
   "metadata": {},
   "outputs": [
    {
     "data": {
      "text/plain": [
       "array([1254013, 2042947,  847863, 1473475, 1489899,  115894,  273528,\n",
       "       1342003, 1157329, 1080021], dtype=int64)"
      ]
     },
     "execution_count": 19,
     "metadata": {},
     "output_type": "execute_result"
    }
   ],
   "source": [
    "x[:,0][0:10]"
   ]
  },
  {
   "cell_type": "code",
   "execution_count": 20,
   "metadata": {},
   "outputs": [
    {
     "data": {
      "text/plain": [
       "array([ 633977, 1991151,  968935, ..., 1456916, 1471462,  671079], dtype=int64)"
      ]
     },
     "execution_count": 20,
     "metadata": {},
     "output_type": "execute_result"
    }
   ],
   "source": [
    "s=Salesdf.item_nbr.as_matrix()\n",
    "s"
   ]
  },
  {
   "cell_type": "code",
   "execution_count": 21,
   "metadata": {},
   "outputs": [
    {
     "data": {
      "text/plain": [
       "array([[ 633977],\n",
       "       [1991151],\n",
       "       [ 968935],\n",
       "       ..., \n",
       "       [1456916],\n",
       "       [1471462],\n",
       "       [ 671079]], dtype=int64)"
      ]
     },
     "execution_count": 21,
     "metadata": {},
     "output_type": "execute_result"
    }
   ],
   "source": [
    "t=s.reshape(s.shape[0],1)\n",
    "t"
   ]
  },
  {
   "cell_type": "code",
   "execution_count": 22,
   "metadata": {},
   "outputs": [
    {
     "name": "stderr",
     "output_type": "stream",
     "text": [
      "C:\\ProgramData\\Anaconda3\\lib\\site-packages\\ipykernel_launcher.py:1: DeprecationWarning: elementwise == comparison failed; this will raise an error in the future.\n",
      "  \"\"\"Entry point for launching an IPython kernel.\n"
     ]
    },
    {
     "data": {
      "text/plain": [
       "(array([], dtype=int64),)"
      ]
     },
     "execution_count": 22,
     "metadata": {},
     "output_type": "execute_result"
    }
   ],
   "source": [
    "t1=np.where(t==x)\n",
    "t1"
   ]
  },
  {
   "cell_type": "markdown",
   "metadata": {},
   "source": [
    "# 7. Product Purchase Trend"
   ]
  },
  {
   "cell_type": "markdown",
   "metadata": {},
   "source": [
    "##  7.a. Fetching the N most purchased products"
   ]
  },
  {
   "cell_type": "code",
   "execution_count": 23,
   "metadata": {
    "scrolled": true
   },
   "outputs": [
    {
     "name": "stdout",
     "output_type": "stream",
     "text": [
      "labels_filtered_index[0].shape =  (3735,)\n"
     ]
    }
   ],
   "source": [
    "#Fetching the N most purchased products#\n",
    "def N_most_labels(data, variable , N , all='TRUE'):\n",
    "    labels_freq_pd = itemfreq(data[variable])\n",
    "    labels_freq_pd = labels_freq_pd[labels_freq_pd[:, 1].argsort()[::-1]] #[::-1] ==> to sort in descending order\n",
    "    \n",
    "    if all == 'FALSE':\n",
    "        main_labels = labels_freq_pd[:,0][0:N]\n",
    "    else: \n",
    "        main_labels = labels_freq_pd[:,0][:]\n",
    "        \n",
    "    labels_raw_np = data[variable].as_matrix() #transform in numpy\n",
    "    labels_raw_np = labels_raw_np.reshape(labels_raw_np.shape[0],1)\n",
    "\n",
    "    labels_filtered_index = np.where(labels_raw_np == main_labels)\n",
    "    \n",
    "    return labels_freq_pd, labels_filtered_index\n",
    "\n",
    "label_freq, labels_filtered_index = N_most_labels(data = Salesdf, variable = \"item_nbr\", N = 20, all='FALSE')\n",
    "print(\"labels_filtered_index[0].shape = \", labels_filtered_index[0].shape)\n",
    "\n",
    "Salesdf_filtered = Salesdf.loc[labels_filtered_index[0],:]\n"
   ]
  },
  {
   "cell_type": "markdown",
   "metadata": {},
   "source": [
    "The number of most purchased products gives us the idea of looking for the sales for those products."
   ]
  },
  {
   "cell_type": "markdown",
   "metadata": {},
   "source": [
    "The code in the document by Source Kaggle is licensed under the MIT License https://opensource.org/licenses/MIT"
   ]
  },
  {
   "cell_type": "code",
   "execution_count": 24,
   "metadata": {
    "scrolled": true
   },
   "outputs": [
    {
     "data": {
      "text/plain": [
       "array([[1254013,     203],\n",
       "       [2042947,     195],\n",
       "       [ 847863,     190],\n",
       "       [1473475,     189],\n",
       "       [1489899,     189],\n",
       "       [ 115894,     188],\n",
       "       [ 273528,     187],\n",
       "       [1342003,     186],\n",
       "       [1157329,     186],\n",
       "       [1080021,     186]], dtype=int64)"
      ]
     },
     "execution_count": 24,
     "metadata": {},
     "output_type": "execute_result"
    }
   ],
   "source": [
    "label_freq[0:10]"
   ]
  },
  {
   "cell_type": "code",
   "execution_count": 25,
   "metadata": {},
   "outputs": [
    {
     "data": {
      "text/html": [
       "<div>\n",
       "<style scoped>\n",
       "    .dataframe tbody tr th:only-of-type {\n",
       "        vertical-align: middle;\n",
       "    }\n",
       "\n",
       "    .dataframe tbody tr th {\n",
       "        vertical-align: top;\n",
       "    }\n",
       "\n",
       "    .dataframe thead th {\n",
       "        text-align: right;\n",
       "    }\n",
       "</style>\n",
       "<table border=\"1\" class=\"dataframe\">\n",
       "  <thead>\n",
       "    <tr style=\"text-align: right;\">\n",
       "      <th></th>\n",
       "      <th>date</th>\n",
       "      <th>store_nbr</th>\n",
       "      <th>item_nbr</th>\n",
       "      <th>unit_sales</th>\n",
       "      <th>onpromotion</th>\n",
       "      <th>city</th>\n",
       "      <th>type_x</th>\n",
       "      <th>cluster</th>\n",
       "      <th>family</th>\n",
       "      <th>perishable</th>\n",
       "      <th>type_y</th>\n",
       "      <th>locale</th>\n",
       "      <th>transferred</th>\n",
       "      <th>dcoilwtico</th>\n",
       "    </tr>\n",
       "  </thead>\n",
       "  <tbody>\n",
       "    <tr>\n",
       "      <th>20977</th>\n",
       "      <td>2017-07-19</td>\n",
       "      <td>13</td>\n",
       "      <td>1489899</td>\n",
       "      <td>1.0</td>\n",
       "      <td>False</td>\n",
       "      <td>Latacunga</td>\n",
       "      <td>C</td>\n",
       "      <td>15</td>\n",
       "      <td>PRODUCE</td>\n",
       "      <td>1</td>\n",
       "      <td>NaN</td>\n",
       "      <td>NaN</td>\n",
       "      <td>NaN</td>\n",
       "      <td>47.100</td>\n",
       "    </tr>\n",
       "    <tr>\n",
       "      <th>74654</th>\n",
       "      <td>2017-07-22</td>\n",
       "      <td>11</td>\n",
       "      <td>581078</td>\n",
       "      <td>22.0</td>\n",
       "      <td>False</td>\n",
       "      <td>Cayambe</td>\n",
       "      <td>B</td>\n",
       "      <td>6</td>\n",
       "      <td>CLEANING</td>\n",
       "      <td>0</td>\n",
       "      <td>NaN</td>\n",
       "      <td>NaN</td>\n",
       "      <td>NaN</td>\n",
       "      <td>45.995</td>\n",
       "    </tr>\n",
       "    <tr>\n",
       "      <th>91572</th>\n",
       "      <td>2017-08-10</td>\n",
       "      <td>32</td>\n",
       "      <td>1254013</td>\n",
       "      <td>5.0</td>\n",
       "      <td>False</td>\n",
       "      <td>Guayaquil</td>\n",
       "      <td>C</td>\n",
       "      <td>3</td>\n",
       "      <td>PERSONAL CARE</td>\n",
       "      <td>0</td>\n",
       "      <td>Holiday</td>\n",
       "      <td>National</td>\n",
       "      <td>True</td>\n",
       "      <td>48.540</td>\n",
       "    </tr>\n",
       "  </tbody>\n",
       "</table>\n",
       "</div>"
      ],
      "text/plain": [
       "             date  store_nbr  item_nbr  unit_sales onpromotion       city  \\\n",
       "20977  2017-07-19         13   1489899         1.0       False  Latacunga   \n",
       "74654  2017-07-22         11    581078        22.0       False    Cayambe   \n",
       "91572  2017-08-10         32   1254013         5.0       False  Guayaquil   \n",
       "\n",
       "      type_x  cluster         family  perishable   type_y    locale  \\\n",
       "20977      C       15        PRODUCE           1      NaN       NaN   \n",
       "74654      B        6       CLEANING           0      NaN       NaN   \n",
       "91572      C        3  PERSONAL CARE           0  Holiday  National   \n",
       "\n",
       "      transferred  dcoilwtico  \n",
       "20977         NaN      47.100  \n",
       "74654         NaN      45.995  \n",
       "91572        True      48.540  "
      ]
     },
     "execution_count": 25,
     "metadata": {},
     "output_type": "execute_result"
    }
   ],
   "source": [
    "Salesdf_filtered.sample(3)"
   ]
  },
  {
   "cell_type": "code",
   "execution_count": 26,
   "metadata": {},
   "outputs": [
    {
     "name": "stdout",
     "output_type": "stream",
     "text": [
      "Size of na_index_Salesdf :  2933 \n",
      "\n"
     ]
    },
    {
     "data": {
      "text/plain": [
       "date           0\n",
       "store_nbr      0\n",
       "item_nbr       0\n",
       "unit_sales     0\n",
       "onpromotion    0\n",
       "city           0\n",
       "type_x         0\n",
       "cluster        0\n",
       "family         0\n",
       "perishable     0\n",
       "type_y         0\n",
       "locale         0\n",
       "transferred    0\n",
       "dcoilwtico     0\n",
       "dtype: int64"
      ]
     },
     "execution_count": 26,
     "metadata": {},
     "output_type": "execute_result"
    }
   ],
   "source": [
    "#Fill in cells if there is no holiday by the value : \"no_holyday\"\n",
    "na_index_Salesdf = Salesdf_filtered[Salesdf_filtered['type_y'].isnull() == True].index.values\n",
    "print(\"Size of na_index_Salesdf : \", len(na_index_Salesdf), '\\n')\n",
    "\n",
    "Salesdf_filtered.loc[Salesdf_filtered['type_y'].isnull(), 'type_y'] = \"no_holyday\"\n",
    "Salesdf_filtered.loc[Salesdf_filtered['locale'].isnull(), 'locale'] = \"no_locale\"\n",
    "Salesdf_filtered.loc[Salesdf_filtered['transferred'].isnull(), 'transferred'] = \"no_holyday\"\n",
    "    \n",
    "#check is there is NA\n",
    "Salesdf_filtered.isnull().sum()"
   ]
  },
  {
   "cell_type": "code",
   "execution_count": 27,
   "metadata": {
    "collapsed": true
   },
   "outputs": [],
   "source": [
    "def get_month_year(df):\n",
    "    df['month'] = df.date.apply(lambda x: x.split('-')[1])\n",
    "    df['year'] = df.date.apply(lambda x: x.split('-')[0])\n",
    "    \n",
    "    return df\n",
    "\n",
    "get_month_year(Salesdf_filtered);"
   ]
  },
  {
   "cell_type": "code",
   "execution_count": 28,
   "metadata": {
    "collapsed": true
   },
   "outputs": [],
   "source": [
    "Salesdf_filtered['date'] = pd.to_datetime(Salesdf_filtered['date'])\n",
    "Salesdf_filtered['day'] = Salesdf_filtered['date'].dt.weekday_name\n",
    "Salesdf_filtered = Salesdf_filtered.drop('date', axis=1)"
   ]
  },
  {
   "cell_type": "code",
   "execution_count": 29,
   "metadata": {},
   "outputs": [
    {
     "data": {
      "text/html": [
       "<div>\n",
       "<style scoped>\n",
       "    .dataframe tbody tr th:only-of-type {\n",
       "        vertical-align: middle;\n",
       "    }\n",
       "\n",
       "    .dataframe tbody tr th {\n",
       "        vertical-align: top;\n",
       "    }\n",
       "\n",
       "    .dataframe thead th {\n",
       "        text-align: right;\n",
       "    }\n",
       "</style>\n",
       "<table border=\"1\" class=\"dataframe\">\n",
       "  <thead>\n",
       "    <tr style=\"text-align: right;\">\n",
       "      <th></th>\n",
       "      <th>store_nbr</th>\n",
       "      <th>item_nbr</th>\n",
       "      <th>unit_sales</th>\n",
       "      <th>onpromotion</th>\n",
       "      <th>city</th>\n",
       "      <th>type_x</th>\n",
       "      <th>cluster</th>\n",
       "      <th>family</th>\n",
       "      <th>perishable</th>\n",
       "      <th>type_y</th>\n",
       "      <th>locale</th>\n",
       "      <th>transferred</th>\n",
       "      <th>dcoilwtico</th>\n",
       "      <th>month</th>\n",
       "      <th>year</th>\n",
       "      <th>day</th>\n",
       "    </tr>\n",
       "  </thead>\n",
       "  <tbody>\n",
       "    <tr>\n",
       "      <th>215670</th>\n",
       "      <td>46</td>\n",
       "      <td>1146785</td>\n",
       "      <td>21.000</td>\n",
       "      <td>False</td>\n",
       "      <td>Quito</td>\n",
       "      <td>A</td>\n",
       "      <td>14</td>\n",
       "      <td>GROCERY I</td>\n",
       "      <td>0</td>\n",
       "      <td>no_holyday</td>\n",
       "      <td>no_locale</td>\n",
       "      <td>no_holyday</td>\n",
       "      <td>48.2000</td>\n",
       "      <td>08</td>\n",
       "      <td>2017</td>\n",
       "      <td>Saturday</td>\n",
       "    </tr>\n",
       "    <tr>\n",
       "      <th>110589</th>\n",
       "      <td>20</td>\n",
       "      <td>1087269</td>\n",
       "      <td>38.000</td>\n",
       "      <td>True</td>\n",
       "      <td>Quito</td>\n",
       "      <td>B</td>\n",
       "      <td>6</td>\n",
       "      <td>PERSONAL CARE</td>\n",
       "      <td>0</td>\n",
       "      <td>no_holyday</td>\n",
       "      <td>no_locale</td>\n",
       "      <td>no_holyday</td>\n",
       "      <td>49.6000</td>\n",
       "      <td>08</td>\n",
       "      <td>2017</td>\n",
       "      <td>Wednesday</td>\n",
       "    </tr>\n",
       "    <tr>\n",
       "      <th>180340</th>\n",
       "      <td>49</td>\n",
       "      <td>2042947</td>\n",
       "      <td>225.000</td>\n",
       "      <td>False</td>\n",
       "      <td>Quito</td>\n",
       "      <td>A</td>\n",
       "      <td>11</td>\n",
       "      <td>BEVERAGES</td>\n",
       "      <td>0</td>\n",
       "      <td>no_holyday</td>\n",
       "      <td>no_locale</td>\n",
       "      <td>no_holyday</td>\n",
       "      <td>46.0200</td>\n",
       "      <td>07</td>\n",
       "      <td>2017</td>\n",
       "      <td>Monday</td>\n",
       "    </tr>\n",
       "    <tr>\n",
       "      <th>286490</th>\n",
       "      <td>31</td>\n",
       "      <td>1473475</td>\n",
       "      <td>15.848</td>\n",
       "      <td>False</td>\n",
       "      <td>Babahoyo</td>\n",
       "      <td>B</td>\n",
       "      <td>10</td>\n",
       "      <td>PRODUCE</td>\n",
       "      <td>1</td>\n",
       "      <td>no_holyday</td>\n",
       "      <td>no_locale</td>\n",
       "      <td>no_holyday</td>\n",
       "      <td>46.0200</td>\n",
       "      <td>07</td>\n",
       "      <td>2017</td>\n",
       "      <td>Saturday</td>\n",
       "    </tr>\n",
       "    <tr>\n",
       "      <th>288516</th>\n",
       "      <td>16</td>\n",
       "      <td>1080021</td>\n",
       "      <td>1.000</td>\n",
       "      <td>False</td>\n",
       "      <td>Santo Domingo</td>\n",
       "      <td>C</td>\n",
       "      <td>3</td>\n",
       "      <td>GROCERY I</td>\n",
       "      <td>0</td>\n",
       "      <td>no_holyday</td>\n",
       "      <td>no_locale</td>\n",
       "      <td>no_holyday</td>\n",
       "      <td>47.1000</td>\n",
       "      <td>07</td>\n",
       "      <td>2017</td>\n",
       "      <td>Wednesday</td>\n",
       "    </tr>\n",
       "    <tr>\n",
       "      <th>245710</th>\n",
       "      <td>28</td>\n",
       "      <td>1958181</td>\n",
       "      <td>15.000</td>\n",
       "      <td>False</td>\n",
       "      <td>Guayaquil</td>\n",
       "      <td>E</td>\n",
       "      <td>10</td>\n",
       "      <td>BEVERAGES</td>\n",
       "      <td>0</td>\n",
       "      <td>no_holyday</td>\n",
       "      <td>no_locale</td>\n",
       "      <td>no_holyday</td>\n",
       "      <td>49.9650</td>\n",
       "      <td>07</td>\n",
       "      <td>2017</td>\n",
       "      <td>Saturday</td>\n",
       "    </tr>\n",
       "    <tr>\n",
       "      <th>212031</th>\n",
       "      <td>52</td>\n",
       "      <td>1146785</td>\n",
       "      <td>2.000</td>\n",
       "      <td>False</td>\n",
       "      <td>Manta</td>\n",
       "      <td>A</td>\n",
       "      <td>11</td>\n",
       "      <td>GROCERY I</td>\n",
       "      <td>0</td>\n",
       "      <td>no_holyday</td>\n",
       "      <td>no_locale</td>\n",
       "      <td>no_holyday</td>\n",
       "      <td>46.0200</td>\n",
       "      <td>07</td>\n",
       "      <td>2017</td>\n",
       "      <td>Saturday</td>\n",
       "    </tr>\n",
       "    <tr>\n",
       "      <th>58369</th>\n",
       "      <td>25</td>\n",
       "      <td>273528</td>\n",
       "      <td>4.000</td>\n",
       "      <td>False</td>\n",
       "      <td>Salinas</td>\n",
       "      <td>D</td>\n",
       "      <td>1</td>\n",
       "      <td>PERSONAL CARE</td>\n",
       "      <td>0</td>\n",
       "      <td>no_holyday</td>\n",
       "      <td>no_locale</td>\n",
       "      <td>no_holyday</td>\n",
       "      <td>49.5700</td>\n",
       "      <td>08</td>\n",
       "      <td>2017</td>\n",
       "      <td>Friday</td>\n",
       "    </tr>\n",
       "    <tr>\n",
       "      <th>249646</th>\n",
       "      <td>10</td>\n",
       "      <td>1342003</td>\n",
       "      <td>16.000</td>\n",
       "      <td>False</td>\n",
       "      <td>Quito</td>\n",
       "      <td>C</td>\n",
       "      <td>15</td>\n",
       "      <td>GROCERY I</td>\n",
       "      <td>0</td>\n",
       "      <td>no_holyday</td>\n",
       "      <td>no_locale</td>\n",
       "      <td>no_holyday</td>\n",
       "      <td>50.0875</td>\n",
       "      <td>07</td>\n",
       "      <td>2017</td>\n",
       "      <td>Sunday</td>\n",
       "    </tr>\n",
       "    <tr>\n",
       "      <th>23922</th>\n",
       "      <td>53</td>\n",
       "      <td>2042947</td>\n",
       "      <td>223.000</td>\n",
       "      <td>True</td>\n",
       "      <td>Manta</td>\n",
       "      <td>D</td>\n",
       "      <td>13</td>\n",
       "      <td>BEVERAGES</td>\n",
       "      <td>0</td>\n",
       "      <td>no_holyday</td>\n",
       "      <td>no_locale</td>\n",
       "      <td>no_holyday</td>\n",
       "      <td>50.0875</td>\n",
       "      <td>07</td>\n",
       "      <td>2017</td>\n",
       "      <td>Sunday</td>\n",
       "    </tr>\n",
       "  </tbody>\n",
       "</table>\n",
       "</div>"
      ],
      "text/plain": [
       "        store_nbr  item_nbr  unit_sales onpromotion           city type_x  \\\n",
       "215670         46   1146785      21.000       False          Quito      A   \n",
       "110589         20   1087269      38.000        True          Quito      B   \n",
       "180340         49   2042947     225.000       False          Quito      A   \n",
       "286490         31   1473475      15.848       False       Babahoyo      B   \n",
       "288516         16   1080021       1.000       False  Santo Domingo      C   \n",
       "245710         28   1958181      15.000       False      Guayaquil      E   \n",
       "212031         52   1146785       2.000       False          Manta      A   \n",
       "58369          25    273528       4.000       False        Salinas      D   \n",
       "249646         10   1342003      16.000       False          Quito      C   \n",
       "23922          53   2042947     223.000        True          Manta      D   \n",
       "\n",
       "        cluster         family  perishable      type_y     locale transferred  \\\n",
       "215670       14      GROCERY I           0  no_holyday  no_locale  no_holyday   \n",
       "110589        6  PERSONAL CARE           0  no_holyday  no_locale  no_holyday   \n",
       "180340       11      BEVERAGES           0  no_holyday  no_locale  no_holyday   \n",
       "286490       10        PRODUCE           1  no_holyday  no_locale  no_holyday   \n",
       "288516        3      GROCERY I           0  no_holyday  no_locale  no_holyday   \n",
       "245710       10      BEVERAGES           0  no_holyday  no_locale  no_holyday   \n",
       "212031       11      GROCERY I           0  no_holyday  no_locale  no_holyday   \n",
       "58369         1  PERSONAL CARE           0  no_holyday  no_locale  no_holyday   \n",
       "249646       15      GROCERY I           0  no_holyday  no_locale  no_holyday   \n",
       "23922        13      BEVERAGES           0  no_holyday  no_locale  no_holyday   \n",
       "\n",
       "        dcoilwtico month  year        day  \n",
       "215670     48.2000    08  2017   Saturday  \n",
       "110589     49.6000    08  2017  Wednesday  \n",
       "180340     46.0200    07  2017     Monday  \n",
       "286490     46.0200    07  2017   Saturday  \n",
       "288516     47.1000    07  2017  Wednesday  \n",
       "245710     49.9650    07  2017   Saturday  \n",
       "212031     46.0200    07  2017   Saturday  \n",
       "58369      49.5700    08  2017     Friday  \n",
       "249646     50.0875    07  2017     Sunday  \n",
       "23922      50.0875    07  2017     Sunday  "
      ]
     },
     "execution_count": 29,
     "metadata": {},
     "output_type": "execute_result"
    }
   ],
   "source": [
    "Salesdf_filtered.sample(10)"
   ]
  },
  {
   "cell_type": "code",
   "execution_count": 30,
   "metadata": {
    "collapsed": true
   },
   "outputs": [],
   "source": [
    "strain = Salesdf.sample(frac=0.01,replace=True)"
   ]
  },
  {
   "cell_type": "markdown",
   "metadata": {},
   "source": [
    "# 8. Exploratory Data Analysis"
   ]
  },
  {
   "cell_type": "code",
   "execution_count": 31,
   "metadata": {},
   "outputs": [
    {
     "name": "stderr",
     "output_type": "stream",
     "text": [
      "C:\\ProgramData\\Anaconda3\\lib\\site-packages\\seaborn\\categorical.py:1460: FutureWarning: remove_na is deprecated and is a private function. Do not use.\n",
      "  stat_data = remove_na(group_data)\n"
     ]
    },
    {
     "data": {
      "text/plain": [
       "<matplotlib.axes._subplots.AxesSubplot at 0x1d780cfeb00>"
      ]
     },
     "execution_count": 31,
     "metadata": {},
     "output_type": "execute_result"
    },
    {
     "data": {
      "image/png": "[encoded data removed]",
      "text/plain": [
       "<matplotlib.figure.Figure at 0x1d780d00240>"
      ]
     },
     "metadata": {},
     "output_type": "display_data"
    }
   ],
   "source": [
    "# Plotting Sales per Item Family\n",
    "fig, (axis1) = plt.subplots(1,1,figsize=(30,4))\n",
    "sns.barplot(x='family', y='unit_sales', data=strain, ax=axis1)"
   ]
  },
  {
   "cell_type": "markdown",
   "metadata": {},
   "source": [
    "##### The above plot shows the sales of products per Item family. The average unit_sales ranges somewhere between 0 to 20 with the maximum for the Food and Beverages item family."
   ]
  },
  {
   "cell_type": "code",
   "execution_count": 32,
   "metadata": {},
   "outputs": [
    {
     "name": "stderr",
     "output_type": "stream",
     "text": [
      "C:\\ProgramData\\Anaconda3\\lib\\site-packages\\seaborn\\categorical.py:1460: FutureWarning: remove_na is deprecated and is a private function. Do not use.\n",
      "  stat_data = remove_na(group_data)\n"
     ]
    },
    {
     "data": {
      "text/plain": [
       "<matplotlib.axes._subplots.AxesSubplot at 0x1d780d2ca20>"
      ]
     },
     "execution_count": 32,
     "metadata": {},
     "output_type": "execute_result"
    },
    {
     "data": {
      "image/png": "[encoded data removed]",
      "text/plain": [
       "<matplotlib.figure.Figure at 0x1d780d00908>"
      ]
     },
     "metadata": {},
     "output_type": "display_data"
    }
   ],
   "source": [
    "# Plotting Sales per Store Type\n",
    "fig, (axis1) = plt.subplots(1,1,figsize=(15,4))\n",
    "sns.barplot(x='type_x', y='unit_sales', data=strain, ax=axis1)"
   ]
  },
  {
   "cell_type": "markdown",
   "metadata": {},
   "source": [
    "##### The above bar plot of Total Sales per store type shows that Store type B has the maximum sales over other store types."
   ]
  },
  {
   "cell_type": "code",
   "execution_count": 33,
   "metadata": {},
   "outputs": [
    {
     "name": "stderr",
     "output_type": "stream",
     "text": [
      "C:\\ProgramData\\Anaconda3\\lib\\site-packages\\seaborn\\categorical.py:1460: FutureWarning: remove_na is deprecated and is a private function. Do not use.\n",
      "  stat_data = remove_na(group_data)\n"
     ]
    },
    {
     "data": {
      "text/plain": [
       "<matplotlib.axes._subplots.AxesSubplot at 0x1d780d00780>"
      ]
     },
     "execution_count": 33,
     "metadata": {},
     "output_type": "execute_result"
    },
    {
     "data": {
      "image/png": "[encoded data removed]",
      "text/plain": [
       "<matplotlib.figure.Figure at 0x1d7816910b8>"
      ]
     },
     "metadata": {},
     "output_type": "display_data"
    }
   ],
   "source": [
    "# Plotting Stores in Cities\n",
    "fig, (axis1) = plt.subplots(1,1,figsize=(30,4))\n",
    "sns.countplot(x=stores['city'], data=stores, ax=axis1)"
   ]
  },
  {
   "cell_type": "markdown",
   "metadata": {},
   "source": [
    "##### The above plots shows City of Quito has the most number of Stores and the second being the city of Guayaquil."
   ]
  },
  {
   "cell_type": "code",
   "execution_count": 34,
   "metadata": {},
   "outputs": [
    {
     "name": "stderr",
     "output_type": "stream",
     "text": [
      "C:\\ProgramData\\Anaconda3\\lib\\site-packages\\seaborn\\categorical.py:1460: FutureWarning: remove_na is deprecated and is a private function. Do not use.\n",
      "  stat_data = remove_na(group_data)\n"
     ]
    },
    {
     "data": {
      "text/plain": [
       "<matplotlib.axes._subplots.AxesSubplot at 0x1d781596860>"
      ]
     },
     "execution_count": 34,
     "metadata": {},
     "output_type": "execute_result"
    },
    {
     "data": {
      "image/png": "[encoded data removed]",
      "text/plain": [
       "<matplotlib.figure.Figure at 0x1d7815a0f28>"
      ]
     },
     "metadata": {},
     "output_type": "display_data"
    }
   ],
   "source": [
    "# Plotting Stores in States\n",
    "fig, (axis1) = plt.subplots(1,1,figsize=(30,4))\n",
    "sns.countplot(x=stores['state'], data=stores, ax=axis1)"
   ]
  },
  {
   "cell_type": "markdown",
   "metadata": {},
   "source": [
    "##### The above plot shows States of Pichincha Santo and the state of Guayas has the most number of Stores."
   ]
  },
  {
   "cell_type": "code",
   "execution_count": 35,
   "metadata": {},
   "outputs": [
    {
     "data": {
      "image/png": "[encoded data removed]",
      "text/plain": [
       "<matplotlib.figure.Figure at 0x1d781645978>"
      ]
     },
     "metadata": {},
     "output_type": "display_data"
    }
   ],
   "source": [
    "# Stacked Barplots of Types against clusters\n",
    "plt.style.use('seaborn-white')\n",
    "#plt.style.use('dark_background')\n",
    "type_cluster = stores.groupby(['type','cluster']).size()\n",
    "type_cluster.unstack().plot(kind='bar',stacked=True, colormap= 'PuBu', figsize=(13,11),  grid=False)\n",
    "plt.title('Stacked Barplot of Store types and their cluster distribution', fontsize=18)\n",
    "plt.ylabel('Count of clusters in a particular store type', fontsize=16)\n",
    "plt.xlabel('Store type', fontsize=16)\n",
    "plt.show()"
   ]
  },
  {
   "cell_type": "markdown",
   "metadata": {},
   "source": [
    "##### The above bar plot shows the cluster distribution across the store types."
   ]
  },
  {
   "cell_type": "code",
   "execution_count": 36,
   "metadata": {},
   "outputs": [
    {
     "data": {
      "image/png": "[encoded data removed]",
      "text/plain": [
       "<matplotlib.figure.Figure at 0x1d781649278>"
      ]
     },
     "metadata": {},
     "output_type": "display_data"
    }
   ],
   "source": [
    "# Stacked barplot of types of stores across the different cities\n",
    "plt.style.use('seaborn-white')\n",
    "city_cluster = stores.groupby(['city','type']).store_nbr.size()\n",
    "city_cluster.unstack().plot(kind='bar',stacked=True, colormap= 'viridis', figsize=(13,11),  grid=False)\n",
    "plt.title('Stacked Barplot of Store types opened for each city')\n",
    "plt.ylabel('Count of stores for a particular city')\n",
    "plt.show()"
   ]
  },
  {
   "cell_type": "code",
   "execution_count": 37,
   "metadata": {},
   "outputs": [
    {
     "data": {
      "image/png": "[encoded data removed]",
      "text/plain": [
       "<matplotlib.figure.Figure at 0x1d782a10588>"
      ]
     },
     "metadata": {},
     "output_type": "display_data"
    }
   ],
   "source": [
    "# Holiday Events data\n",
    "plt.style.use('seaborn-white')\n",
    "# plt.style.use('dark_background')\n",
    "holiday_local_type = holidays.groupby(['locale_name', 'type']).size()\n",
    "holiday_local_type.unstack().plot(kind='bar',stacked=True, colormap= 'magma_r', figsize=(12,10),  grid=False)\n",
    "plt.title('Stacked Barplot of locale name against event type')\n",
    "plt.ylabel('Count of entries')\n",
    "plt.show()"
   ]
  },
  {
   "cell_type": "markdown",
   "metadata": {},
   "source": [
    "# 9. Data Transformation Techniques"
   ]
  },
  {
   "cell_type": "markdown",
   "metadata": {},
   "source": [
    "## 9.a One hot Encoding"
   ]
  },
  {
   "cell_type": "markdown",
   "metadata": {},
   "source": [
    "### What is One Hot Encoding?\n",
    "A one hot encoding is a representation of categorical variables as binary vectors.\n",
    "This first requires that the categorical values be mapped to integer values.\n",
    "Then, each integer value is represented as a binary vector that is all zero values except the index of the integer, which is marked with a 1.\n",
    "\n",
    "### Why Use a One Hot Encoding?\n",
    "A one hot encoding allows the representation of categorical data to be more expressive.\n",
    "Many machine learning algorithms cannot work with categorical data directly. The categories must be converted into numbers. This is required for both input and output variables that are categorical.\n",
    "\n",
    "\n",
    "### The text in the document by Source Wikipedia is licensed under CC BY 3.0 https://creativecommons.org/licenses/by/3.0/us/\n"
   ]
  },
  {
   "cell_type": "code",
   "execution_count": 38,
   "metadata": {
    "collapsed": true
   },
   "outputs": [],
   "source": [
    "## One hot encoding using get_dummies on pandas dataframe.\n",
    "dummy_variables = ['onpromotion','city','type_x','cluster','store_nbr','item_nbr',\n",
    "                'family','perishable','type_y', 'locale', 'transferred', 'month', 'day']\n",
    "\n",
    "for var in dummy_variables:\n",
    "    dummy = pd.get_dummies(Salesdf_filtered[var], prefix = var, drop_first = False)\n",
    "    Salesdf_filtered = pd.concat([Salesdf_filtered, dummy], axis = 1)\n",
    "\n",
    "Salesdf_filtered = Salesdf_filtered.drop(dummy_variables, axis = 1)\n",
    "Salesdf_filtered = Salesdf_filtered.drop(['year'], axis = 1)"
   ]
  },
  {
   "cell_type": "code",
   "execution_count": 39,
   "metadata": {},
   "outputs": [
    {
     "name": "stdout",
     "output_type": "stream",
     "text": [
      "<class 'pandas.core.frame.DataFrame'>\n",
      "Int64Index: 3735 entries, 135 to 336838\n",
      "Columns: 149 entries, unit_sales to day_Wednesday\n",
      "dtypes: float64(2), uint8(147)\n",
      "memory usage: 623.7 KB\n"
     ]
    }
   ],
   "source": [
    "Salesdf_filtered.info()\n",
    "#Salesdf_filtered.sample(10)"
   ]
  },
  {
   "cell_type": "code",
   "execution_count": 40,
   "metadata": {},
   "outputs": [
    {
     "data": {
      "text/html": [
       "<div>\n",
       "<style scoped>\n",
       "    .dataframe tbody tr th:only-of-type {\n",
       "        vertical-align: middle;\n",
       "    }\n",
       "\n",
       "    .dataframe tbody tr th {\n",
       "        vertical-align: top;\n",
       "    }\n",
       "\n",
       "    .dataframe thead th {\n",
       "        text-align: right;\n",
       "    }\n",
       "</style>\n",
       "<table border=\"1\" class=\"dataframe\">\n",
       "  <thead>\n",
       "    <tr style=\"text-align: right;\">\n",
       "      <th></th>\n",
       "      <th>unit_sales</th>\n",
       "      <th>dcoilwtico</th>\n",
       "      <th>onpromotion_False</th>\n",
       "      <th>onpromotion_True</th>\n",
       "      <th>city_Ambato</th>\n",
       "      <th>city_Babahoyo</th>\n",
       "      <th>city_Cayambe</th>\n",
       "      <th>city_Cuenca</th>\n",
       "      <th>city_Daule</th>\n",
       "      <th>city_El Carmen</th>\n",
       "      <th>...</th>\n",
       "      <th>transferred_no_holyday</th>\n",
       "      <th>month_07</th>\n",
       "      <th>month_08</th>\n",
       "      <th>day_Friday</th>\n",
       "      <th>day_Monday</th>\n",
       "      <th>day_Saturday</th>\n",
       "      <th>day_Sunday</th>\n",
       "      <th>day_Thursday</th>\n",
       "      <th>day_Tuesday</th>\n",
       "      <th>day_Wednesday</th>\n",
       "    </tr>\n",
       "  </thead>\n",
       "  <tbody>\n",
       "    <tr>\n",
       "      <th>135</th>\n",
       "      <td>27.0</td>\n",
       "      <td>49.5900</td>\n",
       "      <td>1</td>\n",
       "      <td>0</td>\n",
       "      <td>0</td>\n",
       "      <td>0</td>\n",
       "      <td>0</td>\n",
       "      <td>0</td>\n",
       "      <td>0</td>\n",
       "      <td>0</td>\n",
       "      <td>...</td>\n",
       "      <td>1</td>\n",
       "      <td>0</td>\n",
       "      <td>1</td>\n",
       "      <td>0</td>\n",
       "      <td>0</td>\n",
       "      <td>0</td>\n",
       "      <td>0</td>\n",
       "      <td>0</td>\n",
       "      <td>0</td>\n",
       "      <td>1</td>\n",
       "    </tr>\n",
       "    <tr>\n",
       "      <th>183</th>\n",
       "      <td>18.0</td>\n",
       "      <td>50.0875</td>\n",
       "      <td>1</td>\n",
       "      <td>0</td>\n",
       "      <td>0</td>\n",
       "      <td>0</td>\n",
       "      <td>0</td>\n",
       "      <td>0</td>\n",
       "      <td>0</td>\n",
       "      <td>0</td>\n",
       "      <td>...</td>\n",
       "      <td>1</td>\n",
       "      <td>1</td>\n",
       "      <td>0</td>\n",
       "      <td>0</td>\n",
       "      <td>0</td>\n",
       "      <td>0</td>\n",
       "      <td>1</td>\n",
       "      <td>0</td>\n",
       "      <td>0</td>\n",
       "      <td>0</td>\n",
       "    </tr>\n",
       "    <tr>\n",
       "      <th>339</th>\n",
       "      <td>31.0</td>\n",
       "      <td>46.1025</td>\n",
       "      <td>0</td>\n",
       "      <td>1</td>\n",
       "      <td>0</td>\n",
       "      <td>0</td>\n",
       "      <td>0</td>\n",
       "      <td>0</td>\n",
       "      <td>0</td>\n",
       "      <td>0</td>\n",
       "      <td>...</td>\n",
       "      <td>0</td>\n",
       "      <td>1</td>\n",
       "      <td>0</td>\n",
       "      <td>0</td>\n",
       "      <td>0</td>\n",
       "      <td>0</td>\n",
       "      <td>1</td>\n",
       "      <td>0</td>\n",
       "      <td>0</td>\n",
       "      <td>0</td>\n",
       "    </tr>\n",
       "    <tr>\n",
       "      <th>396</th>\n",
       "      <td>7.0</td>\n",
       "      <td>45.9950</td>\n",
       "      <td>1</td>\n",
       "      <td>0</td>\n",
       "      <td>0</td>\n",
       "      <td>0</td>\n",
       "      <td>0</td>\n",
       "      <td>1</td>\n",
       "      <td>0</td>\n",
       "      <td>0</td>\n",
       "      <td>...</td>\n",
       "      <td>1</td>\n",
       "      <td>1</td>\n",
       "      <td>0</td>\n",
       "      <td>0</td>\n",
       "      <td>0</td>\n",
       "      <td>1</td>\n",
       "      <td>0</td>\n",
       "      <td>0</td>\n",
       "      <td>0</td>\n",
       "      <td>0</td>\n",
       "    </tr>\n",
       "    <tr>\n",
       "      <th>423</th>\n",
       "      <td>24.0</td>\n",
       "      <td>48.2000</td>\n",
       "      <td>1</td>\n",
       "      <td>0</td>\n",
       "      <td>0</td>\n",
       "      <td>0</td>\n",
       "      <td>0</td>\n",
       "      <td>0</td>\n",
       "      <td>0</td>\n",
       "      <td>0</td>\n",
       "      <td>...</td>\n",
       "      <td>1</td>\n",
       "      <td>0</td>\n",
       "      <td>1</td>\n",
       "      <td>0</td>\n",
       "      <td>0</td>\n",
       "      <td>1</td>\n",
       "      <td>0</td>\n",
       "      <td>0</td>\n",
       "      <td>0</td>\n",
       "      <td>0</td>\n",
       "    </tr>\n",
       "  </tbody>\n",
       "</table>\n",
       "<p>5 rows × 149 columns</p>\n",
       "</div>"
      ],
      "text/plain": [
       "     unit_sales  dcoilwtico  onpromotion_False  onpromotion_True  city_Ambato  \\\n",
       "135        27.0     49.5900                  1                 0            0   \n",
       "183        18.0     50.0875                  1                 0            0   \n",
       "339        31.0     46.1025                  0                 1            0   \n",
       "396         7.0     45.9950                  1                 0            0   \n",
       "423        24.0     48.2000                  1                 0            0   \n",
       "\n",
       "     city_Babahoyo  city_Cayambe  city_Cuenca  city_Daule  city_El Carmen  \\\n",
       "135              0             0            0           0               0   \n",
       "183              0             0            0           0               0   \n",
       "339              0             0            0           0               0   \n",
       "396              0             0            1           0               0   \n",
       "423              0             0            0           0               0   \n",
       "\n",
       "         ...        transferred_no_holyday  month_07  month_08  day_Friday  \\\n",
       "135      ...                             1         0         1           0   \n",
       "183      ...                             1         1         0           0   \n",
       "339      ...                             0         1         0           0   \n",
       "396      ...                             1         1         0           0   \n",
       "423      ...                             1         0         1           0   \n",
       "\n",
       "     day_Monday  day_Saturday  day_Sunday  day_Thursday  day_Tuesday  \\\n",
       "135           0             0           0             0            0   \n",
       "183           0             0           1             0            0   \n",
       "339           0             0           1             0            0   \n",
       "396           0             1           0             0            0   \n",
       "423           0             1           0             0            0   \n",
       "\n",
       "     day_Wednesday  \n",
       "135              1  \n",
       "183              0  \n",
       "339              0  \n",
       "396              0  \n",
       "423              0  \n",
       "\n",
       "[5 rows x 149 columns]"
      ]
     },
     "execution_count": 40,
     "metadata": {},
     "output_type": "execute_result"
    }
   ],
   "source": [
    "Salesdf_filtered.head()"
   ]
  },
  {
   "cell_type": "markdown",
   "metadata": {},
   "source": [
    "##### The above dataframe contains data after the one hot encoding technique is applied to the data."
   ]
  },
  {
   "cell_type": "code",
   "execution_count": 41,
   "metadata": {
    "collapsed": true
   },
   "outputs": [],
   "source": [
    "#Re-scale\n",
    "#We keep this value to re-scale the predicted unit_sales values in the following lines of code.\n",
    "min_train, max_train = Salesdf_filtered['unit_sales'].min(), Salesdf_filtered['unit_sales'].max()"
   ]
  },
  {
   "cell_type": "code",
   "execution_count": 42,
   "metadata": {
    "collapsed": true
   },
   "outputs": [],
   "source": [
    "scalable_variables = ['unit_sales','dcoilwtico']\n",
    "\n",
    "for var in scalable_variables:\n",
    "    mini, maxi = Salesdf_filtered[var].min(), Salesdf_filtered[var].max()\n",
    "    Salesdf_filtered.loc[:,var] = (Salesdf_filtered[var] - mini) / (maxi - mini)"
   ]
  },
  {
   "cell_type": "code",
   "execution_count": 43,
   "metadata": {},
   "outputs": [
    {
     "name": "stdout",
     "output_type": "stream",
     "text": [
      "Shape :  (3735, 149)\n"
     ]
    },
    {
     "data": {
      "text/html": [
       "<div>\n",
       "<style scoped>\n",
       "    .dataframe tbody tr th:only-of-type {\n",
       "        vertical-align: middle;\n",
       "    }\n",
       "\n",
       "    .dataframe tbody tr th {\n",
       "        vertical-align: top;\n",
       "    }\n",
       "\n",
       "    .dataframe thead th {\n",
       "        text-align: right;\n",
       "    }\n",
       "</style>\n",
       "<table border=\"1\" class=\"dataframe\">\n",
       "  <thead>\n",
       "    <tr style=\"text-align: right;\">\n",
       "      <th></th>\n",
       "      <th>unit_sales</th>\n",
       "      <th>dcoilwtico</th>\n",
       "      <th>onpromotion_False</th>\n",
       "      <th>onpromotion_True</th>\n",
       "      <th>city_Ambato</th>\n",
       "      <th>city_Babahoyo</th>\n",
       "      <th>city_Cayambe</th>\n",
       "      <th>city_Cuenca</th>\n",
       "      <th>city_Daule</th>\n",
       "      <th>city_El Carmen</th>\n",
       "      <th>...</th>\n",
       "      <th>transferred_no_holyday</th>\n",
       "      <th>month_07</th>\n",
       "      <th>month_08</th>\n",
       "      <th>day_Friday</th>\n",
       "      <th>day_Monday</th>\n",
       "      <th>day_Saturday</th>\n",
       "      <th>day_Sunday</th>\n",
       "      <th>day_Thursday</th>\n",
       "      <th>day_Tuesday</th>\n",
       "      <th>day_Wednesday</th>\n",
       "    </tr>\n",
       "  </thead>\n",
       "  <tbody>\n",
       "    <tr>\n",
       "      <th>169470</th>\n",
       "      <td>0.002335</td>\n",
       "      <td>0.860045</td>\n",
       "      <td>1</td>\n",
       "      <td>0</td>\n",
       "      <td>0</td>\n",
       "      <td>0</td>\n",
       "      <td>0</td>\n",
       "      <td>0</td>\n",
       "      <td>0</td>\n",
       "      <td>0</td>\n",
       "      <td>...</td>\n",
       "      <td>1</td>\n",
       "      <td>0</td>\n",
       "      <td>1</td>\n",
       "      <td>0</td>\n",
       "      <td>0</td>\n",
       "      <td>0</td>\n",
       "      <td>0</td>\n",
       "      <td>0</td>\n",
       "      <td>0</td>\n",
       "      <td>1</td>\n",
       "    </tr>\n",
       "    <tr>\n",
       "      <th>245710</th>\n",
       "      <td>0.009127</td>\n",
       "      <td>0.944695</td>\n",
       "      <td>1</td>\n",
       "      <td>0</td>\n",
       "      <td>0</td>\n",
       "      <td>0</td>\n",
       "      <td>0</td>\n",
       "      <td>0</td>\n",
       "      <td>0</td>\n",
       "      <td>0</td>\n",
       "      <td>...</td>\n",
       "      <td>1</td>\n",
       "      <td>1</td>\n",
       "      <td>0</td>\n",
       "      <td>0</td>\n",
       "      <td>0</td>\n",
       "      <td>1</td>\n",
       "      <td>0</td>\n",
       "      <td>0</td>\n",
       "      <td>0</td>\n",
       "      <td>0</td>\n",
       "    </tr>\n",
       "    <tr>\n",
       "      <th>34727</th>\n",
       "      <td>0.030603</td>\n",
       "      <td>0.408578</td>\n",
       "      <td>1</td>\n",
       "      <td>0</td>\n",
       "      <td>0</td>\n",
       "      <td>0</td>\n",
       "      <td>0</td>\n",
       "      <td>0</td>\n",
       "      <td>0</td>\n",
       "      <td>0</td>\n",
       "      <td>...</td>\n",
       "      <td>1</td>\n",
       "      <td>0</td>\n",
       "      <td>1</td>\n",
       "      <td>0</td>\n",
       "      <td>1</td>\n",
       "      <td>0</td>\n",
       "      <td>0</td>\n",
       "      <td>0</td>\n",
       "      <td>0</td>\n",
       "      <td>0</td>\n",
       "    </tr>\n",
       "    <tr>\n",
       "      <th>212031</th>\n",
       "      <td>0.001101</td>\n",
       "      <td>0.054176</td>\n",
       "      <td>1</td>\n",
       "      <td>0</td>\n",
       "      <td>0</td>\n",
       "      <td>0</td>\n",
       "      <td>0</td>\n",
       "      <td>0</td>\n",
       "      <td>0</td>\n",
       "      <td>0</td>\n",
       "      <td>...</td>\n",
       "      <td>1</td>\n",
       "      <td>1</td>\n",
       "      <td>0</td>\n",
       "      <td>0</td>\n",
       "      <td>0</td>\n",
       "      <td>1</td>\n",
       "      <td>0</td>\n",
       "      <td>0</td>\n",
       "      <td>0</td>\n",
       "      <td>0</td>\n",
       "    </tr>\n",
       "    <tr>\n",
       "      <th>187197</th>\n",
       "      <td>0.009127</td>\n",
       "      <td>0.404063</td>\n",
       "      <td>1</td>\n",
       "      <td>0</td>\n",
       "      <td>0</td>\n",
       "      <td>0</td>\n",
       "      <td>0</td>\n",
       "      <td>0</td>\n",
       "      <td>0</td>\n",
       "      <td>0</td>\n",
       "      <td>...</td>\n",
       "      <td>0</td>\n",
       "      <td>0</td>\n",
       "      <td>1</td>\n",
       "      <td>0</td>\n",
       "      <td>0</td>\n",
       "      <td>0</td>\n",
       "      <td>0</td>\n",
       "      <td>0</td>\n",
       "      <td>1</td>\n",
       "      <td>0</td>\n",
       "    </tr>\n",
       "    <tr>\n",
       "      <th>213221</th>\n",
       "      <td>0.006816</td>\n",
       "      <td>0.546275</td>\n",
       "      <td>1</td>\n",
       "      <td>0</td>\n",
       "      <td>0</td>\n",
       "      <td>0</td>\n",
       "      <td>0</td>\n",
       "      <td>0</td>\n",
       "      <td>0</td>\n",
       "      <td>0</td>\n",
       "      <td>...</td>\n",
       "      <td>1</td>\n",
       "      <td>0</td>\n",
       "      <td>1</td>\n",
       "      <td>0</td>\n",
       "      <td>0</td>\n",
       "      <td>1</td>\n",
       "      <td>0</td>\n",
       "      <td>0</td>\n",
       "      <td>0</td>\n",
       "      <td>0</td>\n",
       "    </tr>\n",
       "    <tr>\n",
       "      <th>230420</th>\n",
       "      <td>0.008509</td>\n",
       "      <td>0.054176</td>\n",
       "      <td>1</td>\n",
       "      <td>0</td>\n",
       "      <td>1</td>\n",
       "      <td>0</td>\n",
       "      <td>0</td>\n",
       "      <td>0</td>\n",
       "      <td>0</td>\n",
       "      <td>0</td>\n",
       "      <td>...</td>\n",
       "      <td>1</td>\n",
       "      <td>1</td>\n",
       "      <td>0</td>\n",
       "      <td>0</td>\n",
       "      <td>0</td>\n",
       "      <td>1</td>\n",
       "      <td>0</td>\n",
       "      <td>0</td>\n",
       "      <td>0</td>\n",
       "      <td>0</td>\n",
       "    </tr>\n",
       "    <tr>\n",
       "      <th>38399</th>\n",
       "      <td>0.007892</td>\n",
       "      <td>0.944695</td>\n",
       "      <td>0</td>\n",
       "      <td>1</td>\n",
       "      <td>0</td>\n",
       "      <td>0</td>\n",
       "      <td>0</td>\n",
       "      <td>0</td>\n",
       "      <td>0</td>\n",
       "      <td>0</td>\n",
       "      <td>...</td>\n",
       "      <td>1</td>\n",
       "      <td>1</td>\n",
       "      <td>0</td>\n",
       "      <td>0</td>\n",
       "      <td>0</td>\n",
       "      <td>1</td>\n",
       "      <td>0</td>\n",
       "      <td>0</td>\n",
       "      <td>0</td>\n",
       "      <td>0</td>\n",
       "    </tr>\n",
       "    <tr>\n",
       "      <th>277634</th>\n",
       "      <td>0.004746</td>\n",
       "      <td>0.072799</td>\n",
       "      <td>1</td>\n",
       "      <td>0</td>\n",
       "      <td>0</td>\n",
       "      <td>0</td>\n",
       "      <td>0</td>\n",
       "      <td>0</td>\n",
       "      <td>0</td>\n",
       "      <td>0</td>\n",
       "      <td>...</td>\n",
       "      <td>0</td>\n",
       "      <td>1</td>\n",
       "      <td>0</td>\n",
       "      <td>0</td>\n",
       "      <td>0</td>\n",
       "      <td>0</td>\n",
       "      <td>1</td>\n",
       "      <td>0</td>\n",
       "      <td>0</td>\n",
       "      <td>0</td>\n",
       "    </tr>\n",
       "    <tr>\n",
       "      <th>73894</th>\n",
       "      <td>0.009127</td>\n",
       "      <td>0.408578</td>\n",
       "      <td>1</td>\n",
       "      <td>0</td>\n",
       "      <td>0</td>\n",
       "      <td>0</td>\n",
       "      <td>0</td>\n",
       "      <td>0</td>\n",
       "      <td>0</td>\n",
       "      <td>0</td>\n",
       "      <td>...</td>\n",
       "      <td>1</td>\n",
       "      <td>0</td>\n",
       "      <td>1</td>\n",
       "      <td>0</td>\n",
       "      <td>1</td>\n",
       "      <td>0</td>\n",
       "      <td>0</td>\n",
       "      <td>0</td>\n",
       "      <td>0</td>\n",
       "      <td>0</td>\n",
       "    </tr>\n",
       "  </tbody>\n",
       "</table>\n",
       "<p>10 rows × 149 columns</p>\n",
       "</div>"
      ],
      "text/plain": [
       "        unit_sales  dcoilwtico  onpromotion_False  onpromotion_True  \\\n",
       "169470    0.002335    0.860045                  1                 0   \n",
       "245710    0.009127    0.944695                  1                 0   \n",
       "34727     0.030603    0.408578                  1                 0   \n",
       "212031    0.001101    0.054176                  1                 0   \n",
       "187197    0.009127    0.404063                  1                 0   \n",
       "213221    0.006816    0.546275                  1                 0   \n",
       "230420    0.008509    0.054176                  1                 0   \n",
       "38399     0.007892    0.944695                  0                 1   \n",
       "277634    0.004746    0.072799                  1                 0   \n",
       "73894     0.009127    0.408578                  1                 0   \n",
       "\n",
       "        city_Ambato  city_Babahoyo  city_Cayambe  city_Cuenca  city_Daule  \\\n",
       "169470            0              0             0            0           0   \n",
       "245710            0              0             0            0           0   \n",
       "34727             0              0             0            0           0   \n",
       "212031            0              0             0            0           0   \n",
       "187197            0              0             0            0           0   \n",
       "213221            0              0             0            0           0   \n",
       "230420            1              0             0            0           0   \n",
       "38399             0              0             0            0           0   \n",
       "277634            0              0             0            0           0   \n",
       "73894             0              0             0            0           0   \n",
       "\n",
       "        city_El Carmen      ...        transferred_no_holyday  month_07  \\\n",
       "169470               0      ...                             1         0   \n",
       "245710               0      ...                             1         1   \n",
       "34727                0      ...                             1         0   \n",
       "212031               0      ...                             1         1   \n",
       "187197               0      ...                             0         0   \n",
       "213221               0      ...                             1         0   \n",
       "230420               0      ...                             1         1   \n",
       "38399                0      ...                             1         1   \n",
       "277634               0      ...                             0         1   \n",
       "73894                0      ...                             1         0   \n",
       "\n",
       "        month_08  day_Friday  day_Monday  day_Saturday  day_Sunday  \\\n",
       "169470         1           0           0             0           0   \n",
       "245710         0           0           0             1           0   \n",
       "34727          1           0           1             0           0   \n",
       "212031         0           0           0             1           0   \n",
       "187197         1           0           0             0           0   \n",
       "213221         1           0           0             1           0   \n",
       "230420         0           0           0             1           0   \n",
       "38399          0           0           0             1           0   \n",
       "277634         0           0           0             0           1   \n",
       "73894          1           0           1             0           0   \n",
       "\n",
       "        day_Thursday  day_Tuesday  day_Wednesday  \n",
       "169470             0            0              1  \n",
       "245710             0            0              0  \n",
       "34727              0            0              0  \n",
       "212031             0            0              0  \n",
       "187197             0            1              0  \n",
       "213221             0            0              0  \n",
       "230420             0            0              0  \n",
       "38399              0            0              0  \n",
       "277634             0            0              0  \n",
       "73894              0            0              0  \n",
       "\n",
       "[10 rows x 149 columns]"
      ]
     },
     "execution_count": 43,
     "metadata": {},
     "output_type": "execute_result"
    }
   ],
   "source": [
    "print('Shape : ', Salesdf_filtered.shape)\n",
    "Salesdf_filtered.sample(10)"
   ]
  },
  {
   "cell_type": "code",
   "execution_count": 44,
   "metadata": {},
   "outputs": [
    {
     "data": {
      "text/plain": [
       "unit_sales                0\n",
       "dcoilwtico                0\n",
       "onpromotion_False         0\n",
       "onpromotion_True          0\n",
       "city_Ambato               0\n",
       "city_Babahoyo             0\n",
       "city_Cayambe              0\n",
       "city_Cuenca               0\n",
       "city_Daule                0\n",
       "city_El Carmen            0\n",
       "city_Esmeraldas           0\n",
       "city_Guaranda             0\n",
       "city_Guayaquil            0\n",
       "city_Ibarra               0\n",
       "city_Latacunga            0\n",
       "city_Libertad             0\n",
       "city_Loja                 0\n",
       "city_Machala              0\n",
       "city_Manta                0\n",
       "city_Playas               0\n",
       "city_Puyo                 0\n",
       "city_Quevedo              0\n",
       "city_Quito                0\n",
       "city_Riobamba             0\n",
       "city_Salinas              0\n",
       "city_Santo Domingo        0\n",
       "type_x_A                  0\n",
       "type_x_B                  0\n",
       "type_x_C                  0\n",
       "type_x_D                  0\n",
       "                         ..\n",
       "item_nbr_1958181          0\n",
       "item_nbr_2042941          0\n",
       "item_nbr_2042947          0\n",
       "family_BEVERAGES          0\n",
       "family_BREAD/BAKERY       0\n",
       "family_CLEANING           0\n",
       "family_GROCERY I          0\n",
       "family_PERSONAL CARE      0\n",
       "family_PRODUCE            0\n",
       "perishable_0              0\n",
       "perishable_1              0\n",
       "type_y_Additional         0\n",
       "type_y_Holiday            0\n",
       "type_y_Transfer           0\n",
       "type_y_no_holyday         0\n",
       "locale_Local              0\n",
       "locale_National           0\n",
       "locale_no_locale          0\n",
       "transferred_False         0\n",
       "transferred_True          0\n",
       "transferred_no_holyday    0\n",
       "month_07                  0\n",
       "month_08                  0\n",
       "day_Friday                0\n",
       "day_Monday                0\n",
       "day_Saturday              0\n",
       "day_Sunday                0\n",
       "day_Thursday              0\n",
       "day_Tuesday               0\n",
       "day_Wednesday             0\n",
       "Length: 149, dtype: int64"
      ]
     },
     "execution_count": 44,
     "metadata": {},
     "output_type": "execute_result"
    }
   ],
   "source": [
    "Salesdf_filtered.isnull().sum()"
   ]
  },
  {
   "cell_type": "code",
   "execution_count": 45,
   "metadata": {},
   "outputs": [
    {
     "name": "stdout",
     "output_type": "stream",
     "text": [
      "Shape X : (3735, 148)\n",
      "Shape y : (3735,)\n"
     ]
    }
   ],
   "source": [
    "#train database without unit_sales\n",
    "Salesdf_filtered = Salesdf_filtered.reset_index(drop=True)  #we reset the index\n",
    "y = Salesdf_filtered['unit_sales']\n",
    "X = Salesdf_filtered.drop(['unit_sales'], axis = 1)\n",
    "\n",
    "print('Shape X :', X.shape)\n",
    "print('Shape y :', y.shape)"
   ]
  },
  {
   "cell_type": "code",
   "execution_count": 46,
   "metadata": {},
   "outputs": [
    {
     "name": "stdout",
     "output_type": "stream",
     "text": [
      "X_train shape : (2988, 148)\n",
      "y_train shape : (2988,)\n",
      "X_test shape : (747, 148)\n",
      "y_test shape : (747,)\n"
     ]
    }
   ],
   "source": [
    "num_test = 0.20\n",
    "X_train, X_test, y_train, y_test = train_test_split(X, y, test_size=num_test, random_state=15)\n",
    "print('X_train shape :', X_train.shape)\n",
    "print('y_train shape :', y_train.shape)\n",
    "print('X_test shape :', X_test.shape)\n",
    "print('y_test shape :', y_test.shape)"
   ]
  },
  {
   "cell_type": "markdown",
   "metadata": {},
   "source": [
    "# 10. Regression Model fitting techniques."
   ]
  },
  {
   "cell_type": "markdown",
   "metadata": {},
   "source": [
    "## 10.a. Linear Regression"
   ]
  },
  {
   "cell_type": "markdown",
   "metadata": {},
   "source": [
    "### Linear Regression\n",
    "\n",
    "Linear Regression is a linear approach for modelling the relationship between a scalar dependent variable y and one or more explanatory variables (or independent variables) denoted X. The case of one explanatory variable is called simple linear regression. For more than one explanatory variable, the process is called multiple linear regression.\n",
    "\n",
    "Linear regression models are often fitted using the least squares approach, but they may also be fitted in other ways, such as by minimizing the \"lack of fit\" in some other norm (as with least absolute deviations regression), or by minimizing a penalized version of the least squares cost function as in ridge regression (L2-norm penalty) and lasso (L1-norm penalty). \n",
    "\n",
    "\n",
    "### The text in the document by Source Wikipedia is licensed under CC BY 3.0 https://creativecommons.org/licenses/by/3.0/us/"
   ]
  },
  {
   "cell_type": "code",
   "execution_count": 47,
   "metadata": {},
   "outputs": [
    {
     "name": "stdout",
     "output_type": "stream",
     "text": [
      "LinearRegression(copy_X=True, fit_intercept=True, n_jobs=1, normalize=False)\n"
     ]
    }
   ],
   "source": [
    "# Fit the linear model\n",
    "model = linear_model.LinearRegression()\n",
    "results = model.fit(X_train, y_train)\n",
    "print(results)"
   ]
  },
  {
   "cell_type": "code",
   "execution_count": 48,
   "metadata": {},
   "outputs": [
    {
     "name": "stdout",
     "output_type": "stream",
     "text": [
      "-10077717828.6 [  5.77278827e-03  -4.44002834e+11  -4.44002834e+11  -1.20049145e+11\n",
      "   6.71849673e+11  -3.00197319e+11  -4.10525006e+11  -2.19780004e+11\n",
      "  -3.50107920e+11  -8.38620072e+10  -1.07196630e+11  -6.50316918e+10\n",
      "   9.76924707e+10   1.79310313e+11  -3.68439881e+11   3.24373052e+11\n",
      "   6.87498201e+10  -1.73268895e+11   5.88248972e+10   1.63766182e+11\n",
      "   1.05804503e+11  -3.17490270e+10  -4.24909495e+11  -5.72211037e+11\n",
      "  -1.78411474e+10  -1.05642561e+11  -3.35504730e+11   5.95024592e+10\n",
      "   1.64092747e+11  -4.61227293e+10  -1.03174077e+11   2.64559275e+11\n",
      "  -4.43826214e+10  -3.55476150e+11   1.51662781e+11   1.59024917e+11\n",
      "   1.51153503e+11  -3.34901373e+11  -2.07913878e+11   1.43898354e+11\n",
      "  -1.15761973e+11   2.48465599e+10  -2.17076115e+11  -1.58991247e+11\n",
      "  -3.25466957e+11   5.84658769e+10  -2.52456020e+10  -1.08276286e+11\n",
      "  -1.08276286e+11   9.54897184e+09  -1.17438523e+11   1.62158689e+10\n",
      "  -1.08276286e+11   9.54897184e+09   9.54897184e+09   1.52201578e+10\n",
      "   1.04704843e+11   2.83668450e+11  -1.06354497e+11  -1.06354497e+11\n",
      "   2.12448510e+10  -2.47366547e+10  -1.90287372e+11  -2.45608674e+11\n",
      "   1.15779198e+11   1.80152446e+11   1.52201578e+10   1.31227816e+09\n",
      "  -5.67430826e+11  -2.91384053e+10  -1.88895660e+11   3.18283686e+11\n",
      "  -4.35968091e+11  -3.41473475e+10  -2.25752615e+11  -2.25752615e+11\n",
      "  -1.43096828e+11  -6.73251980e+11  -1.43096828e+11  -3.13933022e+11\n",
      "   4.85028226e+10  -2.66953417e+11   7.76555740e+10  -2.11135697e+11\n",
      "  -3.25998331e+11   3.93996137e+11  -2.76878340e+11  -7.03750985e+10\n",
      "  -2.11135697e+11  -2.06922300e+11  -2.07279874e+11   6.01448797e+10\n",
      "   1.03374154e+11   1.03374154e+11   1.03374154e+11   6.01448797e+10\n",
      "   1.91674272e+11   2.91117304e+09   2.01664748e+11   3.32435820e+10\n",
      "   1.41979400e+11  -1.07870288e+10  -1.07870288e+10  -1.83366254e+11\n",
      "   1.18473410e+11  -1.07870288e+10   3.14003851e+10  -1.07870288e+10\n",
      "  -1.07870288e+10  -1.83366254e+11  -1.07870288e+10  -1.07870288e+10\n",
      "  -1.83366254e+11  -1.07870288e+10  -1.07870288e+10  -1.07870288e+10\n",
      "  -2.66270526e+10  -2.66270526e+10   7.73519835e+10   7.73519835e+10\n",
      "   7.73519835e+10  -8.89932410e+09   7.35492465e+10   3.70522744e+10\n",
      "   7.92396883e+10   2.51818914e+11   2.18649710e+11   6.58957301e+10\n",
      "  -5.76742674e+10   3.48214561e+11   3.48214561e+11   7.70501633e+10\n",
      "  -4.62273833e+10  -3.10223932e+11  -3.90595346e+10  -4.62273833e+10\n",
      "   4.96650263e+11   2.25485865e+11   6.27095658e+11   2.32482914e+10\n",
      "   2.32482914e+10  -4.51483388e+10  -4.51483388e+10  -4.51483388e+10\n",
      "  -4.51483388e+10  -4.51483388e+10  -4.51483388e+10  -4.51483388e+10]\n"
     ]
    }
   ],
   "source": [
    "# Print the coefficients\n",
    "print (results.intercept_, results.coef_)"
   ]
  },
  {
   "cell_type": "code",
   "execution_count": 49,
   "metadata": {
    "scrolled": true
   },
   "outputs": [
    {
     "name": "stderr",
     "output_type": "stream",
     "text": [
      "C:\\ProgramData\\Anaconda3\\lib\\site-packages\\statsmodels\\compat\\pandas.py:56: FutureWarning: The pandas.core.datetools module is deprecated and will be removed in a future version. Please use the pandas.tseries module instead.\n",
      "  from pandas.core import datetools\n"
     ]
    },
    {
     "data": {
      "text/html": [
       "<table class=\"simpletable\">\n",
       "<caption>OLS Regression Results</caption>\n",
       "<tr>\n",
       "  <th>Dep. Variable:</th>       <td>unit_sales</td>    <th>  R-squared:         </th>  <td>   0.354</td> \n",
       "</tr>\n",
       "<tr>\n",
       "  <th>Model:</th>                   <td>OLS</td>       <th>  Adj. R-squared:    </th>  <td>   0.335</td> \n",
       "</tr>\n",
       "<tr>\n",
       "  <th>Method:</th>             <td>Least Squares</td>  <th>  F-statistic:       </th>  <td>   18.69</td> \n",
       "</tr>\n",
       "<tr>\n",
       "  <th>Date:</th>             <td>Sat, 21 Apr 2018</td> <th>  Prob (F-statistic):</th>  <td>2.22e-213</td>\n",
       "</tr>\n",
       "<tr>\n",
       "  <th>Time:</th>                 <td>11:36:28</td>     <th>  Log-Likelihood:    </th>  <td>  6716.8</td> \n",
       "</tr>\n",
       "<tr>\n",
       "  <th>No. Observations:</th>      <td>  2988</td>      <th>  AIC:               </th> <td>-1.326e+04</td>\n",
       "</tr>\n",
       "<tr>\n",
       "  <th>Df Residuals:</th>          <td>  2902</td>      <th>  BIC:               </th> <td>-1.275e+04</td>\n",
       "</tr>\n",
       "<tr>\n",
       "  <th>Df Model:</th>              <td>    85</td>      <th>                     </th>      <td> </td>    \n",
       "</tr>\n",
       "<tr>\n",
       "  <th>Covariance Type:</th>      <td>nonrobust</td>    <th>                     </th>      <td> </td>    \n",
       "</tr>\n",
       "</table>\n",
       "<table class=\"simpletable\">\n",
       "<tr>\n",
       "             <td></td>               <th>coef</th>     <th>std err</th>      <th>t</th>      <th>P>|t|</th>  <th>[0.025</th>    <th>0.975]</th>  \n",
       "</tr>\n",
       "<tr>\n",
       "  <th>dcoilwtico</th>             <td>    0.0057</td> <td>    0.002</td> <td>    3.394</td> <td> 0.001</td> <td>    0.002</td> <td>    0.009</td>\n",
       "</tr>\n",
       "<tr>\n",
       "  <th>onpromotion_False</th>      <td>   -0.0037</td> <td>    0.001</td> <td>   -5.395</td> <td> 0.000</td> <td>   -0.005</td> <td>   -0.002</td>\n",
       "</tr>\n",
       "<tr>\n",
       "  <th>onpromotion_True</th>       <td>    0.0082</td> <td>    0.001</td> <td>    9.787</td> <td> 0.000</td> <td>    0.007</td> <td>    0.010</td>\n",
       "</tr>\n",
       "<tr>\n",
       "  <th>city_Ambato</th>            <td>   -0.0014</td> <td>    0.002</td> <td>   -0.839</td> <td> 0.401</td> <td>   -0.005</td> <td>    0.002</td>\n",
       "</tr>\n",
       "<tr>\n",
       "  <th>city_Babahoyo</th>          <td>    0.0022</td> <td>    0.001</td> <td>    1.594</td> <td> 0.111</td> <td>   -0.000</td> <td>    0.005</td>\n",
       "</tr>\n",
       "<tr>\n",
       "  <th>city_Cayambe</th>           <td>    0.0024</td> <td>    0.002</td> <td>    1.401</td> <td> 0.161</td> <td>   -0.001</td> <td>    0.006</td>\n",
       "</tr>\n",
       "<tr>\n",
       "  <th>city_Cuenca</th>            <td>    0.0013</td> <td>    0.001</td> <td>    0.887</td> <td> 0.375</td> <td>   -0.002</td> <td>    0.004</td>\n",
       "</tr>\n",
       "<tr>\n",
       "  <th>city_Daule</th>             <td>   -0.0002</td> <td>    0.002</td> <td>   -0.137</td> <td> 0.891</td> <td>   -0.003</td> <td>    0.003</td>\n",
       "</tr>\n",
       "<tr>\n",
       "  <th>city_El Carmen</th>         <td>   -0.0013</td> <td>    0.002</td> <td>   -0.692</td> <td> 0.489</td> <td>   -0.005</td> <td>    0.002</td>\n",
       "</tr>\n",
       "<tr>\n",
       "  <th>city_Esmeraldas</th>        <td> -1.01e-05</td> <td>    0.002</td> <td>   -0.006</td> <td> 0.995</td> <td>   -0.003</td> <td>    0.003</td>\n",
       "</tr>\n",
       "<tr>\n",
       "  <th>city_Guaranda</th>          <td>    0.0002</td> <td>    0.002</td> <td>    0.154</td> <td> 0.878</td> <td>   -0.003</td> <td>    0.003</td>\n",
       "</tr>\n",
       "<tr>\n",
       "  <th>city_Guayaquil</th>         <td> 2.858e-05</td> <td>    0.001</td> <td>    0.024</td> <td> 0.981</td> <td>   -0.002</td> <td>    0.002</td>\n",
       "</tr>\n",
       "<tr>\n",
       "  <th>city_Ibarra</th>            <td>   -0.0008</td> <td>    0.001</td> <td>   -0.533</td> <td> 0.594</td> <td>   -0.004</td> <td>    0.002</td>\n",
       "</tr>\n",
       "<tr>\n",
       "  <th>city_Latacunga</th>         <td>-4.487e-06</td> <td>    0.002</td> <td>   -0.003</td> <td> 0.998</td> <td>   -0.003</td> <td>    0.003</td>\n",
       "</tr>\n",
       "<tr>\n",
       "  <th>city_Libertad</th>          <td> 6.975e-05</td> <td>    0.002</td> <td>    0.040</td> <td> 0.968</td> <td>   -0.003</td> <td>    0.004</td>\n",
       "</tr>\n",
       "<tr>\n",
       "  <th>city_Loja</th>              <td>    0.0010</td> <td>    0.002</td> <td>    0.575</td> <td> 0.565</td> <td>   -0.002</td> <td>    0.004</td>\n",
       "</tr>\n",
       "<tr>\n",
       "  <th>city_Machala</th>           <td>    0.0013</td> <td>    0.002</td> <td>    0.802</td> <td> 0.423</td> <td>   -0.002</td> <td>    0.005</td>\n",
       "</tr>\n",
       "<tr>\n",
       "  <th>city_Manta</th>             <td>   -0.0015</td> <td>    0.001</td> <td>   -1.015</td> <td> 0.310</td> <td>   -0.004</td> <td>    0.001</td>\n",
       "</tr>\n",
       "<tr>\n",
       "  <th>city_Playas</th>            <td>    0.0004</td> <td>    0.002</td> <td>    0.261</td> <td> 0.794</td> <td>   -0.003</td> <td>    0.004</td>\n",
       "</tr>\n",
       "<tr>\n",
       "  <th>city_Puyo</th>              <td>   -0.0007</td> <td>    0.001</td> <td>   -0.589</td> <td> 0.556</td> <td>   -0.003</td> <td>    0.002</td>\n",
       "</tr>\n",
       "<tr>\n",
       "  <th>city_Quevedo</th>           <td>    0.0007</td> <td>    0.002</td> <td>    0.427</td> <td> 0.669</td> <td>   -0.002</td> <td>    0.004</td>\n",
       "</tr>\n",
       "<tr>\n",
       "  <th>city_Quito</th>             <td>    0.0037</td> <td>    0.001</td> <td>    3.598</td> <td> 0.000</td> <td>    0.002</td> <td>    0.006</td>\n",
       "</tr>\n",
       "<tr>\n",
       "  <th>city_Riobamba</th>          <td>   -0.0004</td> <td>    0.001</td> <td>   -0.330</td> <td> 0.741</td> <td>   -0.003</td> <td>    0.002</td>\n",
       "</tr>\n",
       "<tr>\n",
       "  <th>city_Salinas</th>           <td>   -0.0027</td> <td>    0.002</td> <td>   -1.580</td> <td> 0.114</td> <td>   -0.006</td> <td>    0.001</td>\n",
       "</tr>\n",
       "<tr>\n",
       "  <th>city_Santo Domingo</th>     <td>  4.72e-05</td> <td>    0.002</td> <td>    0.030</td> <td> 0.976</td> <td>   -0.003</td> <td>    0.003</td>\n",
       "</tr>\n",
       "<tr>\n",
       "  <th>type_x_A</th>               <td>    0.0101</td> <td>    0.001</td> <td>   12.258</td> <td> 0.000</td> <td>    0.008</td> <td>    0.012</td>\n",
       "</tr>\n",
       "<tr>\n",
       "  <th>type_x_B</th>               <td>   -0.0025</td> <td>    0.001</td> <td>   -2.781</td> <td> 0.005</td> <td>   -0.004</td> <td>   -0.001</td>\n",
       "</tr>\n",
       "<tr>\n",
       "  <th>type_x_C</th>               <td>   -0.0036</td> <td>    0.001</td> <td>   -4.989</td> <td> 0.000</td> <td>   -0.005</td> <td>   -0.002</td>\n",
       "</tr>\n",
       "<tr>\n",
       "  <th>type_x_D</th>               <td>   -0.0012</td> <td>    0.001</td> <td>   -1.394</td> <td> 0.164</td> <td>   -0.003</td> <td>    0.000</td>\n",
       "</tr>\n",
       "<tr>\n",
       "  <th>type_x_E</th>               <td>    0.0016</td> <td>    0.001</td> <td>    1.326</td> <td> 0.185</td> <td>   -0.001</td> <td>    0.004</td>\n",
       "</tr>\n",
       "<tr>\n",
       "  <th>cluster_1</th>              <td>    0.0029</td> <td>    0.001</td> <td>    2.053</td> <td> 0.040</td> <td>    0.000</td> <td>    0.006</td>\n",
       "</tr>\n",
       "<tr>\n",
       "  <th>cluster_2</th>              <td>   -0.0002</td> <td>    0.001</td> <td>   -0.165</td> <td> 0.869</td> <td>   -0.003</td> <td>    0.003</td>\n",
       "</tr>\n",
       "<tr>\n",
       "  <th>cluster_3</th>              <td>   -0.0004</td> <td>    0.001</td> <td>   -0.359</td> <td> 0.719</td> <td>   -0.002</td> <td>    0.002</td>\n",
       "</tr>\n",
       "<tr>\n",
       "  <th>cluster_4</th>              <td>    0.0005</td> <td>    0.001</td> <td>    0.318</td> <td> 0.750</td> <td>   -0.002</td> <td>    0.003</td>\n",
       "</tr>\n",
       "<tr>\n",
       "  <th>cluster_5</th>              <td>    0.0105</td> <td>    0.002</td> <td>    6.967</td> <td> 0.000</td> <td>    0.008</td> <td>    0.013</td>\n",
       "</tr>\n",
       "<tr>\n",
       "  <th>cluster_6</th>              <td>   -0.0003</td> <td>    0.001</td> <td>   -0.296</td> <td> 0.767</td> <td>   -0.003</td> <td>    0.002</td>\n",
       "</tr>\n",
       "<tr>\n",
       "  <th>cluster_7</th>              <td>   -0.0011</td> <td>    0.001</td> <td>   -1.114</td> <td> 0.265</td> <td>   -0.003</td> <td>    0.001</td>\n",
       "</tr>\n",
       "<tr>\n",
       "  <th>cluster_8</th>              <td>    0.0035</td> <td>    0.001</td> <td>    2.428</td> <td> 0.015</td> <td>    0.001</td> <td>    0.006</td>\n",
       "</tr>\n",
       "<tr>\n",
       "  <th>cluster_9</th>              <td>    0.0003</td> <td>    0.001</td> <td>    0.207</td> <td> 0.836</td> <td>   -0.003</td> <td>    0.003</td>\n",
       "</tr>\n",
       "<tr>\n",
       "  <th>cluster_10</th>             <td>   -0.0023</td> <td>    0.001</td> <td>   -1.774</td> <td> 0.076</td> <td>   -0.005</td> <td>    0.000</td>\n",
       "</tr>\n",
       "<tr>\n",
       "  <th>cluster_11</th>             <td>    0.0016</td> <td>    0.001</td> <td>    1.219</td> <td> 0.223</td> <td>   -0.001</td> <td>    0.004</td>\n",
       "</tr>\n",
       "<tr>\n",
       "  <th>cluster_12</th>             <td>   -0.0001</td> <td>    0.002</td> <td>   -0.068</td> <td> 0.946</td> <td>   -0.003</td> <td>    0.003</td>\n",
       "</tr>\n",
       "<tr>\n",
       "  <th>cluster_13</th>             <td>   -0.0021</td> <td>    0.001</td> <td>   -1.563</td> <td> 0.118</td> <td>   -0.005</td> <td>    0.001</td>\n",
       "</tr>\n",
       "<tr>\n",
       "  <th>cluster_14</th>             <td>   -0.0019</td> <td>    0.001</td> <td>   -1.457</td> <td> 0.145</td> <td>   -0.004</td> <td>    0.001</td>\n",
       "</tr>\n",
       "<tr>\n",
       "  <th>cluster_15</th>             <td>   -0.0021</td> <td>    0.001</td> <td>   -1.878</td> <td> 0.060</td> <td>   -0.004</td> <td> 9.15e-05</td>\n",
       "</tr>\n",
       "<tr>\n",
       "  <th>cluster_16</th>             <td>   -0.0043</td> <td>    0.001</td> <td>   -3.014</td> <td> 0.003</td> <td>   -0.007</td> <td>   -0.001</td>\n",
       "</tr>\n",
       "<tr>\n",
       "  <th>cluster_17</th>             <td>   -0.0001</td> <td>    0.001</td> <td>   -0.079</td> <td> 0.937</td> <td>   -0.003</td> <td>    0.003</td>\n",
       "</tr>\n",
       "<tr>\n",
       "  <th>store_nbr_1</th>            <td>   -0.0064</td> <td>    0.003</td> <td>   -2.317</td> <td> 0.021</td> <td>   -0.012</td> <td>   -0.001</td>\n",
       "</tr>\n",
       "<tr>\n",
       "  <th>store_nbr_2</th>            <td>    0.0004</td> <td>    0.003</td> <td>    0.135</td> <td> 0.893</td> <td>   -0.005</td> <td>    0.006</td>\n",
       "</tr>\n",
       "<tr>\n",
       "  <th>store_nbr_3</th>            <td>    0.0076</td> <td>    0.003</td> <td>    2.783</td> <td> 0.005</td> <td>    0.002</td> <td>    0.013</td>\n",
       "</tr>\n",
       "<tr>\n",
       "  <th>store_nbr_4</th>            <td>    0.0028</td> <td>    0.002</td> <td>    1.236</td> <td> 0.216</td> <td>   -0.002</td> <td>    0.007</td>\n",
       "</tr>\n",
       "<tr>\n",
       "  <th>store_nbr_5</th>            <td>   -0.0019</td> <td>    0.002</td> <td>   -0.800</td> <td> 0.423</td> <td>   -0.006</td> <td>    0.003</td>\n",
       "</tr>\n",
       "<tr>\n",
       "  <th>store_nbr_6</th>            <td>    0.0005</td> <td>    0.003</td> <td>    0.179</td> <td> 0.858</td> <td>   -0.005</td> <td>    0.006</td>\n",
       "</tr>\n",
       "<tr>\n",
       "  <th>store_nbr_7</th>            <td>   -0.0028</td> <td>    0.003</td> <td>   -0.922</td> <td> 0.356</td> <td>   -0.009</td> <td>    0.003</td>\n",
       "</tr>\n",
       "<tr>\n",
       "  <th>store_nbr_8</th>            <td>   -0.0014</td> <td>    0.003</td> <td>   -0.453</td> <td> 0.650</td> <td>   -0.007</td> <td>    0.005</td>\n",
       "</tr>\n",
       "<tr>\n",
       "  <th>store_nbr_9</th>            <td>   -0.0012</td> <td>    0.003</td> <td>   -0.374</td> <td> 0.708</td> <td>   -0.008</td> <td>    0.005</td>\n",
       "</tr>\n",
       "<tr>\n",
       "  <th>store_nbr_10</th>           <td>   -0.0015</td> <td>    0.002</td> <td>   -0.630</td> <td> 0.529</td> <td>   -0.006</td> <td>    0.003</td>\n",
       "</tr>\n",
       "<tr>\n",
       "  <th>store_nbr_11</th>           <td>    0.0024</td> <td>    0.002</td> <td>    1.401</td> <td> 0.161</td> <td>   -0.001</td> <td>    0.006</td>\n",
       "</tr>\n",
       "<tr>\n",
       "  <th>store_nbr_12</th>           <td>    0.0012</td> <td>    0.003</td> <td>    0.464</td> <td> 0.643</td> <td>   -0.004</td> <td>    0.006</td>\n",
       "</tr>\n",
       "<tr>\n",
       "  <th>store_nbr_13</th>           <td>   -0.0012</td> <td>    0.003</td> <td>   -0.442</td> <td> 0.659</td> <td>   -0.007</td> <td>    0.004</td>\n",
       "</tr>\n",
       "<tr>\n",
       "  <th>store_nbr_14</th>           <td>   -0.0004</td> <td>    0.001</td> <td>   -0.330</td> <td> 0.741</td> <td>   -0.003</td> <td>    0.002</td>\n",
       "</tr>\n",
       "<tr>\n",
       "  <th>store_nbr_15</th>           <td>   -0.0008</td> <td>    0.001</td> <td>   -0.533</td> <td> 0.594</td> <td>   -0.004</td> <td>    0.002</td>\n",
       "</tr>\n",
       "<tr>\n",
       "  <th>store_nbr_16</th>           <td>    0.0013</td> <td>    0.003</td> <td>    0.482</td> <td> 0.630</td> <td>   -0.004</td> <td>    0.007</td>\n",
       "</tr>\n",
       "<tr>\n",
       "  <th>store_nbr_17</th>           <td>   -0.0001</td> <td>    0.002</td> <td>   -0.068</td> <td> 0.946</td> <td>   -0.003</td> <td>    0.003</td>\n",
       "</tr>\n",
       "<tr>\n",
       "  <th>store_nbr_18</th>           <td>   -0.0043</td> <td>    0.001</td> <td>   -3.014</td> <td> 0.003</td> <td>   -0.007</td> <td>   -0.001</td>\n",
       "</tr>\n",
       "<tr>\n",
       "  <th>store_nbr_19</th>           <td>    0.0002</td> <td>    0.002</td> <td>    0.154</td> <td> 0.878</td> <td>   -0.003</td> <td>    0.003</td>\n",
       "</tr>\n",
       "<tr>\n",
       "  <th>store_nbr_20</th>           <td>   -0.0040</td> <td>    0.004</td> <td>   -1.139</td> <td> 0.255</td> <td>   -0.011</td> <td>    0.003</td>\n",
       "</tr>\n",
       "<tr>\n",
       "  <th>store_nbr_21</th>           <td>    0.0006</td> <td>    0.003</td> <td>    0.228</td> <td> 0.819</td> <td>   -0.005</td> <td>    0.006</td>\n",
       "</tr>\n",
       "<tr>\n",
       "  <th>store_nbr_22</th>           <td>   -0.0007</td> <td>    0.001</td> <td>   -0.589</td> <td> 0.556</td> <td>   -0.003</td> <td>    0.002</td>\n",
       "</tr>\n",
       "<tr>\n",
       "  <th>store_nbr_23</th>           <td>   -0.0025</td> <td>    0.002</td> <td>   -1.161</td> <td> 0.246</td> <td>   -0.007</td> <td>    0.002</td>\n",
       "</tr>\n",
       "<tr>\n",
       "  <th>store_nbr_24</th>           <td>    0.0058</td> <td>    0.002</td> <td>    2.386</td> <td> 0.017</td> <td>    0.001</td> <td>    0.011</td>\n",
       "</tr>\n",
       "<tr>\n",
       "  <th>store_nbr_25</th>           <td>   -0.0027</td> <td>    0.002</td> <td>   -1.580</td> <td> 0.114</td> <td>   -0.006</td> <td>    0.001</td>\n",
       "</tr>\n",
       "<tr>\n",
       "  <th>store_nbr_26</th>           <td>   -0.0060</td> <td>    0.002</td> <td>   -2.700</td> <td> 0.007</td> <td>   -0.010</td> <td>   -0.002</td>\n",
       "</tr>\n",
       "<tr>\n",
       "  <th>store_nbr_27</th>           <td>   -0.0002</td> <td>    0.002</td> <td>   -0.137</td> <td> 0.891</td> <td>   -0.003</td> <td>    0.003</td>\n",
       "</tr>\n",
       "<tr>\n",
       "  <th>store_nbr_28</th>           <td>    0.0029</td> <td>    0.003</td> <td>    1.119</td> <td> 0.263</td> <td>   -0.002</td> <td>    0.008</td>\n",
       "</tr>\n",
       "<tr>\n",
       "  <th>store_nbr_29</th>           <td>   -0.0014</td> <td>    0.002</td> <td>   -0.568</td> <td> 0.570</td> <td>   -0.006</td> <td>    0.003</td>\n",
       "</tr>\n",
       "<tr>\n",
       "  <th>store_nbr_30</th>           <td>   -0.0011</td> <td>    0.003</td> <td>   -0.375</td> <td> 0.707</td> <td>   -0.007</td> <td>    0.004</td>\n",
       "</tr>\n",
       "<tr>\n",
       "  <th>store_nbr_31</th>           <td>    0.0022</td> <td>    0.001</td> <td>    1.594</td> <td> 0.111</td> <td>   -0.000</td> <td>    0.005</td>\n",
       "</tr>\n",
       "<tr>\n",
       "  <th>store_nbr_32</th>           <td>   -0.0005</td> <td>    0.003</td> <td>   -0.164</td> <td> 0.870</td> <td>   -0.006</td> <td>    0.005</td>\n",
       "</tr>\n",
       "<tr>\n",
       "  <th>store_nbr_33</th>           <td>    0.0007</td> <td>    0.002</td> <td>    0.427</td> <td> 0.669</td> <td>   -0.002</td> <td>    0.004</td>\n",
       "</tr>\n",
       "<tr>\n",
       "  <th>store_nbr_34</th>           <td>    0.0004</td> <td>    0.003</td> <td>    0.135</td> <td> 0.893</td> <td>   -0.005</td> <td>    0.006</td>\n",
       "</tr>\n",
       "<tr>\n",
       "  <th>store_nbr_35</th>           <td>    0.0004</td> <td>    0.002</td> <td>    0.261</td> <td> 0.794</td> <td>   -0.003</td> <td>    0.004</td>\n",
       "</tr>\n",
       "<tr>\n",
       "  <th>store_nbr_36</th>           <td> 6.975e-05</td> <td>    0.002</td> <td>    0.040</td> <td> 0.968</td> <td>   -0.003</td> <td>    0.004</td>\n",
       "</tr>\n",
       "<tr>\n",
       "  <th>store_nbr_37</th>           <td>   -0.0006</td> <td>    0.003</td> <td>   -0.215</td> <td> 0.830</td> <td>   -0.006</td> <td>    0.005</td>\n",
       "</tr>\n",
       "<tr>\n",
       "  <th>store_nbr_38</th>           <td>    0.0010</td> <td>    0.002</td> <td>    0.575</td> <td> 0.565</td> <td>   -0.002</td> <td>    0.004</td>\n",
       "</tr>\n",
       "<tr>\n",
       "  <th>store_nbr_39</th>           <td>    0.0015</td> <td>    0.002</td> <td>    0.704</td> <td> 0.481</td> <td>   -0.003</td> <td>    0.006</td>\n",
       "</tr>\n",
       "<tr>\n",
       "  <th>store_nbr_40</th>           <td>-1.067e-05</td> <td>    0.002</td> <td>   -0.005</td> <td> 0.996</td> <td>   -0.005</td> <td>    0.005</td>\n",
       "</tr>\n",
       "<tr>\n",
       "  <th>store_nbr_41</th>           <td>    0.0013</td> <td>    0.002</td> <td>    0.579</td> <td> 0.563</td> <td>   -0.003</td> <td>    0.006</td>\n",
       "</tr>\n",
       "<tr>\n",
       "  <th>store_nbr_42</th>           <td>    0.0004</td> <td>    0.003</td> <td>    0.137</td> <td> 0.891</td> <td>   -0.005</td> <td>    0.006</td>\n",
       "</tr>\n",
       "<tr>\n",
       "  <th>store_nbr_43</th>           <td> -1.01e-05</td> <td>    0.002</td> <td>   -0.006</td> <td> 0.995</td> <td>   -0.003</td> <td>    0.003</td>\n",
       "</tr>\n",
       "<tr>\n",
       "  <th>store_nbr_44</th>           <td>    0.0105</td> <td>    0.002</td> <td>    6.967</td> <td> 0.000</td> <td>    0.008</td> <td>    0.013</td>\n",
       "</tr>\n",
       "<tr>\n",
       "  <th>store_nbr_45</th>           <td>    0.0020</td> <td>    0.003</td> <td>    0.746</td> <td> 0.456</td> <td>   -0.003</td> <td>    0.007</td>\n",
       "</tr>\n",
       "<tr>\n",
       "  <th>store_nbr_46</th>           <td>   -0.0066</td> <td>    0.003</td> <td>   -2.208</td> <td> 0.027</td> <td>   -0.012</td> <td>   -0.001</td>\n",
       "</tr>\n",
       "<tr>\n",
       "  <th>store_nbr_47</th>           <td>    0.0056</td> <td>    0.003</td> <td>    1.879</td> <td> 0.060</td> <td>   -0.000</td> <td>    0.012</td>\n",
       "</tr>\n",
       "<tr>\n",
       "  <th>store_nbr_48</th>           <td>   -0.0020</td> <td>    0.003</td> <td>   -0.643</td> <td> 0.520</td> <td>   -0.008</td> <td>    0.004</td>\n",
       "</tr>\n",
       "<tr>\n",
       "  <th>store_nbr_49</th>           <td>    0.0045</td> <td>    0.003</td> <td>    1.730</td> <td> 0.084</td> <td>   -0.001</td> <td>    0.010</td>\n",
       "</tr>\n",
       "<tr>\n",
       "  <th>store_nbr_50</th>           <td>    0.0011</td> <td>    0.002</td> <td>    0.479</td> <td> 0.632</td> <td>   -0.003</td> <td>    0.006</td>\n",
       "</tr>\n",
       "<tr>\n",
       "  <th>store_nbr_51</th>           <td>   -0.0001</td> <td>    0.001</td> <td>   -0.079</td> <td> 0.937</td> <td>   -0.003</td> <td>    0.003</td>\n",
       "</tr>\n",
       "<tr>\n",
       "  <th>store_nbr_52</th>           <td>   -0.0049</td> <td>    0.002</td> <td>   -2.343</td> <td> 0.019</td> <td>   -0.009</td> <td>   -0.001</td>\n",
       "</tr>\n",
       "<tr>\n",
       "  <th>store_nbr_53</th>           <td>    0.0034</td> <td>    0.002</td> <td>    1.596</td> <td> 0.111</td> <td>   -0.001</td> <td>    0.008</td>\n",
       "</tr>\n",
       "<tr>\n",
       "  <th>store_nbr_54</th>           <td>   -0.0013</td> <td>    0.002</td> <td>   -0.692</td> <td> 0.489</td> <td>   -0.005</td> <td>    0.002</td>\n",
       "</tr>\n",
       "<tr>\n",
       "  <th>item_nbr_115894</th>        <td>   -0.0011</td> <td>    0.002</td> <td>   -0.510</td> <td> 0.610</td> <td>   -0.005</td> <td>    0.003</td>\n",
       "</tr>\n",
       "<tr>\n",
       "  <th>item_nbr_165988</th>        <td>   -0.0006</td> <td>    0.002</td> <td>   -0.310</td> <td> 0.756</td> <td>   -0.005</td> <td>    0.003</td>\n",
       "</tr>\n",
       "<tr>\n",
       "  <th>item_nbr_273528</th>        <td>    0.0018</td> <td>    0.002</td> <td>    0.997</td> <td> 0.319</td> <td>   -0.002</td> <td>    0.005</td>\n",
       "</tr>\n",
       "<tr>\n",
       "  <th>item_nbr_315474</th>        <td>   -0.0013</td> <td>    0.001</td> <td>   -1.562</td> <td> 0.118</td> <td>   -0.003</td> <td>    0.000</td>\n",
       "</tr>\n",
       "<tr>\n",
       "  <th>item_nbr_414353</th>        <td>    0.0043</td> <td>    0.002</td> <td>    2.079</td> <td> 0.038</td> <td>    0.000</td> <td>    0.008</td>\n",
       "</tr>\n",
       "<tr>\n",
       "  <th>item_nbr_581078</th>        <td>   -0.0017</td> <td>    0.001</td> <td>   -1.813</td> <td> 0.070</td> <td>   -0.004</td> <td>    0.000</td>\n",
       "</tr>\n",
       "<tr>\n",
       "  <th>item_nbr_847863</th>        <td>   -0.0041</td> <td>    0.002</td> <td>   -1.987</td> <td> 0.047</td> <td>   -0.008</td> <td>-5.49e-05</td>\n",
       "</tr>\n",
       "<tr>\n",
       "  <th>item_nbr_1080021</th>       <td>   -0.0019</td> <td>    0.002</td> <td>   -0.896</td> <td> 0.370</td> <td>   -0.006</td> <td>    0.002</td>\n",
       "</tr>\n",
       "<tr>\n",
       "  <th>item_nbr_1087269</th>       <td>   -0.0060</td> <td>    0.002</td> <td>   -3.301</td> <td> 0.001</td> <td>   -0.010</td> <td>   -0.002</td>\n",
       "</tr>\n",
       "<tr>\n",
       "  <th>item_nbr_1146785</th>       <td>   -0.0014</td> <td>    0.002</td> <td>   -0.693</td> <td> 0.489</td> <td>   -0.005</td> <td>    0.003</td>\n",
       "</tr>\n",
       "<tr>\n",
       "  <th>item_nbr_1157329</th>       <td>   -0.0022</td> <td>    0.002</td> <td>   -1.061</td> <td> 0.289</td> <td>   -0.006</td> <td>    0.002</td>\n",
       "</tr>\n",
       "<tr>\n",
       "  <th>item_nbr_1254013</th>       <td>   -0.0013</td> <td>    0.002</td> <td>   -0.725</td> <td> 0.468</td> <td>   -0.005</td> <td>    0.002</td>\n",
       "</tr>\n",
       "<tr>\n",
       "  <th>item_nbr_1342003</th>       <td>   -0.0006</td> <td>    0.002</td> <td>   -0.295</td> <td> 0.768</td> <td>   -0.005</td> <td>    0.003</td>\n",
       "</tr>\n",
       "<tr>\n",
       "  <th>item_nbr_1418845</th>       <td>    0.0024</td> <td>    0.002</td> <td>    1.139</td> <td> 0.255</td> <td>   -0.002</td> <td>    0.006</td>\n",
       "</tr>\n",
       "<tr>\n",
       "  <th>item_nbr_1418846</th>       <td>   -0.0027</td> <td>    0.002</td> <td>   -1.311</td> <td> 0.190</td> <td>   -0.007</td> <td>    0.001</td>\n",
       "</tr>\n",
       "<tr>\n",
       "  <th>item_nbr_1473475</th>       <td>    0.0008</td> <td>    0.002</td> <td>    0.517</td> <td> 0.606</td> <td>   -0.002</td> <td>    0.004</td>\n",
       "</tr>\n",
       "<tr>\n",
       "  <th>item_nbr_1489899</th>       <td>   -0.0012</td> <td>    0.002</td> <td>   -0.778</td> <td> 0.436</td> <td>   -0.004</td> <td>    0.002</td>\n",
       "</tr>\n",
       "<tr>\n",
       "  <th>item_nbr_1958181</th>       <td>   -0.0275</td> <td>    0.002</td> <td>  -15.197</td> <td> 0.000</td> <td>   -0.031</td> <td>   -0.024</td>\n",
       "</tr>\n",
       "<tr>\n",
       "  <th>item_nbr_2042941</th>       <td>    0.0266</td> <td>    0.002</td> <td>   15.028</td> <td> 0.000</td> <td>    0.023</td> <td>    0.030</td>\n",
       "</tr>\n",
       "<tr>\n",
       "  <th>item_nbr_2042947</th>       <td>    0.0222</td> <td>    0.002</td> <td>   12.534</td> <td> 0.000</td> <td>    0.019</td> <td>    0.026</td>\n",
       "</tr>\n",
       "<tr>\n",
       "  <th>family_BEVERAGES</th>       <td>    0.0213</td> <td>    0.001</td> <td>   26.313</td> <td> 0.000</td> <td>    0.020</td> <td>    0.023</td>\n",
       "</tr>\n",
       "<tr>\n",
       "  <th>family_BREAD/BAKERY</th>    <td>   -0.0013</td> <td>    0.001</td> <td>   -1.562</td> <td> 0.118</td> <td>   -0.003</td> <td>    0.000</td>\n",
       "</tr>\n",
       "<tr>\n",
       "  <th>family_CLEANING</th>        <td>   -0.0017</td> <td>    0.001</td> <td>   -1.813</td> <td> 0.070</td> <td>   -0.004</td> <td>    0.000</td>\n",
       "</tr>\n",
       "<tr>\n",
       "  <th>family_GROCERY I</th>       <td>   -0.0079</td> <td>    0.001</td> <td>  -12.099</td> <td> 0.000</td> <td>   -0.009</td> <td>   -0.007</td>\n",
       "</tr>\n",
       "<tr>\n",
       "  <th>family_PERSONAL CARE</th>   <td>   -0.0055</td> <td>    0.001</td> <td>   -6.887</td> <td> 0.000</td> <td>   -0.007</td> <td>   -0.004</td>\n",
       "</tr>\n",
       "<tr>\n",
       "  <th>family_PRODUCE</th>         <td>   -0.0004</td> <td>    0.001</td> <td>   -0.545</td> <td> 0.586</td> <td>   -0.002</td> <td>    0.001</td>\n",
       "</tr>\n",
       "<tr>\n",
       "  <th>perishable_0</th>           <td>    0.0061</td> <td>    0.000</td> <td>   12.723</td> <td> 0.000</td> <td>    0.005</td> <td>    0.007</td>\n",
       "</tr>\n",
       "<tr>\n",
       "  <th>perishable_1</th>           <td>   -0.0017</td> <td>    0.001</td> <td>   -3.275</td> <td> 0.001</td> <td>   -0.003</td> <td>   -0.001</td>\n",
       "</tr>\n",
       "<tr>\n",
       "  <th>type_y_Additional</th>      <td>    0.0019</td> <td>    0.002</td> <td>    1.065</td> <td> 0.287</td> <td>   -0.002</td> <td>    0.006</td>\n",
       "</tr>\n",
       "<tr>\n",
       "  <th>type_y_Holiday</th>         <td>    0.0021</td> <td>    0.001</td> <td>    1.539</td> <td> 0.124</td> <td>   -0.001</td> <td>    0.005</td>\n",
       "</tr>\n",
       "<tr>\n",
       "  <th>type_y_Transfer</th>        <td>   -0.0007</td> <td>    0.002</td> <td>   -0.438</td> <td> 0.661</td> <td>   -0.004</td> <td>    0.002</td>\n",
       "</tr>\n",
       "<tr>\n",
       "  <th>type_y_no_holyday</th>      <td>    0.0011</td> <td>    0.000</td> <td>    3.206</td> <td> 0.001</td> <td>    0.000</td> <td>    0.002</td>\n",
       "</tr>\n",
       "<tr>\n",
       "  <th>locale_Local</th>           <td>    0.0007</td> <td>    0.001</td> <td>    0.823</td> <td> 0.411</td> <td>   -0.001</td> <td>    0.002</td>\n",
       "</tr>\n",
       "<tr>\n",
       "  <th>locale_National</th>        <td>    0.0026</td> <td>    0.001</td> <td>    2.128</td> <td> 0.033</td> <td>    0.000</td> <td>    0.005</td>\n",
       "</tr>\n",
       "<tr>\n",
       "  <th>locale_no_locale</th>       <td>    0.0011</td> <td>    0.000</td> <td>    3.206</td> <td> 0.001</td> <td>    0.000</td> <td>    0.002</td>\n",
       "</tr>\n",
       "<tr>\n",
       "  <th>transferred_False</th>      <td> 7.331e-05</td> <td>    0.001</td> <td>    0.059</td> <td> 0.953</td> <td>   -0.002</td> <td>    0.003</td>\n",
       "</tr>\n",
       "<tr>\n",
       "  <th>transferred_True</th>       <td>    0.0033</td> <td>    0.002</td> <td>    2.103</td> <td> 0.036</td> <td>    0.000</td> <td>    0.006</td>\n",
       "</tr>\n",
       "<tr>\n",
       "  <th>transferred_no_holyday</th> <td>    0.0011</td> <td>    0.000</td> <td>    3.206</td> <td> 0.001</td> <td>    0.000</td> <td>    0.002</td>\n",
       "</tr>\n",
       "<tr>\n",
       "  <th>month_07</th>               <td>    0.0035</td> <td>    0.001</td> <td>    5.935</td> <td> 0.000</td> <td>    0.002</td> <td>    0.005</td>\n",
       "</tr>\n",
       "<tr>\n",
       "  <th>month_08</th>               <td>    0.0009</td> <td>    0.001</td> <td>    1.295</td> <td> 0.195</td> <td>   -0.000</td> <td>    0.002</td>\n",
       "</tr>\n",
       "<tr>\n",
       "  <th>day_Friday</th>             <td>   -0.0005</td> <td>    0.001</td> <td>   -0.324</td> <td> 0.746</td> <td>   -0.003</td> <td>    0.002</td>\n",
       "</tr>\n",
       "<tr>\n",
       "  <th>day_Monday</th>             <td>    0.0014</td> <td>    0.001</td> <td>    1.217</td> <td> 0.224</td> <td>   -0.001</td> <td>    0.004</td>\n",
       "</tr>\n",
       "<tr>\n",
       "  <th>day_Saturday</th>           <td>    0.0029</td> <td>    0.001</td> <td>    2.497</td> <td> 0.013</td> <td>    0.001</td> <td>    0.005</td>\n",
       "</tr>\n",
       "<tr>\n",
       "  <th>day_Sunday</th>             <td>    0.0055</td> <td>    0.001</td> <td>    4.660</td> <td> 0.000</td> <td>    0.003</td> <td>    0.008</td>\n",
       "</tr>\n",
       "<tr>\n",
       "  <th>day_Thursday</th>           <td>   -0.0038</td> <td>    0.001</td> <td>   -2.645</td> <td> 0.008</td> <td>   -0.007</td> <td>   -0.001</td>\n",
       "</tr>\n",
       "<tr>\n",
       "  <th>day_Tuesday</th>            <td>    0.0006</td> <td>    0.001</td> <td>    0.471</td> <td> 0.638</td> <td>   -0.002</td> <td>    0.003</td>\n",
       "</tr>\n",
       "<tr>\n",
       "  <th>day_Wednesday</th>          <td>   -0.0017</td> <td>    0.001</td> <td>   -1.312</td> <td> 0.189</td> <td>   -0.004</td> <td>    0.001</td>\n",
       "</tr>\n",
       "</table>\n",
       "<table class=\"simpletable\">\n",
       "<tr>\n",
       "  <th>Omnibus:</th>       <td>5975.960</td> <th>  Durbin-Watson:     </th>   <td>   1.994</td>  \n",
       "</tr>\n",
       "<tr>\n",
       "  <th>Prob(Omnibus):</th>  <td> 0.000</td>  <th>  Jarque-Bera (JB):  </th> <td>30308766.074</td>\n",
       "</tr>\n",
       "<tr>\n",
       "  <th>Skew:</th>           <td>15.644</td>  <th>  Prob(JB):          </th>   <td>    0.00</td>  \n",
       "</tr>\n",
       "<tr>\n",
       "  <th>Kurtosis:</th>       <td>495.407</td> <th>  Cond. No.          </th>   <td>1.71e+16</td>  \n",
       "</tr>\n",
       "</table>"
      ],
      "text/plain": [
       "<class 'statsmodels.iolib.summary.Summary'>\n",
       "\"\"\"\n",
       "                            OLS Regression Results                            \n",
       "==============================================================================\n",
       "Dep. Variable:             unit_sales   R-squared:                       0.354\n",
       "Model:                            OLS   Adj. R-squared:                  0.335\n",
       "Method:                 Least Squares   F-statistic:                     18.69\n",
       "Date:                Sat, 21 Apr 2018   Prob (F-statistic):          2.22e-213\n",
       "Time:                        11:36:28   Log-Likelihood:                 6716.8\n",
       "No. Observations:                2988   AIC:                        -1.326e+04\n",
       "Df Residuals:                    2902   BIC:                        -1.275e+04\n",
       "Df Model:                          85                                         \n",
       "Covariance Type:            nonrobust                                         \n",
       "==========================================================================================\n",
       "                             coef    std err          t      P>|t|      [0.025      0.975]\n",
       "------------------------------------------------------------------------------------------\n",
       "dcoilwtico                 0.0057      0.002      3.394      0.001       0.002       0.009\n",
       "onpromotion_False         -0.0037      0.001     -5.395      0.000      -0.005      -0.002\n",
       "onpromotion_True           0.0082      0.001      9.787      0.000       0.007       0.010\n",
       "city_Ambato               -0.0014      0.002     -0.839      0.401      -0.005       0.002\n",
       "city_Babahoyo              0.0022      0.001      1.594      0.111      -0.000       0.005\n",
       "city_Cayambe               0.0024      0.002      1.401      0.161      -0.001       0.006\n",
       "city_Cuenca                0.0013      0.001      0.887      0.375      -0.002       0.004\n",
       "city_Daule                -0.0002      0.002     -0.137      0.891      -0.003       0.003\n",
       "city_El Carmen            -0.0013      0.002     -0.692      0.489      -0.005       0.002\n",
       "city_Esmeraldas         -1.01e-05      0.002     -0.006      0.995      -0.003       0.003\n",
       "city_Guaranda              0.0002      0.002      0.154      0.878      -0.003       0.003\n",
       "city_Guayaquil          2.858e-05      0.001      0.024      0.981      -0.002       0.002\n",
       "city_Ibarra               -0.0008      0.001     -0.533      0.594      -0.004       0.002\n",
       "city_Latacunga         -4.487e-06      0.002     -0.003      0.998      -0.003       0.003\n",
       "city_Libertad           6.975e-05      0.002      0.040      0.968      -0.003       0.004\n",
       "city_Loja                  0.0010      0.002      0.575      0.565      -0.002       0.004\n",
       "city_Machala               0.0013      0.002      0.802      0.423      -0.002       0.005\n",
       "city_Manta                -0.0015      0.001     -1.015      0.310      -0.004       0.001\n",
       "city_Playas                0.0004      0.002      0.261      0.794      -0.003       0.004\n",
       "city_Puyo                 -0.0007      0.001     -0.589      0.556      -0.003       0.002\n",
       "city_Quevedo               0.0007      0.002      0.427      0.669      -0.002       0.004\n",
       "city_Quito                 0.0037      0.001      3.598      0.000       0.002       0.006\n",
       "city_Riobamba             -0.0004      0.001     -0.330      0.741      -0.003       0.002\n",
       "city_Salinas              -0.0027      0.002     -1.580      0.114      -0.006       0.001\n",
       "city_Santo Domingo       4.72e-05      0.002      0.030      0.976      -0.003       0.003\n",
       "type_x_A                   0.0101      0.001     12.258      0.000       0.008       0.012\n",
       "type_x_B                  -0.0025      0.001     -2.781      0.005      -0.004      -0.001\n",
       "type_x_C                  -0.0036      0.001     -4.989      0.000      -0.005      -0.002\n",
       "type_x_D                  -0.0012      0.001     -1.394      0.164      -0.003       0.000\n",
       "type_x_E                   0.0016      0.001      1.326      0.185      -0.001       0.004\n",
       "cluster_1                  0.0029      0.001      2.053      0.040       0.000       0.006\n",
       "cluster_2                 -0.0002      0.001     -0.165      0.869      -0.003       0.003\n",
       "cluster_3                 -0.0004      0.001     -0.359      0.719      -0.002       0.002\n",
       "cluster_4                  0.0005      0.001      0.318      0.750      -0.002       0.003\n",
       "cluster_5                  0.0105      0.002      6.967      0.000       0.008       0.013\n",
       "cluster_6                 -0.0003      0.001     -0.296      0.767      -0.003       0.002\n",
       "cluster_7                 -0.0011      0.001     -1.114      0.265      -0.003       0.001\n",
       "cluster_8                  0.0035      0.001      2.428      0.015       0.001       0.006\n",
       "cluster_9                  0.0003      0.001      0.207      0.836      -0.003       0.003\n",
       "cluster_10                -0.0023      0.001     -1.774      0.076      -0.005       0.000\n",
       "cluster_11                 0.0016      0.001      1.219      0.223      -0.001       0.004\n",
       "cluster_12                -0.0001      0.002     -0.068      0.946      -0.003       0.003\n",
       "cluster_13                -0.0021      0.001     -1.563      0.118      -0.005       0.001\n",
       "cluster_14                -0.0019      0.001     -1.457      0.145      -0.004       0.001\n",
       "cluster_15                -0.0021      0.001     -1.878      0.060      -0.004    9.15e-05\n",
       "cluster_16                -0.0043      0.001     -3.014      0.003      -0.007      -0.001\n",
       "cluster_17                -0.0001      0.001     -0.079      0.937      -0.003       0.003\n",
       "store_nbr_1               -0.0064      0.003     -2.317      0.021      -0.012      -0.001\n",
       "store_nbr_2                0.0004      0.003      0.135      0.893      -0.005       0.006\n",
       "store_nbr_3                0.0076      0.003      2.783      0.005       0.002       0.013\n",
       "store_nbr_4                0.0028      0.002      1.236      0.216      -0.002       0.007\n",
       "store_nbr_5               -0.0019      0.002     -0.800      0.423      -0.006       0.003\n",
       "store_nbr_6                0.0005      0.003      0.179      0.858      -0.005       0.006\n",
       "store_nbr_7               -0.0028      0.003     -0.922      0.356      -0.009       0.003\n",
       "store_nbr_8               -0.0014      0.003     -0.453      0.650      -0.007       0.005\n",
       "store_nbr_9               -0.0012      0.003     -0.374      0.708      -0.008       0.005\n",
       "store_nbr_10              -0.0015      0.002     -0.630      0.529      -0.006       0.003\n",
       "store_nbr_11               0.0024      0.002      1.401      0.161      -0.001       0.006\n",
       "store_nbr_12               0.0012      0.003      0.464      0.643      -0.004       0.006\n",
       "store_nbr_13              -0.0012      0.003     -0.442      0.659      -0.007       0.004\n",
       "store_nbr_14              -0.0004      0.001     -0.330      0.741      -0.003       0.002\n",
       "store_nbr_15              -0.0008      0.001     -0.533      0.594      -0.004       0.002\n",
       "store_nbr_16               0.0013      0.003      0.482      0.630      -0.004       0.007\n",
       "store_nbr_17              -0.0001      0.002     -0.068      0.946      -0.003       0.003\n",
       "store_nbr_18              -0.0043      0.001     -3.014      0.003      -0.007      -0.001\n",
       "store_nbr_19               0.0002      0.002      0.154      0.878      -0.003       0.003\n",
       "store_nbr_20              -0.0040      0.004     -1.139      0.255      -0.011       0.003\n",
       "store_nbr_21               0.0006      0.003      0.228      0.819      -0.005       0.006\n",
       "store_nbr_22              -0.0007      0.001     -0.589      0.556      -0.003       0.002\n",
       "store_nbr_23              -0.0025      0.002     -1.161      0.246      -0.007       0.002\n",
       "store_nbr_24               0.0058      0.002      2.386      0.017       0.001       0.011\n",
       "store_nbr_25              -0.0027      0.002     -1.580      0.114      -0.006       0.001\n",
       "store_nbr_26              -0.0060      0.002     -2.700      0.007      -0.010      -0.002\n",
       "store_nbr_27              -0.0002      0.002     -0.137      0.891      -0.003       0.003\n",
       "store_nbr_28               0.0029      0.003      1.119      0.263      -0.002       0.008\n",
       "store_nbr_29              -0.0014      0.002     -0.568      0.570      -0.006       0.003\n",
       "store_nbr_30              -0.0011      0.003     -0.375      0.707      -0.007       0.004\n",
       "store_nbr_31               0.0022      0.001      1.594      0.111      -0.000       0.005\n",
       "store_nbr_32              -0.0005      0.003     -0.164      0.870      -0.006       0.005\n",
       "store_nbr_33               0.0007      0.002      0.427      0.669      -0.002       0.004\n",
       "store_nbr_34               0.0004      0.003      0.135      0.893      -0.005       0.006\n",
       "store_nbr_35               0.0004      0.002      0.261      0.794      -0.003       0.004\n",
       "store_nbr_36            6.975e-05      0.002      0.040      0.968      -0.003       0.004\n",
       "store_nbr_37              -0.0006      0.003     -0.215      0.830      -0.006       0.005\n",
       "store_nbr_38               0.0010      0.002      0.575      0.565      -0.002       0.004\n",
       "store_nbr_39               0.0015      0.002      0.704      0.481      -0.003       0.006\n",
       "store_nbr_40           -1.067e-05      0.002     -0.005      0.996      -0.005       0.005\n",
       "store_nbr_41               0.0013      0.002      0.579      0.563      -0.003       0.006\n",
       "store_nbr_42               0.0004      0.003      0.137      0.891      -0.005       0.006\n",
       "store_nbr_43            -1.01e-05      0.002     -0.006      0.995      -0.003       0.003\n",
       "store_nbr_44               0.0105      0.002      6.967      0.000       0.008       0.013\n",
       "store_nbr_45               0.0020      0.003      0.746      0.456      -0.003       0.007\n",
       "store_nbr_46              -0.0066      0.003     -2.208      0.027      -0.012      -0.001\n",
       "store_nbr_47               0.0056      0.003      1.879      0.060      -0.000       0.012\n",
       "store_nbr_48              -0.0020      0.003     -0.643      0.520      -0.008       0.004\n",
       "store_nbr_49               0.0045      0.003      1.730      0.084      -0.001       0.010\n",
       "store_nbr_50               0.0011      0.002      0.479      0.632      -0.003       0.006\n",
       "store_nbr_51              -0.0001      0.001     -0.079      0.937      -0.003       0.003\n",
       "store_nbr_52              -0.0049      0.002     -2.343      0.019      -0.009      -0.001\n",
       "store_nbr_53               0.0034      0.002      1.596      0.111      -0.001       0.008\n",
       "store_nbr_54              -0.0013      0.002     -0.692      0.489      -0.005       0.002\n",
       "item_nbr_115894           -0.0011      0.002     -0.510      0.610      -0.005       0.003\n",
       "item_nbr_165988           -0.0006      0.002     -0.310      0.756      -0.005       0.003\n",
       "item_nbr_273528            0.0018      0.002      0.997      0.319      -0.002       0.005\n",
       "item_nbr_315474           -0.0013      0.001     -1.562      0.118      -0.003       0.000\n",
       "item_nbr_414353            0.0043      0.002      2.079      0.038       0.000       0.008\n",
       "item_nbr_581078           -0.0017      0.001     -1.813      0.070      -0.004       0.000\n",
       "item_nbr_847863           -0.0041      0.002     -1.987      0.047      -0.008   -5.49e-05\n",
       "item_nbr_1080021          -0.0019      0.002     -0.896      0.370      -0.006       0.002\n",
       "item_nbr_1087269          -0.0060      0.002     -3.301      0.001      -0.010      -0.002\n",
       "item_nbr_1146785          -0.0014      0.002     -0.693      0.489      -0.005       0.003\n",
       "item_nbr_1157329          -0.0022      0.002     -1.061      0.289      -0.006       0.002\n",
       "item_nbr_1254013          -0.0013      0.002     -0.725      0.468      -0.005       0.002\n",
       "item_nbr_1342003          -0.0006      0.002     -0.295      0.768      -0.005       0.003\n",
       "item_nbr_1418845           0.0024      0.002      1.139      0.255      -0.002       0.006\n",
       "item_nbr_1418846          -0.0027      0.002     -1.311      0.190      -0.007       0.001\n",
       "item_nbr_1473475           0.0008      0.002      0.517      0.606      -0.002       0.004\n",
       "item_nbr_1489899          -0.0012      0.002     -0.778      0.436      -0.004       0.002\n",
       "item_nbr_1958181          -0.0275      0.002    -15.197      0.000      -0.031      -0.024\n",
       "item_nbr_2042941           0.0266      0.002     15.028      0.000       0.023       0.030\n",
       "item_nbr_2042947           0.0222      0.002     12.534      0.000       0.019       0.026\n",
       "family_BEVERAGES           0.0213      0.001     26.313      0.000       0.020       0.023\n",
       "family_BREAD/BAKERY       -0.0013      0.001     -1.562      0.118      -0.003       0.000\n",
       "family_CLEANING           -0.0017      0.001     -1.813      0.070      -0.004       0.000\n",
       "family_GROCERY I          -0.0079      0.001    -12.099      0.000      -0.009      -0.007\n",
       "family_PERSONAL CARE      -0.0055      0.001     -6.887      0.000      -0.007      -0.004\n",
       "family_PRODUCE            -0.0004      0.001     -0.545      0.586      -0.002       0.001\n",
       "perishable_0               0.0061      0.000     12.723      0.000       0.005       0.007\n",
       "perishable_1              -0.0017      0.001     -3.275      0.001      -0.003      -0.001\n",
       "type_y_Additional          0.0019      0.002      1.065      0.287      -0.002       0.006\n",
       "type_y_Holiday             0.0021      0.001      1.539      0.124      -0.001       0.005\n",
       "type_y_Transfer           -0.0007      0.002     -0.438      0.661      -0.004       0.002\n",
       "type_y_no_holyday          0.0011      0.000      3.206      0.001       0.000       0.002\n",
       "locale_Local               0.0007      0.001      0.823      0.411      -0.001       0.002\n",
       "locale_National            0.0026      0.001      2.128      0.033       0.000       0.005\n",
       "locale_no_locale           0.0011      0.000      3.206      0.001       0.000       0.002\n",
       "transferred_False       7.331e-05      0.001      0.059      0.953      -0.002       0.003\n",
       "transferred_True           0.0033      0.002      2.103      0.036       0.000       0.006\n",
       "transferred_no_holyday     0.0011      0.000      3.206      0.001       0.000       0.002\n",
       "month_07                   0.0035      0.001      5.935      0.000       0.002       0.005\n",
       "month_08                   0.0009      0.001      1.295      0.195      -0.000       0.002\n",
       "day_Friday                -0.0005      0.001     -0.324      0.746      -0.003       0.002\n",
       "day_Monday                 0.0014      0.001      1.217      0.224      -0.001       0.004\n",
       "day_Saturday               0.0029      0.001      2.497      0.013       0.001       0.005\n",
       "day_Sunday                 0.0055      0.001      4.660      0.000       0.003       0.008\n",
       "day_Thursday              -0.0038      0.001     -2.645      0.008      -0.007      -0.001\n",
       "day_Tuesday                0.0006      0.001      0.471      0.638      -0.002       0.003\n",
       "day_Wednesday             -0.0017      0.001     -1.312      0.189      -0.004       0.001\n",
       "==============================================================================\n",
       "Omnibus:                     5975.960   Durbin-Watson:                   1.994\n",
       "Prob(Omnibus):                  0.000   Jarque-Bera (JB):         30308766.074\n",
       "Skew:                          15.644   Prob(JB):                         0.00\n",
       "Kurtosis:                     495.407   Cond. No.                     1.71e+16\n",
       "==============================================================================\n",
       "\n",
       "Warnings:\n",
       "[1] Standard Errors assume that the covariance matrix of the errors is correctly specified.\n",
       "[2] The smallest eigenvalue is 5.51e-29. This might indicate that there are\n",
       "strong multicollinearity problems or that the design matrix is singular.\n",
       "\"\"\""
      ]
     },
     "execution_count": 49,
     "metadata": {},
     "output_type": "execute_result"
    }
   ],
   "source": [
    "import statsmodels.api as sm\n",
    "import statsmodels.formula.api as sm\n",
    "model = sm.OLS(y_train, X_train)\n",
    "results = model.fit()\n",
    "# Statsmodels gives R-like statistical output\n",
    "results.summary()\n",
    "# Here the Ordinalry Least Squares method has given us the r^2 value of 0.354 which is poor for model \n",
    "# ...to be predicted on these variables."
   ]
  },
  {
   "cell_type": "markdown",
   "metadata": {},
   "source": [
    "##### The Linear regression model gives a low R- square value of 0.354"
   ]
  },
  {
   "cell_type": "markdown",
   "metadata": {
    "collapsed": true
   },
   "source": [
    "## Checking for VIF for eliminating multicollinearity and overfitting"
   ]
  },
  {
   "cell_type": "code",
   "execution_count": 50,
   "metadata": {
    "collapsed": true
   },
   "outputs": [],
   "source": [
    "#Implementing VIF (Variance Inflation Factor) to check whether the selected independent variables are correct for prediction \n",
    "# or not. Also, 'item_nbr', 'perishable' and 'dcoilwtico' had very close levels of co-relation with price which makes us to investigate whether all \n",
    "# three are important or not.\n",
    "indep=['dcoilwtico','perishable','item_nbr','store_nbr','cluster']\n",
    "X=Salesdf[indep]"
   ]
  },
  {
   "cell_type": "code",
   "execution_count": 51,
   "metadata": {
    "scrolled": true
   },
   "outputs": [
    {
     "name": "stdout",
     "output_type": "stream",
     "text": [
      "vif : [11.526623747491566, 1.3507403432685345, 4.9699125171435918, 4.0093263521352034, 4.6349900352112581]\n",
      "dcoilwtico\n",
      "Final variables:  ['perishable', 'item_nbr', 'store_nbr', 'cluster']\n"
     ]
    }
   ],
   "source": [
    "from statsmodels.stats.outliers_influence import variance_inflation_factor  \n",
    "thresh=10 #Setting a threshold of 10 as a sign of serious and sever multi-collinearity\n",
    "for i in np.arange(0,len(indep)):\n",
    "    vif=[variance_inflation_factor(X[indep].values,ix)\n",
    "    for ix in range(X[indep].shape[1])]\n",
    "    maxloc=vif.index(max(vif))\n",
    "    if max(vif) > thresh:\n",
    "        print (\"vif :\", vif)\n",
    "        print( X[indep].columns[maxloc] )\n",
    "        del indep[maxloc]\n",
    "    else:\n",
    "        break\n",
    "        \n",
    "    print ('Final variables: ', indep)"
   ]
  },
  {
   "cell_type": "code",
   "execution_count": 52,
   "metadata": {
    "scrolled": true
   },
   "outputs": [
    {
     "data": {
      "text/html": [
       "<div>\n",
       "<style scoped>\n",
       "    .dataframe tbody tr th:only-of-type {\n",
       "        vertical-align: middle;\n",
       "    }\n",
       "\n",
       "    .dataframe tbody tr th {\n",
       "        vertical-align: top;\n",
       "    }\n",
       "\n",
       "    .dataframe thead th {\n",
       "        text-align: right;\n",
       "    }\n",
       "</style>\n",
       "<table border=\"1\" class=\"dataframe\">\n",
       "  <thead>\n",
       "    <tr style=\"text-align: right;\">\n",
       "      <th></th>\n",
       "      <th>perishable</th>\n",
       "      <th>item_nbr</th>\n",
       "      <th>store_nbr</th>\n",
       "      <th>cluster</th>\n",
       "    </tr>\n",
       "  </thead>\n",
       "  <tbody>\n",
       "    <tr>\n",
       "      <th>0</th>\n",
       "      <td>1</td>\n",
       "      <td>633977</td>\n",
       "      <td>22</td>\n",
       "      <td>7</td>\n",
       "    </tr>\n",
       "    <tr>\n",
       "      <th>1</th>\n",
       "      <td>0</td>\n",
       "      <td>1991151</td>\n",
       "      <td>5</td>\n",
       "      <td>4</td>\n",
       "    </tr>\n",
       "    <tr>\n",
       "      <th>2</th>\n",
       "      <td>0</td>\n",
       "      <td>968935</td>\n",
       "      <td>5</td>\n",
       "      <td>4</td>\n",
       "    </tr>\n",
       "    <tr>\n",
       "      <th>3</th>\n",
       "      <td>0</td>\n",
       "      <td>1909453</td>\n",
       "      <td>18</td>\n",
       "      <td>16</td>\n",
       "    </tr>\n",
       "    <tr>\n",
       "      <th>4</th>\n",
       "      <td>1</td>\n",
       "      <td>1695875</td>\n",
       "      <td>52</td>\n",
       "      <td>11</td>\n",
       "    </tr>\n",
       "  </tbody>\n",
       "</table>\n",
       "</div>"
      ],
      "text/plain": [
       "   perishable  item_nbr  store_nbr  cluster\n",
       "0           1    633977         22        7\n",
       "1           0   1991151          5        4\n",
       "2           0    968935          5        4\n",
       "3           0   1909453         18       16\n",
       "4           1   1695875         52       11"
      ]
     },
     "execution_count": 52,
     "metadata": {},
     "output_type": "execute_result"
    }
   ],
   "source": [
    "X[indep].head(5)"
   ]
  },
  {
   "cell_type": "code",
   "execution_count": 53,
   "metadata": {
    "collapsed": true
   },
   "outputs": [],
   "source": [
    "X=Salesdf[['perishable', 'item_nbr', 'store_nbr', 'cluster']]\n",
    "y=Salesdf[[\"unit_sales\"]]"
   ]
  },
  {
   "cell_type": "markdown",
   "metadata": {},
   "source": [
    "## Cross Validation using Scikit Learn\n",
    "\n",
    "R^2 value is basically dependant on the way the data is split. Hence, there may be times when the R^2 value may not be able to\n",
    "represent the model's ability to generalize. For this we perform cross validation."
   ]
  },
  {
   "cell_type": "code",
   "execution_count": 54,
   "metadata": {
    "scrolled": true
   },
   "outputs": [
    {
     "name": "stdout",
     "output_type": "stream",
     "text": [
      "[ 0.41958907  0.42895752  0.39221205  0.20780525  0.27409657]\n",
      "0.344532091925\n",
      "0.0879658700132\n"
     ]
    }
   ],
   "source": [
    "reg=linear_model.LinearRegression()\n",
    "cv_results=cross_val_score(reg,X_train,y_train,cv=5)\n",
    "print(cv_results)\n",
    "print(np.mean(cv_results))\n",
    "print(np.std(cv_results))\n",
    "#Using cross validation of score 5"
   ]
  },
  {
   "cell_type": "markdown",
   "metadata": {},
   "source": [
    "## Regularization\n",
    "\n",
    "We perform regularization in order to alter the loss function to penalize it for having higher coefficients for each feature variable. And as we know, large coefficients leads to overfitting."
   ]
  },
  {
   "cell_type": "code",
   "execution_count": 55,
   "metadata": {},
   "outputs": [
    {
     "data": {
      "text/plain": [
       "0.40352756968925618"
      ]
     },
     "execution_count": 55,
     "metadata": {},
     "output_type": "execute_result"
    }
   ],
   "source": [
    "ridge = Ridge(alpha=0.1, normalize = True)\n",
    "ridge.fit(X_train,y_train)\n",
    "ridge_pred=ridge.predict(X_test)\n",
    "ridge.score(X_test,y_test)\n",
    "#The score is pretty much similar to the linear model built which ensures that the model has passed the Ridge regression test\n",
    "# for regularization\n",
    "#Ridge is used to penalize the loss function by adding the OLS loss function to the square of each coefficient multiplied by alpha."
   ]
  },
  {
   "cell_type": "markdown",
   "metadata": {},
   "source": [
    "## 10.b DecisionTree Regressor\n",
    "\n",
    "A decision tree is a decision support tool that uses a tree-like graph or model of decisions and their possible consequences, including chance event outcomes, resource costs, and utility. It is one way to display an algorithm that only contains conditional control statements.\n",
    "\n"
   ]
  },
  {
   "cell_type": "code",
   "execution_count": 56,
   "metadata": {
    "collapsed": true
   },
   "outputs": [],
   "source": [
    "dtr=DecisionTreeRegressor(max_depth=10,min_samples_leaf=5,max_leaf_nodes=5)"
   ]
  },
  {
   "cell_type": "code",
   "execution_count": 57,
   "metadata": {},
   "outputs": [
    {
     "name": "stdout",
     "output_type": "stream",
     "text": [
      "R2 score =  0.705856948908 / 1.0\n",
      "MSE score =  0.000293228502691 / 0.0\n"
     ]
    }
   ],
   "source": [
    "dtr.fit(X_train,y_train)\n",
    "y_pred=dtr.predict(X_test)\n",
    "\n",
    "print('R2 score = ',r2_score(y_test, y_pred), '/ 1.0')\n",
    "print('MSE score = ',mean_squared_error(y_test, y_pred), '/ 0.0')\n",
    "\n",
    "##using a decision tree greatly improves the accurancy of model prediction."
   ]
  },
  {
   "cell_type": "markdown",
   "metadata": {},
   "source": [
    "## 10.c. ExtraTreesRegressor"
   ]
  },
  {
   "cell_type": "markdown",
   "metadata": {
    "collapsed": true
   },
   "source": [
    "Extra-trees differ from classic decision trees in the way they are built. When looking for the best split to separate the samples of a node into two groups, random splits are drawn for each of the max_features randomly selected features and the best split among those is chosen."
   ]
  },
  {
   "cell_type": "code",
   "execution_count": 58,
   "metadata": {},
   "outputs": [
    {
     "name": "stdout",
     "output_type": "stream",
     "text": [
      "Fitting 3 folds for each of 54 candidates, totalling 162 fits\n"
     ]
    },
    {
     "name": "stderr",
     "output_type": "stream",
     "text": [
      "[Parallel(n_jobs=-1)]: Done  42 tasks      | elapsed:   20.3s\n",
      "[Parallel(n_jobs=-1)]: Done 162 out of 162 | elapsed:  1.2min finished\n"
     ]
    },
    {
     "data": {
      "text/plain": [
       "ExtraTreesRegressor(bootstrap=False, criterion='mse', max_depth=15,\n",
       "          max_features='auto', max_leaf_nodes=None,\n",
       "          min_impurity_decrease=0.0, min_impurity_split=None,\n",
       "          min_samples_leaf=1, min_samples_split=10,\n",
       "          min_weight_fraction_leaf=0.0, n_estimators=5, n_jobs=1,\n",
       "          oob_score=False, random_state=None, verbose=0, warm_start=False)"
      ]
     },
     "execution_count": 58,
     "metadata": {},
     "output_type": "execute_result"
    }
   ],
   "source": [
    "etr = ExtraTreesRegressor()\n",
    "\n",
    "# Choose some parameter combinations to try\n",
    "\n",
    "parameters = {'n_estimators': [5,10,100],\n",
    "              'criterion': ['mse'],\n",
    "              'max_depth': [5,10,15], \n",
    "              'min_samples_split': [2,5,10],\n",
    "              'min_samples_leaf': [1,5]\n",
    "             }\n",
    "#We have to use RandomForestRegressor's own scorer (which is R^2 score)\n",
    "\n",
    "#Determines the cross-validation splitting strategy /to specify the number of folds in a (Stratified)KFold\n",
    "\n",
    "grid_obj = GridSearchCV(etr, parameters,\n",
    "                        cv=3, \n",
    "                        n_jobs=-1, #Number of jobs to run in parallel\n",
    "                        verbose=1)\n",
    "grid_obj = grid_obj.fit(X_train, y_train)\n",
    "\n",
    "# Set the clf to the best combination of parameters\n",
    "etr = grid_obj.best_estimator_\n",
    "\n",
    "# Fit the best algorithm to the data. \n",
    "etr.fit(X_train, y_train)"
   ]
  },
  {
   "cell_type": "code",
   "execution_count": 59,
   "metadata": {},
   "outputs": [
    {
     "name": "stdout",
     "output_type": "stream",
     "text": [
      "R2 score =  0.826619399995 / 1.0\n",
      "MSE score =  0.000172841525735 / 0.0\n"
     ]
    }
   ],
   "source": [
    "y_pred = etr.predict(X_test)\n",
    "\n",
    "print('R2 score = ',r2_score(y_test, y_pred), '/ 1.0')\n",
    "print('MSE score = ',mean_squared_error(y_test, y_pred), '/ 0.0')"
   ]
  },
  {
   "cell_type": "markdown",
   "metadata": {},
   "source": [
    "## 10.d Random Forest Regressor\n",
    "\n",
    "Random forests or random decision forests are an ensemble learning method for classification, regression and other tasks, that operate by constructing a multitude of decision trees at training time and outputting the class that is the mode of the classes (classification) or mean prediction (regression) of the individual trees.Random decision forests correct for decision trees' habit of overfitting to their training set."
   ]
  },
  {
   "cell_type": "code",
   "execution_count": 60,
   "metadata": {},
   "outputs": [
    {
     "name": "stdout",
     "output_type": "stream",
     "text": [
      "Fitting 5 folds for each of 6 candidates, totalling 30 fits\n"
     ]
    },
    {
     "name": "stderr",
     "output_type": "stream",
     "text": [
      "[Parallel(n_jobs=-1)]: Done  30 out of  30 | elapsed:   32.2s finished\n"
     ]
    },
    {
     "data": {
      "text/plain": [
       "RandomForestRegressor(bootstrap=True, criterion='mse', max_depth=None,\n",
       "           max_features='auto', max_leaf_nodes=None,\n",
       "           min_impurity_decrease=0.0, min_impurity_split=None,\n",
       "           min_samples_leaf=5, min_samples_split=2,\n",
       "           min_weight_fraction_leaf=0.0, n_estimators=100, n_jobs=1,\n",
       "           oob_score=False, random_state=None, verbose=0, warm_start=False)"
      ]
     },
     "execution_count": 60,
     "metadata": {},
     "output_type": "execute_result"
    }
   ],
   "source": [
    "# Choose the type of classifier. \n",
    "RFR = RandomForestRegressor()\n",
    "\n",
    "# Choose some parameter combinations to try\n",
    "parameters = {'n_estimators': [5, 10, 100],\n",
    "              'min_samples_leaf': [1,5]\n",
    "             }\n",
    "\n",
    "\n",
    "#We have to use RandomForestRegressor's own scorer (which is R^2 score)\n",
    "\n",
    "#Determines the cross-validation splitting strategy /to specify the number of folds in a (Stratified)KFold\n",
    "grid_obj = GridSearchCV(RFR, parameters,\n",
    "                        cv=5, \n",
    "                        n_jobs=-1, #Number of jobs to run in parallel\n",
    "                        verbose=1)\n",
    "grid_obj = grid_obj.fit(X_train, y_train)\n",
    "\n",
    "# Set the clf to the best combination of parameters\n",
    "RFR = grid_obj.best_estimator_\n",
    "\n",
    "# Fit the best algorithm to the data. \n",
    "RFR.fit(X_train, y_train)"
   ]
  },
  {
   "cell_type": "code",
   "execution_count": 61,
   "metadata": {},
   "outputs": [
    {
     "name": "stdout",
     "output_type": "stream",
     "text": [
      "R2 score =  0.794068854354 / 1.0\n",
      "MSE score =  0.000205290865349 / 0.0\n"
     ]
    }
   ],
   "source": [
    "y_pred = RFR.predict(X_test)\n",
    "\n",
    "print('R2 score = ',r2_score(y_test, y_pred), '/ 1.0')\n",
    "print('MSE score = ',mean_squared_error(y_test, y_pred), '/ 0.0')"
   ]
  },
  {
   "cell_type": "code",
   "execution_count": 62,
   "metadata": {},
   "outputs": [
    {
     "name": "stdout",
     "output_type": "stream",
     "text": [
      "Fitting 5 folds for each of 54 candidates, totalling 270 fits\n"
     ]
    },
    {
     "name": "stderr",
     "output_type": "stream",
     "text": [
      "[Parallel(n_jobs=-1)]: Done  42 tasks      | elapsed:   20.8s\n",
      "[Parallel(n_jobs=-1)]: Done 192 tasks      | elapsed:  1.2min\n",
      "[Parallel(n_jobs=-1)]: Done 270 out of 270 | elapsed:  1.9min finished\n"
     ]
    },
    {
     "data": {
      "text/plain": [
       "RandomForestRegressor(bootstrap=True, criterion='mse', max_depth=10,\n",
       "           max_features='auto', max_leaf_nodes=None,\n",
       "           min_impurity_decrease=0.0, min_impurity_split=None,\n",
       "           min_samples_leaf=1, min_samples_split=10,\n",
       "           min_weight_fraction_leaf=0.0, n_estimators=100, n_jobs=1,\n",
       "           oob_score=False, random_state=None, verbose=0, warm_start=False)"
      ]
     },
     "execution_count": 62,
     "metadata": {},
     "output_type": "execute_result"
    }
   ],
   "source": [
    "RFR = RandomForestRegressor()\n",
    "\n",
    "# Choose some parameter combinations to try\n",
    "parameters = {'n_estimators': [5,10,100],\n",
    "              'criterion': ['mse'],\n",
    "              'max_depth': [5,10,15], \n",
    "              'min_samples_split': [2,5,10],\n",
    "              'min_samples_leaf': [1,5]\n",
    "             }\n",
    "\n",
    "\n",
    "#We have to use RandomForestRegressor's own scorer (which is R^2 score)\n",
    "\n",
    "#Determines the cross-validation splitting strategy /to specify the number of folds in a (Stratified)KFold\n",
    "grid_obj = GridSearchCV(RFR, parameters,\n",
    "                        cv=5, \n",
    "                        n_jobs=-1, #Number of jobs to run in parallel\n",
    "                        verbose=1)\n",
    "grid_obj = grid_obj.fit(X_train, y_train)\n",
    "\n",
    "# Set the clf to the best combination of parameters\n",
    "RFR = grid_obj.best_estimator_\n",
    "\n",
    "# Fit the best algorithm to the data. \n",
    "RFR.fit(X_train, y_train)"
   ]
  },
  {
   "cell_type": "code",
   "execution_count": 63,
   "metadata": {},
   "outputs": [
    {
     "name": "stdout",
     "output_type": "stream",
     "text": [
      "R2 score =  0.840477379305 / 1.0\n",
      "MSE score =  0.000159026633599 / 0.0\n"
     ]
    }
   ],
   "source": [
    "y_pred = RFR.predict(X_test)\n",
    "\n",
    "print('R2 score = ',r2_score(y_test, y_pred), '/ 1.0')\n",
    "print('MSE score = ',mean_squared_error(y_test, y_pred), '/ 0.0')"
   ]
  },
  {
   "cell_type": "markdown",
   "metadata": {},
   "source": [
    "## 10.e. Gradient Boosting Regressor\n",
    "\n",
    "The idea of boosting came out of the idea of whether a weak learner can be modified to become better.\n",
    "A weak hypothesis or weak learner is defined as one whose performance is at least slightly better than random chance.\n",
    "Hypothesis boosting was the idea of filtering observations, leaving those observations that the weak learner can handle and focusing on developing new weak learns to handle the remaining difficult observations.\n",
    "\n",
    "## How Gradient Boosting Works\n",
    "\n",
    "Gradient boosting involves three elements:\n",
    "\n",
    "-- A loss function to be optimized.\n",
    "\n",
    "-- A weak learner to make predictions.\n",
    "\n",
    "-- An additive model to add weak learners to minimize the loss function."
   ]
  },
  {
   "cell_type": "code",
   "execution_count": 64,
   "metadata": {},
   "outputs": [
    {
     "name": "stdout",
     "output_type": "stream",
     "text": [
      "Fitting 5 folds for each of 16 candidates, totalling 80 fits\n"
     ]
    },
    {
     "name": "stderr",
     "output_type": "stream",
     "text": [
      "[Parallel(n_jobs=-1)]: Done  42 tasks      | elapsed:   17.9s\n",
      "[Parallel(n_jobs=-1)]: Done  80 out of  80 | elapsed:   32.5s finished\n"
     ]
    },
    {
     "data": {
      "text/plain": [
       "GradientBoostingRegressor(alpha=0.9, criterion='mse', init=None,\n",
       "             learning_rate=0.1, loss='huber', max_depth=10,\n",
       "             max_features=None, max_leaf_nodes=None,\n",
       "             min_impurity_decrease=0.0, min_impurity_split=None,\n",
       "             min_samples_leaf=1, min_samples_split=5,\n",
       "             min_weight_fraction_leaf=0.0, n_estimators=10, presort='auto',\n",
       "             random_state=None, subsample=1.0, verbose=0, warm_start=False)"
      ]
     },
     "execution_count": 64,
     "metadata": {},
     "output_type": "execute_result"
    }
   ],
   "source": [
    "#gbr = GradientBoostingRegressor(loss='huber',learning_rate=0.3,n_estimators=100,max_depth=5,min_samples_split=3)\n",
    "gbr=GradientBoostingRegressor()\n",
    "\n",
    "parameters = {'n_estimators': [5,10],\n",
    "              'loss':['huber'],\n",
    "              'criterion': ['mse'],\n",
    "              'max_depth': [5,10], \n",
    "              'min_samples_split': [2,5],\n",
    "              'min_samples_leaf': [1,5]\n",
    "             }\n",
    "\n",
    "#Determines the cross-validation splitting strategy /to specify the number of folds in a (Stratified)KFold\n",
    "grid_obj = GridSearchCV(gbr, parameters,\n",
    "                        cv=5, \n",
    "                        n_jobs=-1, #Number of jobs to run in parallel\n",
    "                        verbose=1)\n",
    "grid_obj = grid_obj.fit(X_train, y_train)\n",
    "\n",
    "# Set the clf to the best combination of parameters\n",
    "gbr = grid_obj.best_estimator_\n",
    "\n",
    "# Fit the best algorithm to the data. \n",
    "gbr.fit(X_train, y_train)"
   ]
  },
  {
   "cell_type": "code",
   "execution_count": 65,
   "metadata": {},
   "outputs": [
    {
     "name": "stdout",
     "output_type": "stream",
     "text": [
      "R2 score using Gradient Boosting=  0.501852330509 / 1.0\n",
      "MSE score using Gradient Boosting=  0.000496598830744 / 0.0\n"
     ]
    }
   ],
   "source": [
    "y_pred = gbr.predict(X_test)\n",
    "\n",
    "print('R2 score using Gradient Boosting= ',r2_score(y_test, y_pred), '/ 1.0')\n",
    "print('MSE score using Gradient Boosting= ',mean_squared_error(y_test, y_pred), '/ 0.0')"
   ]
  },
  {
   "cell_type": "code",
   "execution_count": 66,
   "metadata": {},
   "outputs": [
    {
     "name": "stdout",
     "output_type": "stream",
     "text": [
      "Fitting 5 folds for each of 48 candidates, totalling 240 fits\n"
     ]
    },
    {
     "name": "stderr",
     "output_type": "stream",
     "text": [
      "[Parallel(n_jobs=-1)]: Done  42 tasks      | elapsed:  1.3min\n",
      "[Parallel(n_jobs=-1)]: Done 192 tasks      | elapsed:  6.8min\n",
      "[Parallel(n_jobs=-1)]: Done 240 out of 240 | elapsed:  9.4min finished\n"
     ]
    },
    {
     "data": {
      "text/plain": [
       "GradientBoostingRegressor(alpha=0.9, criterion='mse', init=None,\n",
       "             learning_rate=0.1, loss='huber', max_depth=10,\n",
       "             max_features=None, max_leaf_nodes=None,\n",
       "             min_impurity_decrease=0.0, min_impurity_split=None,\n",
       "             min_samples_leaf=1, min_samples_split=5,\n",
       "             min_weight_fraction_leaf=0.0, n_estimators=150,\n",
       "             presort='auto', random_state=None, subsample=1.0, verbose=0,\n",
       "             warm_start=False)"
      ]
     },
     "execution_count": 66,
     "metadata": {},
     "output_type": "execute_result"
    }
   ],
   "source": [
    "gbr = GradientBoostingRegressor(loss='ls',learning_rate=0.1,n_estimators=150,max_depth=10,min_samples_split=5)\n",
    "\n",
    "\n",
    "parameters = {'n_estimators': [5,15,150],\n",
    "              'loss':['ls','huber'],\n",
    "              'criterion': ['mse'],\n",
    "              'max_depth': [10,15], \n",
    "              'min_samples_split': [2,5],\n",
    "              'min_samples_leaf': [1,5]\n",
    "             }\n",
    "\n",
    "#Determines the cross-validation splitting strategy /to specify the number of folds in a (Stratified)KFold\n",
    "grid_obj = GridSearchCV(gbr, parameters,\n",
    "                        cv=5, \n",
    "                        n_jobs=-1, #Number of jobs to run in parallel\n",
    "                        verbose=1)\n",
    "grid_obj = grid_obj.fit(X_train, y_train)\n",
    "\n",
    "# Set the clf to the best combination of parameters\n",
    "gbr = grid_obj.best_estimator_\n",
    "\n",
    "# Fit the best algorithm to the data. \n",
    "gbr.fit(X_train, y_train)"
   ]
  },
  {
   "cell_type": "code",
   "execution_count": 67,
   "metadata": {},
   "outputs": [
    {
     "name": "stdout",
     "output_type": "stream",
     "text": [
      "R2 score using Gradient Boosting=  0.840477379305 / 1.0\n",
      "MSE score using Gradient Boosting=  0.000159026633599 / 0.0\n"
     ]
    }
   ],
   "source": [
    "y_pred = RFR.predict(X_test)\n",
    "\n",
    "print('R2 score using Gradient Boosting= ',r2_score(y_test, y_pred), '/ 1.0')\n",
    "print('MSE score using Gradient Boosting= ',mean_squared_error(y_test, y_pred), '/ 0.0')"
   ]
  },
  {
   "cell_type": "markdown",
   "metadata": {},
   "source": [
    "## 10.f. XGBOOST\n",
    "\n",
    "XGBoost (eXtreme Gradient Boosting) is a direct application of Gradient Boosting for decision trees\n",
    "\n",
    "Main advantages are as follows:\n",
    "1. Easy to use\n",
    "2. Computational efficiency\n",
    "3. Model Accuracy\n",
    "4. Feasibility — easy to tune parameters and modify objectives."
   ]
  },
  {
   "cell_type": "code",
   "execution_count": 68,
   "metadata": {
    "collapsed": true
   },
   "outputs": [],
   "source": [
    "model=XGBRegressor(max_depth=5)"
   ]
  },
  {
   "cell_type": "code",
   "execution_count": 69,
   "metadata": {},
   "outputs": [
    {
     "data": {
      "text/plain": [
       "XGBRegressor(base_score=0.5, booster='gbtree', colsample_bylevel=1,\n",
       "       colsample_bytree=1, gamma=0, learning_rate=0.1, max_delta_step=0,\n",
       "       max_depth=5, min_child_weight=1, missing=None, n_estimators=100,\n",
       "       n_jobs=1, nthread=None, objective='reg:linear', random_state=0,\n",
       "       reg_alpha=0, reg_lambda=1, scale_pos_weight=1, seed=None,\n",
       "       silent=True, subsample=1)"
      ]
     },
     "execution_count": 69,
     "metadata": {},
     "output_type": "execute_result"
    }
   ],
   "source": [
    "model.fit(X_train,y_train)"
   ]
  },
  {
   "cell_type": "code",
   "execution_count": 70,
   "metadata": {
    "collapsed": true
   },
   "outputs": [],
   "source": [
    "y_pred=model.predict(X_test)"
   ]
  },
  {
   "cell_type": "code",
   "execution_count": 71,
   "metadata": {},
   "outputs": [
    {
     "name": "stdout",
     "output_type": "stream",
     "text": [
      "R2 score using XG Boost=  0.797564020916 / 1.0\n",
      "MSE score using XG Boost=  0.000201806565945 / 0.0\n"
     ]
    }
   ],
   "source": [
    "print('R2 score using XG Boost= ',r2_score(y_test, y_pred), '/ 1.0')\n",
    "print('MSE score using XG Boost= ',mean_squared_error(y_test, y_pred), '/ 0.0')"
   ]
  },
  {
   "cell_type": "markdown",
   "metadata": {},
   "source": [
    "## 11. LGBM\n",
    "\n",
    "Light GBM is a fast, distributed, high-performance gradient boosting framework based on decision tree algorithm, used for ranking, classification and many other machine learning tasks.\n",
    "\n",
    "Since it is based on decision tree algorithms, it splits the tree leaf wise with the best fit whereas other boosting algorithms split the tree depth wise or level wise rather than leaf-wise. So when growing on the same leaf in Light GBM, the leaf-wise algorithm can reduce more loss than the level-wise algorithm and hence results in much better accuracy which can rarely be achieved by any of the existing boosting algorithms. "
   ]
  },
  {
   "cell_type": "code",
   "execution_count": 72,
   "metadata": {},
   "outputs": [
    {
     "data": {
      "text/plain": [
       "LGBMRegressor(boosting_type='gbdt', class_weight=None, colsample_bytree=1.0,\n",
       "       learning_rate=0.1, max_depth=5, min_child_samples=20,\n",
       "       min_child_weight=0.001, min_split_gain=0.0, n_estimators=100,\n",
       "       n_jobs=-1, num_leaves=31, objective=None, random_state=None,\n",
       "       reg_alpha=0.0, reg_lambda=0.0, silent=True, subsample=1.0,\n",
       "       subsample_for_bin=200000, subsample_freq=1)"
      ]
     },
     "execution_count": 72,
     "metadata": {},
     "output_type": "execute_result"
    }
   ],
   "source": [
    "from lightgbm import LGBMRegressor\n",
    "lgbm=LGBMRegressor(max_depth=5)\n",
    "lgbm.fit(X_train,y_train)"
   ]
  },
  {
   "cell_type": "code",
   "execution_count": 73,
   "metadata": {
    "collapsed": true
   },
   "outputs": [],
   "source": [
    "y_pred=lgbm.predict(X_test)"
   ]
  },
  {
   "cell_type": "code",
   "execution_count": 74,
   "metadata": {},
   "outputs": [
    {
     "name": "stdout",
     "output_type": "stream",
     "text": [
      "R2 score using LGBM =  0.759040161358 / 1.0\n",
      "MSE score using LGBM =  0.000240210647273 / 0.0\n"
     ]
    }
   ],
   "source": [
    "print('R2 score using LGBM = ',r2_score(y_test, y_pred), '/ 1.0')\n",
    "print('MSE score using LGBM = ',mean_squared_error(y_test, y_pred), '/ 0.0')"
   ]
  },
  {
   "cell_type": "code",
   "execution_count": 75,
   "metadata": {},
   "outputs": [
    {
     "data": {
      "text/html": [
       "<div>\n",
       "<style scoped>\n",
       "    .dataframe tbody tr th:only-of-type {\n",
       "        vertical-align: middle;\n",
       "    }\n",
       "\n",
       "    .dataframe tbody tr th {\n",
       "        vertical-align: top;\n",
       "    }\n",
       "\n",
       "    .dataframe thead th {\n",
       "        text-align: right;\n",
       "    }\n",
       "</style>\n",
       "<table border=\"1\" class=\"dataframe\">\n",
       "  <thead>\n",
       "    <tr style=\"text-align: right;\">\n",
       "      <th></th>\n",
       "      <th>store_nbr</th>\n",
       "      <th>item_nbr</th>\n",
       "      <th>unit_sales</th>\n",
       "      <th>cluster</th>\n",
       "      <th>perishable</th>\n",
       "      <th>dcoilwtico</th>\n",
       "    </tr>\n",
       "  </thead>\n",
       "  <tbody>\n",
       "    <tr>\n",
       "      <th>store_nbr</th>\n",
       "      <td>1.000000</td>\n",
       "      <td>0.008087</td>\n",
       "      <td>0.051609</td>\n",
       "      <td>0.033256</td>\n",
       "      <td>0.007572</td>\n",
       "      <td>0.002356</td>\n",
       "    </tr>\n",
       "    <tr>\n",
       "      <th>item_nbr</th>\n",
       "      <td>0.008087</td>\n",
       "      <td>1.000000</td>\n",
       "      <td>0.025643</td>\n",
       "      <td>-0.002518</td>\n",
       "      <td>0.043440</td>\n",
       "      <td>-0.000529</td>\n",
       "    </tr>\n",
       "    <tr>\n",
       "      <th>unit_sales</th>\n",
       "      <td>0.051609</td>\n",
       "      <td>0.025643</td>\n",
       "      <td>1.000000</td>\n",
       "      <td>0.018465</td>\n",
       "      <td>0.052492</td>\n",
       "      <td>0.006032</td>\n",
       "    </tr>\n",
       "    <tr>\n",
       "      <th>cluster</th>\n",
       "      <td>0.033256</td>\n",
       "      <td>-0.002518</td>\n",
       "      <td>0.018465</td>\n",
       "      <td>1.000000</td>\n",
       "      <td>-0.003042</td>\n",
       "      <td>0.003812</td>\n",
       "    </tr>\n",
       "    <tr>\n",
       "      <th>perishable</th>\n",
       "      <td>0.007572</td>\n",
       "      <td>0.043440</td>\n",
       "      <td>0.052492</td>\n",
       "      <td>-0.003042</td>\n",
       "      <td>1.000000</td>\n",
       "      <td>-0.000616</td>\n",
       "    </tr>\n",
       "    <tr>\n",
       "      <th>dcoilwtico</th>\n",
       "      <td>0.002356</td>\n",
       "      <td>-0.000529</td>\n",
       "      <td>0.006032</td>\n",
       "      <td>0.003812</td>\n",
       "      <td>-0.000616</td>\n",
       "      <td>1.000000</td>\n",
       "    </tr>\n",
       "  </tbody>\n",
       "</table>\n",
       "</div>"
      ],
      "text/plain": [
       "            store_nbr  item_nbr  unit_sales   cluster  perishable  dcoilwtico\n",
       "store_nbr    1.000000  0.008087    0.051609  0.033256    0.007572    0.002356\n",
       "item_nbr     0.008087  1.000000    0.025643 -0.002518    0.043440   -0.000529\n",
       "unit_sales   0.051609  0.025643    1.000000  0.018465    0.052492    0.006032\n",
       "cluster      0.033256 -0.002518    0.018465  1.000000   -0.003042    0.003812\n",
       "perishable   0.007572  0.043440    0.052492 -0.003042    1.000000   -0.000616\n",
       "dcoilwtico   0.002356 -0.000529    0.006032  0.003812   -0.000616    1.000000"
      ]
     },
     "execution_count": 75,
     "metadata": {},
     "output_type": "execute_result"
    }
   ],
   "source": [
    "Salesdf.corr()\n"
   ]
  },
  {
   "cell_type": "markdown",
   "metadata": {},
   "source": [
    "## 12. Creating a neural network\n",
    "\n",
    "Multi-layer Perceptron (MLP) is a supervised learning algorithm that learns a function  by training on a dataset, where  is the number of dimensions for input and  is the number of dimensions for output.\n",
    "\n",
    "The advantages of Multi-layer Perceptron are:\n",
    "\n",
    "-- Capability to learn non-linear models.\n",
    "\n",
    "-- Capability to learn models in real-time (on-line learning) using partial_fit."
   ]
  },
  {
   "cell_type": "code",
   "execution_count": 76,
   "metadata": {},
   "outputs": [
    {
     "name": "stdout",
     "output_type": "stream",
     "text": [
      "[[ 0.44920993  0.          1.         ...,  0.          1.          0.        ]\n",
      " [ 0.05417607  1.          0.         ...,  0.          0.          0.        ]\n",
      " [ 1.          1.          0.         ...,  0.          0.          0.        ]\n",
      " ..., \n",
      " [ 0.85553047  1.          0.         ...,  0.          0.          0.        ]\n",
      " [ 0.85553047  1.          0.         ...,  0.          0.          0.        ]\n",
      " [ 0.85553047  1.          0.         ...,  0.          0.          0.        ]]\n",
      "[[ 0.0078918 ]\n",
      " [ 0.01838703]\n",
      " [ 0.00480496]\n",
      " [ 0.01134967]\n",
      " [ 0.0023355 ]\n",
      " [ 0.00770288]\n",
      " [ 0.01097863]\n",
      " [ 0.00171813]\n",
      " [ 0.0171523 ]\n",
      " [ 0.00110076]]\n"
     ]
    }
   ],
   "source": [
    "# Convert data as np.array\n",
    "features = np.array(X_train)\n",
    "#targets = np.array(y_train.reshape(y_train.shape[0],1))\n",
    "targets = np.array(y_train.values.reshape(y_train.shape[0],1))\n",
    "features_validation= np.array(X_test)\n",
    "#targets_validation = np.array(y_test.reshape(y_test.shape[0],1))\n",
    "targets_validation = np.array(y_test.values.reshape(y_test.shape[0],1))\n",
    "\n",
    "print(features[:10])\n",
    "print(targets[:10])"
   ]
  },
  {
   "cell_type": "code",
   "execution_count": 77,
   "metadata": {},
   "outputs": [
    {
     "name": "stdout",
     "output_type": "stream",
     "text": [
      "_________________________________________________________________\n",
      "Layer (type)                 Output Shape              Param #   \n",
      "=================================================================\n",
      "dense_1 (Dense)              (None, 32)                4768      \n",
      "_________________________________________________________________\n",
      "dropout_1 (Dropout)          (None, 32)                0         \n",
      "_________________________________________________________________\n",
      "dense_2 (Dense)              (None, 16)                528       \n",
      "_________________________________________________________________\n",
      "dropout_2 (Dropout)          (None, 16)                0         \n",
      "_________________________________________________________________\n",
      "dense_3 (Dense)              (None, 1)                 17        \n",
      "=================================================================\n",
      "Total params: 5,313\n",
      "Trainable params: 5,313\n",
      "Non-trainable params: 0\n",
      "_________________________________________________________________\n"
     ]
    }
   ],
   "source": [
    "# Building the model\n",
    "model = Sequential()\n",
    "model.add(Dense(32, activation='relu', input_shape=(X_train.shape[1],)))\n",
    "model.add(Dropout(.2))\n",
    "model.add(Dense(16, activation='relu'))\n",
    "model.add(Dropout(.1))\n",
    "model.add(Dense(1))\n",
    "\n",
    "# Compiling the model\n",
    "model.compile(loss = 'mse', optimizer='adam', metrics=['mse']) #mse: mean_square_error\n",
    "model.summary()"
   ]
  },
  {
   "cell_type": "code",
   "execution_count": 78,
   "metadata": {},
   "outputs": [
    {
     "name": "stdout",
     "output_type": "stream",
     "text": [
      "Step :  0 / 1000\n",
      "2988/2988 [==============================] - 0s 55us/step\n",
      "Training MSE: 8.39290174089e-05\n",
      "747/747 [==============================] - 0s 23us/step\n",
      "Validation MSE: 0.000179130502091 \n",
      "\n",
      "Step :  250 / 1000\n",
      "2988/2988 [==============================] - 0s 37us/step\n",
      "Training MSE: 4.61727727154e-05\n",
      "747/747 [==============================] - 0s 37us/step\n",
      "Validation MSE: 0.000149936103996 \n",
      "\n",
      "Step :  500 / 1000\n",
      "2988/2988 [==============================] - 0s 50us/step\n",
      "Training MSE: 2.88912075386e-05\n",
      "747/747 [==============================] - 0s 45us/step\n",
      "Validation MSE: 0.000184745042915 \n",
      "\n",
      "Step :  750 / 1000\n",
      "2988/2988 [==============================] - 0s 40us/step\n",
      "Training MSE: 5.02470094963e-05\n",
      "747/747 [==============================] - 0s 36us/step\n",
      "Validation MSE: 0.000170684710265 \n",
      "\n"
     ]
    },
    {
     "data": {
      "image/png": "[encoded data removed]",
      "text/plain": [
       "<matplotlib.figure.Figure at 0x1d782a8b6d8>"
      ]
     },
     "metadata": {},
     "output_type": "display_data"
    }
   ],
   "source": [
    "# Training the model\n",
    "epochs_tot = 1000\n",
    "epochs_step = 250\n",
    "epochs_ratio = int(epochs_tot / epochs_step)\n",
    "hist =np.array([])\n",
    "\n",
    "for i in range(epochs_ratio):\n",
    "    history = model.fit(features, targets, epochs=epochs_step, batch_size=100, verbose=0)\n",
    "    \n",
    "    # Evaluating the model on the training and testing set\n",
    "    print(\"Step : \" , i * epochs_step, \"/\", epochs_tot)\n",
    "    score = model.evaluate(features, targets)\n",
    "    print(\"Training MSE:\", score[1])\n",
    "    score = model.evaluate(features_validation, targets_validation)\n",
    "    print(\"Validation MSE:\", score[1], \"\\n\")\n",
    "    hist = np.concatenate((hist, np.array(history.history['mean_squared_error'])), axis = 0)\n",
    "    \n",
    "# plot metrics\n",
    "plt.plot(hist)\n",
    "plt.show()"
   ]
  },
  {
   "cell_type": "code",
   "execution_count": 79,
   "metadata": {},
   "outputs": [
    {
     "name": "stdout",
     "output_type": "stream",
     "text": [
      "R2 score =  0.828782939913 / 1.0\n",
      "MSE score =  0.000170684712687 / 0.0\n"
     ]
    }
   ],
   "source": [
    "y_pred = model.predict(features_validation, verbose=0)\n",
    "\n",
    "print('R2 score = ',r2_score(y_test, y_pred), '/ 1.0')\n",
    "print('MSE score = ',mean_squared_error(y_test, y_pred), '/ 0.0')"
   ]
  },
  {
   "cell_type": "code",
   "execution_count": 80,
   "metadata": {},
   "outputs": [
    {
     "data": {
      "image/png": "[encoded data removed]",
      "text/plain": [
       "<matplotlib.figure.Figure at 0x1d782ab2550>"
      ]
     },
     "metadata": {},
     "output_type": "display_data"
    }
   ],
   "source": [
    "#Lets plot the  first 50 predictions\n",
    "plt.plot(y_test.as_matrix()[0:50], '+', color ='blue', alpha=0.7)\n",
    "plt.plot(y_pred[0:50], 'ro', color ='red', alpha=0.5)\n",
    "plt.show()"
   ]
  },
  {
   "cell_type": "markdown",
   "metadata": {},
   "source": [
    "## Light GBM\n",
    "\n",
    "Light GBM is a gradient boosting framework that uses tree based learning algorithm.\n",
    "\n",
    "Light GBM grows tree vertically while other algorithm grows trees horizontally meaning that Light GBM grows tree leaf-wise while other algorithm grows level-wise. It will choose the leaf with max delta loss to grow. When growing the same leaf, Leaf-wise algorithm can reduce more loss than a level-wise algorithm."
   ]
  },
  {
   "cell_type": "code",
   "execution_count": 81,
   "metadata": {
    "collapsed": true
   },
   "outputs": [],
   "source": [
    "df_train = pd.read_csv(\n",
    "    'train.csv', usecols=[1, 2, 3, 4, 5],\n",
    "    dtype={'onpromotion': bool},\n",
    "    converters={'unit_sales': lambda u: np.log1p(\n",
    "        float(u)) if float(u) > 0 else 0},\n",
    "    parse_dates=[\"date\"],\n",
    "    skiprows=range(1, 66458909)  # 2016-01-01\n",
    ")"
   ]
  },
  {
   "cell_type": "code",
   "execution_count": 82,
   "metadata": {},
   "outputs": [
    {
     "data": {
      "text/html": [
       "<div>\n",
       "<style scoped>\n",
       "    .dataframe tbody tr th:only-of-type {\n",
       "        vertical-align: middle;\n",
       "    }\n",
       "\n",
       "    .dataframe tbody tr th {\n",
       "        vertical-align: top;\n",
       "    }\n",
       "\n",
       "    .dataframe thead th {\n",
       "        text-align: right;\n",
       "    }\n",
       "</style>\n",
       "<table border=\"1\" class=\"dataframe\">\n",
       "  <thead>\n",
       "    <tr style=\"text-align: right;\">\n",
       "      <th></th>\n",
       "      <th>date</th>\n",
       "      <th>store_nbr</th>\n",
       "      <th>item_nbr</th>\n",
       "      <th>unit_sales</th>\n",
       "      <th>onpromotion</th>\n",
       "    </tr>\n",
       "  </thead>\n",
       "  <tbody>\n",
       "    <tr>\n",
       "      <th>0</th>\n",
       "      <td>2016-01-01</td>\n",
       "      <td>25</td>\n",
       "      <td>105574</td>\n",
       "      <td>2.564949</td>\n",
       "      <td>False</td>\n",
       "    </tr>\n",
       "    <tr>\n",
       "      <th>1</th>\n",
       "      <td>2016-01-01</td>\n",
       "      <td>25</td>\n",
       "      <td>105575</td>\n",
       "      <td>2.302585</td>\n",
       "      <td>False</td>\n",
       "    </tr>\n",
       "    <tr>\n",
       "      <th>2</th>\n",
       "      <td>2016-01-01</td>\n",
       "      <td>25</td>\n",
       "      <td>105857</td>\n",
       "      <td>1.386294</td>\n",
       "      <td>False</td>\n",
       "    </tr>\n",
       "    <tr>\n",
       "      <th>3</th>\n",
       "      <td>2016-01-01</td>\n",
       "      <td>25</td>\n",
       "      <td>108634</td>\n",
       "      <td>1.386294</td>\n",
       "      <td>False</td>\n",
       "    </tr>\n",
       "    <tr>\n",
       "      <th>4</th>\n",
       "      <td>2016-01-01</td>\n",
       "      <td>25</td>\n",
       "      <td>108701</td>\n",
       "      <td>1.098612</td>\n",
       "      <td>True</td>\n",
       "    </tr>\n",
       "  </tbody>\n",
       "</table>\n",
       "</div>"
      ],
      "text/plain": [
       "        date  store_nbr  item_nbr  unit_sales  onpromotion\n",
       "0 2016-01-01         25    105574    2.564949        False\n",
       "1 2016-01-01         25    105575    2.302585        False\n",
       "2 2016-01-01         25    105857    1.386294        False\n",
       "3 2016-01-01         25    108634    1.386294        False\n",
       "4 2016-01-01         25    108701    1.098612         True"
      ]
     },
     "execution_count": 82,
     "metadata": {},
     "output_type": "execute_result"
    }
   ],
   "source": [
    "df_train.head()"
   ]
  },
  {
   "cell_type": "code",
   "execution_count": 83,
   "metadata": {},
   "outputs": [
    {
     "data": {
      "text/plain": [
       "(59038132, 5)"
      ]
     },
     "execution_count": 83,
     "metadata": {},
     "output_type": "execute_result"
    }
   ],
   "source": [
    "df_train.shape"
   ]
  },
  {
   "cell_type": "code",
   "execution_count": 84,
   "metadata": {},
   "outputs": [
    {
     "data": {
      "text/html": [
       "<div>\n",
       "<style scoped>\n",
       "    .dataframe tbody tr th:only-of-type {\n",
       "        vertical-align: middle;\n",
       "    }\n",
       "\n",
       "    .dataframe tbody tr th {\n",
       "        vertical-align: top;\n",
       "    }\n",
       "\n",
       "    .dataframe thead th {\n",
       "        text-align: right;\n",
       "    }\n",
       "</style>\n",
       "<table border=\"1\" class=\"dataframe\">\n",
       "  <thead>\n",
       "    <tr style=\"text-align: right;\">\n",
       "      <th></th>\n",
       "      <th>date</th>\n",
       "      <th>store_nbr</th>\n",
       "      <th>item_nbr</th>\n",
       "      <th>unit_sales</th>\n",
       "      <th>onpromotion</th>\n",
       "    </tr>\n",
       "  </thead>\n",
       "  <tbody>\n",
       "    <tr>\n",
       "      <th>59038127</th>\n",
       "      <td>2017-08-15</td>\n",
       "      <td>54</td>\n",
       "      <td>2089339</td>\n",
       "      <td>1.609438</td>\n",
       "      <td>False</td>\n",
       "    </tr>\n",
       "    <tr>\n",
       "      <th>59038128</th>\n",
       "      <td>2017-08-15</td>\n",
       "      <td>54</td>\n",
       "      <td>2106464</td>\n",
       "      <td>0.693147</td>\n",
       "      <td>True</td>\n",
       "    </tr>\n",
       "    <tr>\n",
       "      <th>59038129</th>\n",
       "      <td>2017-08-15</td>\n",
       "      <td>54</td>\n",
       "      <td>2110456</td>\n",
       "      <td>5.262690</td>\n",
       "      <td>False</td>\n",
       "    </tr>\n",
       "    <tr>\n",
       "      <th>59038130</th>\n",
       "      <td>2017-08-15</td>\n",
       "      <td>54</td>\n",
       "      <td>2113914</td>\n",
       "      <td>5.293305</td>\n",
       "      <td>True</td>\n",
       "    </tr>\n",
       "    <tr>\n",
       "      <th>59038131</th>\n",
       "      <td>2017-08-15</td>\n",
       "      <td>54</td>\n",
       "      <td>2116416</td>\n",
       "      <td>1.098612</td>\n",
       "      <td>False</td>\n",
       "    </tr>\n",
       "  </tbody>\n",
       "</table>\n",
       "</div>"
      ],
      "text/plain": [
       "               date  store_nbr  item_nbr  unit_sales  onpromotion\n",
       "59038127 2017-08-15         54   2089339    1.609438        False\n",
       "59038128 2017-08-15         54   2106464    0.693147         True\n",
       "59038129 2017-08-15         54   2110456    5.262690        False\n",
       "59038130 2017-08-15         54   2113914    5.293305         True\n",
       "59038131 2017-08-15         54   2116416    1.098612        False"
      ]
     },
     "execution_count": 84,
     "metadata": {},
     "output_type": "execute_result"
    }
   ],
   "source": [
    "df_train.tail()"
   ]
  },
  {
   "cell_type": "code",
   "execution_count": 85,
   "metadata": {
    "collapsed": true
   },
   "outputs": [],
   "source": [
    "df_test = pd.read_csv(\n",
    "    \"test.csv\", usecols=[0, 1, 2, 3, 4],\n",
    "    dtype={'onpromotion': bool},\n",
    "    parse_dates=[\"date\"]  # , date_parser=parser\n",
    ").set_index(\n",
    "    ['store_nbr', 'item_nbr', 'date']\n",
    ")"
   ]
  },
  {
   "cell_type": "code",
   "execution_count": 86,
   "metadata": {},
   "outputs": [
    {
     "data": {
      "text/html": [
       "<div>\n",
       "<style scoped>\n",
       "    .dataframe tbody tr th:only-of-type {\n",
       "        vertical-align: middle;\n",
       "    }\n",
       "\n",
       "    .dataframe tbody tr th {\n",
       "        vertical-align: top;\n",
       "    }\n",
       "\n",
       "    .dataframe thead th {\n",
       "        text-align: right;\n",
       "    }\n",
       "</style>\n",
       "<table border=\"1\" class=\"dataframe\">\n",
       "  <thead>\n",
       "    <tr style=\"text-align: right;\">\n",
       "      <th></th>\n",
       "      <th></th>\n",
       "      <th></th>\n",
       "      <th>id</th>\n",
       "      <th>onpromotion</th>\n",
       "    </tr>\n",
       "    <tr>\n",
       "      <th>store_nbr</th>\n",
       "      <th>item_nbr</th>\n",
       "      <th>date</th>\n",
       "      <th></th>\n",
       "      <th></th>\n",
       "    </tr>\n",
       "  </thead>\n",
       "  <tbody>\n",
       "    <tr>\n",
       "      <th rowspan=\"5\" valign=\"top\">1</th>\n",
       "      <th>96995</th>\n",
       "      <th>2017-08-16</th>\n",
       "      <td>125497040</td>\n",
       "      <td>False</td>\n",
       "    </tr>\n",
       "    <tr>\n",
       "      <th>99197</th>\n",
       "      <th>2017-08-16</th>\n",
       "      <td>125497041</td>\n",
       "      <td>False</td>\n",
       "    </tr>\n",
       "    <tr>\n",
       "      <th>103501</th>\n",
       "      <th>2017-08-16</th>\n",
       "      <td>125497042</td>\n",
       "      <td>False</td>\n",
       "    </tr>\n",
       "    <tr>\n",
       "      <th>103520</th>\n",
       "      <th>2017-08-16</th>\n",
       "      <td>125497043</td>\n",
       "      <td>False</td>\n",
       "    </tr>\n",
       "    <tr>\n",
       "      <th>103665</th>\n",
       "      <th>2017-08-16</th>\n",
       "      <td>125497044</td>\n",
       "      <td>False</td>\n",
       "    </tr>\n",
       "  </tbody>\n",
       "</table>\n",
       "</div>"
      ],
      "text/plain": [
       "                                      id  onpromotion\n",
       "store_nbr item_nbr date                              \n",
       "1         96995    2017-08-16  125497040        False\n",
       "          99197    2017-08-16  125497041        False\n",
       "          103501   2017-08-16  125497042        False\n",
       "          103520   2017-08-16  125497043        False\n",
       "          103665   2017-08-16  125497044        False"
      ]
     },
     "execution_count": 86,
     "metadata": {},
     "output_type": "execute_result"
    }
   ],
   "source": [
    "#we want to predict unit sales for last 15 days of Aug 2017\n",
    "df_test.head()"
   ]
  },
  {
   "cell_type": "code",
   "execution_count": 87,
   "metadata": {
    "collapsed": true
   },
   "outputs": [],
   "source": [
    "items = pd.read_csv(\n",
    "    \"items.csv\",\n",
    ").set_index(\"item_nbr\")"
   ]
  },
  {
   "cell_type": "code",
   "execution_count": 88,
   "metadata": {},
   "outputs": [
    {
     "data": {
      "text/plain": [
       "(4100, 3)"
      ]
     },
     "execution_count": 88,
     "metadata": {},
     "output_type": "execute_result"
    }
   ],
   "source": [
    "items.shape"
   ]
  },
  {
   "cell_type": "code",
   "execution_count": 89,
   "metadata": {
    "collapsed": true
   },
   "outputs": [],
   "source": [
    "df_2017 = df_train[df_train.date.isin(\n",
    "    pd.date_range(\"2017-05-31\", periods=7 * 11))].copy()\n",
    "del df_train\n",
    "#dates range from May 31st to 15th Aug~ 77 days"
   ]
  },
  {
   "cell_type": "code",
   "execution_count": 90,
   "metadata": {},
   "outputs": [
    {
     "data": {
      "text/plain": [
       "(8125670, 5)"
      ]
     },
     "execution_count": 90,
     "metadata": {},
     "output_type": "execute_result"
    }
   ],
   "source": [
    "df_2017.shape"
   ]
  },
  {
   "cell_type": "code",
   "execution_count": 91,
   "metadata": {},
   "outputs": [
    {
     "data": {
      "text/html": [
       "<div>\n",
       "<style scoped>\n",
       "    .dataframe tbody tr th:only-of-type {\n",
       "        vertical-align: middle;\n",
       "    }\n",
       "\n",
       "    .dataframe tbody tr th {\n",
       "        vertical-align: top;\n",
       "    }\n",
       "\n",
       "    .dataframe thead th {\n",
       "        text-align: right;\n",
       "    }\n",
       "</style>\n",
       "<table border=\"1\" class=\"dataframe\">\n",
       "  <thead>\n",
       "    <tr style=\"text-align: right;\">\n",
       "      <th></th>\n",
       "      <th>date</th>\n",
       "      <th>store_nbr</th>\n",
       "      <th>item_nbr</th>\n",
       "      <th>unit_sales</th>\n",
       "      <th>onpromotion</th>\n",
       "    </tr>\n",
       "  </thead>\n",
       "  <tbody>\n",
       "    <tr>\n",
       "      <th>50912462</th>\n",
       "      <td>2017-05-31</td>\n",
       "      <td>1</td>\n",
       "      <td>96995</td>\n",
       "      <td>0.693147</td>\n",
       "      <td>False</td>\n",
       "    </tr>\n",
       "    <tr>\n",
       "      <th>50912463</th>\n",
       "      <td>2017-05-31</td>\n",
       "      <td>1</td>\n",
       "      <td>99197</td>\n",
       "      <td>0.693147</td>\n",
       "      <td>False</td>\n",
       "    </tr>\n",
       "    <tr>\n",
       "      <th>50912464</th>\n",
       "      <td>2017-05-31</td>\n",
       "      <td>1</td>\n",
       "      <td>103520</td>\n",
       "      <td>1.386294</td>\n",
       "      <td>False</td>\n",
       "    </tr>\n",
       "    <tr>\n",
       "      <th>50912465</th>\n",
       "      <td>2017-05-31</td>\n",
       "      <td>1</td>\n",
       "      <td>103665</td>\n",
       "      <td>2.197225</td>\n",
       "      <td>False</td>\n",
       "    </tr>\n",
       "    <tr>\n",
       "      <th>50912466</th>\n",
       "      <td>2017-05-31</td>\n",
       "      <td>1</td>\n",
       "      <td>105574</td>\n",
       "      <td>1.386294</td>\n",
       "      <td>False</td>\n",
       "    </tr>\n",
       "  </tbody>\n",
       "</table>\n",
       "</div>"
      ],
      "text/plain": [
       "               date  store_nbr  item_nbr  unit_sales  onpromotion\n",
       "50912462 2017-05-31          1     96995    0.693147        False\n",
       "50912463 2017-05-31          1     99197    0.693147        False\n",
       "50912464 2017-05-31          1    103520    1.386294        False\n",
       "50912465 2017-05-31          1    103665    2.197225        False\n",
       "50912466 2017-05-31          1    105574    1.386294        False"
      ]
     },
     "execution_count": 91,
     "metadata": {},
     "output_type": "execute_result"
    }
   ],
   "source": [
    "df_2017.head()"
   ]
  },
  {
   "cell_type": "code",
   "execution_count": 92,
   "metadata": {},
   "outputs": [
    {
     "data": {
      "text/plain": [
       "date           0\n",
       "store_nbr      0\n",
       "item_nbr       0\n",
       "unit_sales     0\n",
       "onpromotion    0\n",
       "dtype: int64"
      ]
     },
     "execution_count": 92,
     "metadata": {},
     "output_type": "execute_result"
    }
   ],
   "source": [
    "df_2017.isnull().sum()"
   ]
  },
  {
   "cell_type": "code",
   "execution_count": 93,
   "metadata": {
    "collapsed": true
   },
   "outputs": [],
   "source": [
    "promo_2017_train = df_2017.set_index(\n",
    "    [\"store_nbr\", \"item_nbr\", \"date\"])[[\"onpromotion\"]].unstack(\n",
    "        level=-1).fillna(False)\n",
    "#pivots the table and we want last level of index which is date in our case"
   ]
  },
  {
   "cell_type": "code",
   "execution_count": 94,
   "metadata": {},
   "outputs": [
    {
     "data": {
      "text/html": [
       "<div>\n",
       "<style scoped>\n",
       "    .dataframe tbody tr th:only-of-type {\n",
       "        vertical-align: middle;\n",
       "    }\n",
       "\n",
       "    .dataframe tbody tr th {\n",
       "        vertical-align: top;\n",
       "    }\n",
       "\n",
       "    .dataframe thead tr th {\n",
       "        text-align: left;\n",
       "    }\n",
       "\n",
       "    .dataframe thead tr:last-of-type th {\n",
       "        text-align: right;\n",
       "    }\n",
       "</style>\n",
       "<table border=\"1\" class=\"dataframe\">\n",
       "  <thead>\n",
       "    <tr>\n",
       "      <th></th>\n",
       "      <th></th>\n",
       "      <th colspan=\"21\" halign=\"left\">onpromotion</th>\n",
       "    </tr>\n",
       "    <tr>\n",
       "      <th></th>\n",
       "      <th>date</th>\n",
       "      <th>2017-05-31</th>\n",
       "      <th>2017-06-01</th>\n",
       "      <th>2017-06-02</th>\n",
       "      <th>2017-06-03</th>\n",
       "      <th>2017-06-04</th>\n",
       "      <th>2017-06-05</th>\n",
       "      <th>2017-06-06</th>\n",
       "      <th>2017-06-07</th>\n",
       "      <th>2017-06-08</th>\n",
       "      <th>2017-06-09</th>\n",
       "      <th>...</th>\n",
       "      <th>2017-08-06</th>\n",
       "      <th>2017-08-07</th>\n",
       "      <th>2017-08-08</th>\n",
       "      <th>2017-08-09</th>\n",
       "      <th>2017-08-10</th>\n",
       "      <th>2017-08-11</th>\n",
       "      <th>2017-08-12</th>\n",
       "      <th>2017-08-13</th>\n",
       "      <th>2017-08-14</th>\n",
       "      <th>2017-08-15</th>\n",
       "    </tr>\n",
       "    <tr>\n",
       "      <th>store_nbr</th>\n",
       "      <th>item_nbr</th>\n",
       "      <th></th>\n",
       "      <th></th>\n",
       "      <th></th>\n",
       "      <th></th>\n",
       "      <th></th>\n",
       "      <th></th>\n",
       "      <th></th>\n",
       "      <th></th>\n",
       "      <th></th>\n",
       "      <th></th>\n",
       "      <th></th>\n",
       "      <th></th>\n",
       "      <th></th>\n",
       "      <th></th>\n",
       "      <th></th>\n",
       "      <th></th>\n",
       "      <th></th>\n",
       "      <th></th>\n",
       "      <th></th>\n",
       "      <th></th>\n",
       "      <th></th>\n",
       "    </tr>\n",
       "  </thead>\n",
       "  <tbody>\n",
       "    <tr>\n",
       "      <th rowspan=\"5\" valign=\"top\">1</th>\n",
       "      <th>96995</th>\n",
       "      <td>False</td>\n",
       "      <td>False</td>\n",
       "      <td>False</td>\n",
       "      <td>False</td>\n",
       "      <td>False</td>\n",
       "      <td>False</td>\n",
       "      <td>False</td>\n",
       "      <td>False</td>\n",
       "      <td>False</td>\n",
       "      <td>False</td>\n",
       "      <td>...</td>\n",
       "      <td>False</td>\n",
       "      <td>False</td>\n",
       "      <td>False</td>\n",
       "      <td>False</td>\n",
       "      <td>False</td>\n",
       "      <td>False</td>\n",
       "      <td>False</td>\n",
       "      <td>False</td>\n",
       "      <td>False</td>\n",
       "      <td>False</td>\n",
       "    </tr>\n",
       "    <tr>\n",
       "      <th>99197</th>\n",
       "      <td>False</td>\n",
       "      <td>False</td>\n",
       "      <td>False</td>\n",
       "      <td>False</td>\n",
       "      <td>False</td>\n",
       "      <td>False</td>\n",
       "      <td>False</td>\n",
       "      <td>False</td>\n",
       "      <td>False</td>\n",
       "      <td>False</td>\n",
       "      <td>...</td>\n",
       "      <td>False</td>\n",
       "      <td>False</td>\n",
       "      <td>False</td>\n",
       "      <td>False</td>\n",
       "      <td>False</td>\n",
       "      <td>False</td>\n",
       "      <td>False</td>\n",
       "      <td>False</td>\n",
       "      <td>False</td>\n",
       "      <td>False</td>\n",
       "    </tr>\n",
       "    <tr>\n",
       "      <th>103520</th>\n",
       "      <td>False</td>\n",
       "      <td>False</td>\n",
       "      <td>False</td>\n",
       "      <td>False</td>\n",
       "      <td>False</td>\n",
       "      <td>False</td>\n",
       "      <td>False</td>\n",
       "      <td>False</td>\n",
       "      <td>False</td>\n",
       "      <td>False</td>\n",
       "      <td>...</td>\n",
       "      <td>False</td>\n",
       "      <td>False</td>\n",
       "      <td>False</td>\n",
       "      <td>False</td>\n",
       "      <td>False</td>\n",
       "      <td>False</td>\n",
       "      <td>False</td>\n",
       "      <td>False</td>\n",
       "      <td>False</td>\n",
       "      <td>False</td>\n",
       "    </tr>\n",
       "    <tr>\n",
       "      <th>103665</th>\n",
       "      <td>False</td>\n",
       "      <td>False</td>\n",
       "      <td>False</td>\n",
       "      <td>False</td>\n",
       "      <td>False</td>\n",
       "      <td>False</td>\n",
       "      <td>False</td>\n",
       "      <td>False</td>\n",
       "      <td>False</td>\n",
       "      <td>False</td>\n",
       "      <td>...</td>\n",
       "      <td>False</td>\n",
       "      <td>False</td>\n",
       "      <td>False</td>\n",
       "      <td>False</td>\n",
       "      <td>False</td>\n",
       "      <td>False</td>\n",
       "      <td>False</td>\n",
       "      <td>False</td>\n",
       "      <td>False</td>\n",
       "      <td>False</td>\n",
       "    </tr>\n",
       "    <tr>\n",
       "      <th>105574</th>\n",
       "      <td>False</td>\n",
       "      <td>False</td>\n",
       "      <td>False</td>\n",
       "      <td>False</td>\n",
       "      <td>False</td>\n",
       "      <td>False</td>\n",
       "      <td>False</td>\n",
       "      <td>False</td>\n",
       "      <td>False</td>\n",
       "      <td>False</td>\n",
       "      <td>...</td>\n",
       "      <td>False</td>\n",
       "      <td>False</td>\n",
       "      <td>False</td>\n",
       "      <td>False</td>\n",
       "      <td>False</td>\n",
       "      <td>False</td>\n",
       "      <td>False</td>\n",
       "      <td>False</td>\n",
       "      <td>False</td>\n",
       "      <td>False</td>\n",
       "    </tr>\n",
       "  </tbody>\n",
       "</table>\n",
       "<p>5 rows × 77 columns</p>\n",
       "</div>"
      ],
      "text/plain": [
       "                   onpromotion                                              \\\n",
       "date                2017-05-31 2017-06-01 2017-06-02 2017-06-03 2017-06-04   \n",
       "store_nbr item_nbr                                                           \n",
       "1         96995          False      False      False      False      False   \n",
       "          99197          False      False      False      False      False   \n",
       "          103520         False      False      False      False      False   \n",
       "          103665         False      False      False      False      False   \n",
       "          105574         False      False      False      False      False   \n",
       "\n",
       "                                                                           \\\n",
       "date               2017-06-05 2017-06-06 2017-06-07 2017-06-08 2017-06-09   \n",
       "store_nbr item_nbr                                                          \n",
       "1         96995         False      False      False      False      False   \n",
       "          99197         False      False      False      False      False   \n",
       "          103520        False      False      False      False      False   \n",
       "          103665        False      False      False      False      False   \n",
       "          105574        False      False      False      False      False   \n",
       "\n",
       "                      ...                                                  \\\n",
       "date                  ...     2017-08-06 2017-08-07 2017-08-08 2017-08-09   \n",
       "store_nbr item_nbr    ...                                                   \n",
       "1         96995       ...          False      False      False      False   \n",
       "          99197       ...          False      False      False      False   \n",
       "          103520      ...          False      False      False      False   \n",
       "          103665      ...          False      False      False      False   \n",
       "          105574      ...          False      False      False      False   \n",
       "\n",
       "                                                                           \\\n",
       "date               2017-08-10 2017-08-11 2017-08-12 2017-08-13 2017-08-14   \n",
       "store_nbr item_nbr                                                          \n",
       "1         96995         False      False      False      False      False   \n",
       "          99197         False      False      False      False      False   \n",
       "          103520        False      False      False      False      False   \n",
       "          103665        False      False      False      False      False   \n",
       "          105574        False      False      False      False      False   \n",
       "\n",
       "                               \n",
       "date               2017-08-15  \n",
       "store_nbr item_nbr             \n",
       "1         96995         False  \n",
       "          99197         False  \n",
       "          103520        False  \n",
       "          103665        False  \n",
       "          105574        False  \n",
       "\n",
       "[5 rows x 77 columns]"
      ]
     },
     "execution_count": 94,
     "metadata": {},
     "output_type": "execute_result"
    }
   ],
   "source": [
    "promo_2017_train.head()"
   ]
  },
  {
   "cell_type": "code",
   "execution_count": 95,
   "metadata": {
    "collapsed": true
   },
   "outputs": [],
   "source": [
    "promo_2017_train.columns = promo_2017_train.columns.get_level_values(1)"
   ]
  },
  {
   "cell_type": "code",
   "execution_count": 96,
   "metadata": {},
   "outputs": [
    {
     "data": {
      "text/plain": [
       "DatetimeIndex(['2017-05-31', '2017-06-01', '2017-06-02', '2017-06-03',\n",
       "               '2017-06-04', '2017-06-05', '2017-06-06', '2017-06-07',\n",
       "               '2017-06-08', '2017-06-09', '2017-06-10', '2017-06-11',\n",
       "               '2017-06-12', '2017-06-13', '2017-06-14', '2017-06-15',\n",
       "               '2017-06-16', '2017-06-17', '2017-06-18', '2017-06-19',\n",
       "               '2017-06-20', '2017-06-21', '2017-06-22', '2017-06-23',\n",
       "               '2017-06-24', '2017-06-25', '2017-06-26', '2017-06-27',\n",
       "               '2017-06-28', '2017-06-29', '2017-06-30', '2017-07-01',\n",
       "               '2017-07-02', '2017-07-03', '2017-07-04', '2017-07-05',\n",
       "               '2017-07-06', '2017-07-07', '2017-07-08', '2017-07-09',\n",
       "               '2017-07-10', '2017-07-11', '2017-07-12', '2017-07-13',\n",
       "               '2017-07-14', '2017-07-15', '2017-07-16', '2017-07-17',\n",
       "               '2017-07-18', '2017-07-19', '2017-07-20', '2017-07-21',\n",
       "               '2017-07-22', '2017-07-23', '2017-07-24', '2017-07-25',\n",
       "               '2017-07-26', '2017-07-27', '2017-07-28', '2017-07-29',\n",
       "               '2017-07-30', '2017-07-31', '2017-08-01', '2017-08-02',\n",
       "               '2017-08-03', '2017-08-04', '2017-08-05', '2017-08-06',\n",
       "               '2017-08-07', '2017-08-08', '2017-08-09', '2017-08-10',\n",
       "               '2017-08-11', '2017-08-12', '2017-08-13', '2017-08-14',\n",
       "               '2017-08-15'],\n",
       "              dtype='datetime64[ns]', name='date', freq=None)"
      ]
     },
     "execution_count": 96,
     "metadata": {},
     "output_type": "execute_result"
    }
   ],
   "source": [
    "promo_2017_train.columns"
   ]
  },
  {
   "cell_type": "code",
   "execution_count": 97,
   "metadata": {
    "collapsed": true
   },
   "outputs": [],
   "source": [
    "#Repeat same steps for test dataset\n",
    "promo_2017_test = df_test[[\"onpromotion\"]].unstack(level=-1).fillna(False)\n",
    "promo_2017_test.columns = promo_2017_test.columns.get_level_values(1)"
   ]
  },
  {
   "cell_type": "code",
   "execution_count": 98,
   "metadata": {},
   "outputs": [
    {
     "data": {
      "text/plain": [
       "(210654, 16)"
      ]
     },
     "execution_count": 98,
     "metadata": {},
     "output_type": "execute_result"
    }
   ],
   "source": [
    "promo_2017_test.head()\n",
    "promo_2017_test.shape"
   ]
  },
  {
   "cell_type": "code",
   "execution_count": 99,
   "metadata": {
    "collapsed": true
   },
   "outputs": [],
   "source": [
    "promo_2017_test = promo_2017_test.reindex(promo_2017_train.index).fillna(False)\n",
    "#Reseting the index same as promo_2017_train\n",
    "promo_2017 = pd.concat([promo_2017_train, promo_2017_test], axis=1)"
   ]
  },
  {
   "cell_type": "code",
   "execution_count": 100,
   "metadata": {
    "collapsed": true
   },
   "outputs": [],
   "source": [
    "del promo_2017_test,promo_2017_train"
   ]
  },
  {
   "cell_type": "code",
   "execution_count": 101,
   "metadata": {
    "collapsed": true
   },
   "outputs": [],
   "source": [
    "df_2017 = df_2017.set_index(\n",
    "    [\"store_nbr\", \"item_nbr\", \"date\"])[[\"unit_sales\"]].unstack(\n",
    "        level=-1).fillna(0)\n",
    "df_2017.columns = df_2017.columns.get_level_values(1)"
   ]
  },
  {
   "cell_type": "code",
   "execution_count": 102,
   "metadata": {},
   "outputs": [
    {
     "data": {
      "text/html": [
       "<div>\n",
       "<style scoped>\n",
       "    .dataframe tbody tr th:only-of-type {\n",
       "        vertical-align: middle;\n",
       "    }\n",
       "\n",
       "    .dataframe tbody tr th {\n",
       "        vertical-align: top;\n",
       "    }\n",
       "\n",
       "    .dataframe thead th {\n",
       "        text-align: right;\n",
       "    }\n",
       "</style>\n",
       "<table border=\"1\" class=\"dataframe\">\n",
       "  <thead>\n",
       "    <tr style=\"text-align: right;\">\n",
       "      <th></th>\n",
       "      <th>date</th>\n",
       "      <th>2017-05-31 00:00:00</th>\n",
       "      <th>2017-06-01 00:00:00</th>\n",
       "      <th>2017-06-02 00:00:00</th>\n",
       "      <th>2017-06-03 00:00:00</th>\n",
       "      <th>2017-06-04 00:00:00</th>\n",
       "      <th>2017-06-05 00:00:00</th>\n",
       "      <th>2017-06-06 00:00:00</th>\n",
       "      <th>2017-06-07 00:00:00</th>\n",
       "      <th>2017-06-08 00:00:00</th>\n",
       "      <th>2017-06-09 00:00:00</th>\n",
       "      <th>...</th>\n",
       "      <th>2017-08-22 00:00:00</th>\n",
       "      <th>2017-08-23 00:00:00</th>\n",
       "      <th>2017-08-24 00:00:00</th>\n",
       "      <th>2017-08-25 00:00:00</th>\n",
       "      <th>2017-08-26 00:00:00</th>\n",
       "      <th>2017-08-27 00:00:00</th>\n",
       "      <th>2017-08-28 00:00:00</th>\n",
       "      <th>2017-08-29 00:00:00</th>\n",
       "      <th>2017-08-30 00:00:00</th>\n",
       "      <th>2017-08-31 00:00:00</th>\n",
       "    </tr>\n",
       "    <tr>\n",
       "      <th>store_nbr</th>\n",
       "      <th>item_nbr</th>\n",
       "      <th></th>\n",
       "      <th></th>\n",
       "      <th></th>\n",
       "      <th></th>\n",
       "      <th></th>\n",
       "      <th></th>\n",
       "      <th></th>\n",
       "      <th></th>\n",
       "      <th></th>\n",
       "      <th></th>\n",
       "      <th></th>\n",
       "      <th></th>\n",
       "      <th></th>\n",
       "      <th></th>\n",
       "      <th></th>\n",
       "      <th></th>\n",
       "      <th></th>\n",
       "      <th></th>\n",
       "      <th></th>\n",
       "      <th></th>\n",
       "      <th></th>\n",
       "    </tr>\n",
       "  </thead>\n",
       "  <tbody>\n",
       "    <tr>\n",
       "      <th rowspan=\"5\" valign=\"top\">1</th>\n",
       "      <th>96995</th>\n",
       "      <td>False</td>\n",
       "      <td>False</td>\n",
       "      <td>False</td>\n",
       "      <td>False</td>\n",
       "      <td>False</td>\n",
       "      <td>False</td>\n",
       "      <td>False</td>\n",
       "      <td>False</td>\n",
       "      <td>False</td>\n",
       "      <td>False</td>\n",
       "      <td>...</td>\n",
       "      <td>False</td>\n",
       "      <td>False</td>\n",
       "      <td>False</td>\n",
       "      <td>False</td>\n",
       "      <td>False</td>\n",
       "      <td>False</td>\n",
       "      <td>False</td>\n",
       "      <td>False</td>\n",
       "      <td>False</td>\n",
       "      <td>False</td>\n",
       "    </tr>\n",
       "    <tr>\n",
       "      <th>99197</th>\n",
       "      <td>False</td>\n",
       "      <td>False</td>\n",
       "      <td>False</td>\n",
       "      <td>False</td>\n",
       "      <td>False</td>\n",
       "      <td>False</td>\n",
       "      <td>False</td>\n",
       "      <td>False</td>\n",
       "      <td>False</td>\n",
       "      <td>False</td>\n",
       "      <td>...</td>\n",
       "      <td>False</td>\n",
       "      <td>False</td>\n",
       "      <td>False</td>\n",
       "      <td>False</td>\n",
       "      <td>False</td>\n",
       "      <td>False</td>\n",
       "      <td>False</td>\n",
       "      <td>False</td>\n",
       "      <td>False</td>\n",
       "      <td>False</td>\n",
       "    </tr>\n",
       "    <tr>\n",
       "      <th>103520</th>\n",
       "      <td>False</td>\n",
       "      <td>False</td>\n",
       "      <td>False</td>\n",
       "      <td>False</td>\n",
       "      <td>False</td>\n",
       "      <td>False</td>\n",
       "      <td>False</td>\n",
       "      <td>False</td>\n",
       "      <td>False</td>\n",
       "      <td>False</td>\n",
       "      <td>...</td>\n",
       "      <td>False</td>\n",
       "      <td>False</td>\n",
       "      <td>False</td>\n",
       "      <td>False</td>\n",
       "      <td>False</td>\n",
       "      <td>False</td>\n",
       "      <td>False</td>\n",
       "      <td>False</td>\n",
       "      <td>False</td>\n",
       "      <td>False</td>\n",
       "    </tr>\n",
       "    <tr>\n",
       "      <th>103665</th>\n",
       "      <td>False</td>\n",
       "      <td>False</td>\n",
       "      <td>False</td>\n",
       "      <td>False</td>\n",
       "      <td>False</td>\n",
       "      <td>False</td>\n",
       "      <td>False</td>\n",
       "      <td>False</td>\n",
       "      <td>False</td>\n",
       "      <td>False</td>\n",
       "      <td>...</td>\n",
       "      <td>False</td>\n",
       "      <td>False</td>\n",
       "      <td>False</td>\n",
       "      <td>False</td>\n",
       "      <td>False</td>\n",
       "      <td>False</td>\n",
       "      <td>False</td>\n",
       "      <td>False</td>\n",
       "      <td>False</td>\n",
       "      <td>False</td>\n",
       "    </tr>\n",
       "    <tr>\n",
       "      <th>105574</th>\n",
       "      <td>False</td>\n",
       "      <td>False</td>\n",
       "      <td>False</td>\n",
       "      <td>False</td>\n",
       "      <td>False</td>\n",
       "      <td>False</td>\n",
       "      <td>False</td>\n",
       "      <td>False</td>\n",
       "      <td>False</td>\n",
       "      <td>False</td>\n",
       "      <td>...</td>\n",
       "      <td>False</td>\n",
       "      <td>False</td>\n",
       "      <td>False</td>\n",
       "      <td>False</td>\n",
       "      <td>False</td>\n",
       "      <td>False</td>\n",
       "      <td>False</td>\n",
       "      <td>False</td>\n",
       "      <td>False</td>\n",
       "      <td>False</td>\n",
       "    </tr>\n",
       "  </tbody>\n",
       "</table>\n",
       "<p>5 rows × 93 columns</p>\n",
       "</div>"
      ],
      "text/plain": [
       "date                2017-05-31  2017-06-01  2017-06-02  2017-06-03  \\\n",
       "store_nbr item_nbr                                                   \n",
       "1         96995          False       False       False       False   \n",
       "          99197          False       False       False       False   \n",
       "          103520         False       False       False       False   \n",
       "          103665         False       False       False       False   \n",
       "          105574         False       False       False       False   \n",
       "\n",
       "date                2017-06-04  2017-06-05  2017-06-06  2017-06-07  \\\n",
       "store_nbr item_nbr                                                   \n",
       "1         96995          False       False       False       False   \n",
       "          99197          False       False       False       False   \n",
       "          103520         False       False       False       False   \n",
       "          103665         False       False       False       False   \n",
       "          105574         False       False       False       False   \n",
       "\n",
       "date                2017-06-08  2017-06-09     ...      2017-08-22  \\\n",
       "store_nbr item_nbr                             ...                   \n",
       "1         96995          False       False     ...           False   \n",
       "          99197          False       False     ...           False   \n",
       "          103520         False       False     ...           False   \n",
       "          103665         False       False     ...           False   \n",
       "          105574         False       False     ...           False   \n",
       "\n",
       "date                2017-08-23  2017-08-24  2017-08-25  2017-08-26  \\\n",
       "store_nbr item_nbr                                                   \n",
       "1         96995          False       False       False       False   \n",
       "          99197          False       False       False       False   \n",
       "          103520         False       False       False       False   \n",
       "          103665         False       False       False       False   \n",
       "          105574         False       False       False       False   \n",
       "\n",
       "date                2017-08-27  2017-08-28  2017-08-29  2017-08-30  2017-08-31  \n",
       "store_nbr item_nbr                                                              \n",
       "1         96995          False       False       False       False       False  \n",
       "          99197          False       False       False       False       False  \n",
       "          103520         False       False       False       False       False  \n",
       "          103665         False       False       False       False       False  \n",
       "          105574         False       False       False       False       False  \n",
       "\n",
       "[5 rows x 93 columns]"
      ]
     },
     "execution_count": 102,
     "metadata": {},
     "output_type": "execute_result"
    }
   ],
   "source": [
    "promo_2017.head()"
   ]
  },
  {
   "cell_type": "code",
   "execution_count": 103,
   "metadata": {
    "collapsed": true
   },
   "outputs": [],
   "source": [
    "items = items.reindex(df_2017.index.get_level_values(1))"
   ]
  },
  {
   "cell_type": "code",
   "execution_count": 104,
   "metadata": {},
   "outputs": [
    {
     "data": {
      "text/html": [
       "<div>\n",
       "<style scoped>\n",
       "    .dataframe tbody tr th:only-of-type {\n",
       "        vertical-align: middle;\n",
       "    }\n",
       "\n",
       "    .dataframe tbody tr th {\n",
       "        vertical-align: top;\n",
       "    }\n",
       "\n",
       "    .dataframe thead th {\n",
       "        text-align: right;\n",
       "    }\n",
       "</style>\n",
       "<table border=\"1\" class=\"dataframe\">\n",
       "  <thead>\n",
       "    <tr style=\"text-align: right;\">\n",
       "      <th></th>\n",
       "      <th>family</th>\n",
       "      <th>class</th>\n",
       "      <th>perishable</th>\n",
       "    </tr>\n",
       "    <tr>\n",
       "      <th>item_nbr</th>\n",
       "      <th></th>\n",
       "      <th></th>\n",
       "      <th></th>\n",
       "    </tr>\n",
       "  </thead>\n",
       "  <tbody>\n",
       "    <tr>\n",
       "      <th>96995</th>\n",
       "      <td>GROCERY I</td>\n",
       "      <td>1093</td>\n",
       "      <td>0</td>\n",
       "    </tr>\n",
       "    <tr>\n",
       "      <th>99197</th>\n",
       "      <td>GROCERY I</td>\n",
       "      <td>1067</td>\n",
       "      <td>0</td>\n",
       "    </tr>\n",
       "    <tr>\n",
       "      <th>103520</th>\n",
       "      <td>GROCERY I</td>\n",
       "      <td>1028</td>\n",
       "      <td>0</td>\n",
       "    </tr>\n",
       "    <tr>\n",
       "      <th>103665</th>\n",
       "      <td>BREAD/BAKERY</td>\n",
       "      <td>2712</td>\n",
       "      <td>1</td>\n",
       "    </tr>\n",
       "    <tr>\n",
       "      <th>105574</th>\n",
       "      <td>GROCERY I</td>\n",
       "      <td>1045</td>\n",
       "      <td>0</td>\n",
       "    </tr>\n",
       "  </tbody>\n",
       "</table>\n",
       "</div>"
      ],
      "text/plain": [
       "                family  class  perishable\n",
       "item_nbr                                 \n",
       "96995        GROCERY I   1093           0\n",
       "99197        GROCERY I   1067           0\n",
       "103520       GROCERY I   1028           0\n",
       "103665    BREAD/BAKERY   2712           1\n",
       "105574       GROCERY I   1045           0"
      ]
     },
     "execution_count": 104,
     "metadata": {},
     "output_type": "execute_result"
    }
   ],
   "source": [
    "items.head()"
   ]
  },
  {
   "cell_type": "code",
   "execution_count": 105,
   "metadata": {
    "collapsed": true
   },
   "outputs": [],
   "source": [
    "def get_timespan(df, dt, minus, periods):\n",
    "    return df[\n",
    "        pd.date_range(dt - timedelta(days=minus), periods=periods)\n",
    "    ]"
   ]
  },
  {
   "cell_type": "code",
   "execution_count": 106,
   "metadata": {
    "collapsed": true
   },
   "outputs": [],
   "source": [
    "def prepare_dataset(t2017, is_train=True):\n",
    "    X = pd.DataFrame({\n",
    "        \"mean_3_2017\": get_timespan(df_2017, t2017, 3, 3).mean(axis=1).values,\n",
    "        \"mean_7_2017\": get_timespan(df_2017, t2017, 7, 7).mean(axis=1).values,\n",
    "        \"mean_14_2017\": get_timespan(df_2017, t2017, 14, 14).mean(axis=1).values,\n",
    "        \"promo_14_2017\": get_timespan(promo_2017, t2017, 14, 14).sum(axis=1).values\n",
    "    })\n",
    "    for i in range(16):\n",
    "        X[\"promo_{}\".format(i)] = promo_2017[\n",
    "            t2017 + timedelta(days=i)].values.astype(np.uint8)\n",
    "    if is_train:\n",
    "        y = df_2017[\n",
    "            pd.date_range(t2017, periods=16)\n",
    "        ].values\n",
    "        return X, y\n",
    "    return X"
   ]
  },
  {
   "cell_type": "code",
   "execution_count": 107,
   "metadata": {},
   "outputs": [
    {
     "name": "stdout",
     "output_type": "stream",
     "text": [
      "Preparing dataset...\n"
     ]
    }
   ],
   "source": [
    "print(\"Preparing dataset...\")\n",
    "t2017 = date(2017, 6, 21)\n",
    "X_l, y_l = [], []\n",
    "for i in range(4):\n",
    "    delta = timedelta(days=7 * i)\n",
    "    X_tmp, y_tmp = prepare_dataset(\n",
    "        t2017 + delta\n",
    "    )\n",
    "    X_l.append(X_tmp)\n",
    "    y_l.append(y_tmp)\n",
    "X_train = pd.concat(X_l, axis=0)\n",
    "y_train = np.concatenate(y_l, axis=0)\n",
    "del X_l, y_l\n",
    "X_val, y_val = prepare_dataset(date(2017, 7, 26))\n",
    "X_test = prepare_dataset(date(2017, 8, 16), is_train=False)"
   ]
  },
  {
   "cell_type": "code",
   "execution_count": 108,
   "metadata": {},
   "outputs": [
    {
     "name": "stdout",
     "output_type": "stream",
     "text": [
      "Training and predicting models...\n"
     ]
    }
   ],
   "source": [
    "print(\"Training and predicting models...\")\n",
    "params = {\n",
    "    'num_leaves': 2**5 - 1,\n",
    "    'objective': 'regression_l2',\n",
    "    'max_depth': 8,\n",
    "    'min_data_in_leaf': 50,\n",
    "    'learning_rate': 0.05,\n",
    "    'feature_fraction': 0.75,\n",
    "    'bagging_fraction': 0.75,\n",
    "    'bagging_freq': 1,\n",
    "    'metric': 'l2',\n",
    "    'num_threads': 4\n",
    "}\n"
   ]
  },
  {
   "cell_type": "code",
   "execution_count": 109,
   "metadata": {
    "collapsed": true
   },
   "outputs": [],
   "source": [
    "MAX_ROUNDS = 1000\n",
    "val_pred = []\n",
    "test_pred = []\n",
    "cate_vars = []"
   ]
  },
  {
   "cell_type": "code",
   "execution_count": 110,
   "metadata": {
    "scrolled": true
   },
   "outputs": [
    {
     "name": "stdout",
     "output_type": "stream",
     "text": [
      "==================================================\n",
      "Step 1\n",
      "==================================================\n"
     ]
    },
    {
     "name": "stderr",
     "output_type": "stream",
     "text": [
      "C:\\ProgramData\\Anaconda3\\lib\\site-packages\\lightgbm\\basic.py:1036: UserWarning: Using categorical_feature in Dataset.\n",
      "  warnings.warn('Using categorical_feature in Dataset.')\n"
     ]
    },
    {
     "name": "stdout",
     "output_type": "stream",
     "text": [
      "Training until validation scores don't improve for 50 rounds.\n",
      "[50]\ttraining's l2: 0.345097\tvalid_1's l2: 0.341325\n",
      "[100]\ttraining's l2: 0.333329\tvalid_1's l2: 0.330014\n",
      "[150]\ttraining's l2: 0.331387\tvalid_1's l2: 0.328774\n",
      "[200]\ttraining's l2: 0.330338\tvalid_1's l2: 0.328296\n",
      "[250]\ttraining's l2: 0.329482\tvalid_1's l2: 0.327889\n",
      "[300]\ttraining's l2: 0.328796\tvalid_1's l2: 0.327648\n",
      "[350]\ttraining's l2: 0.328179\tvalid_1's l2: 0.327391\n",
      "[400]\ttraining's l2: 0.32762\tvalid_1's l2: 0.32721\n",
      "[450]\ttraining's l2: 0.327135\tvalid_1's l2: 0.327108\n",
      "[500]\ttraining's l2: 0.326678\tvalid_1's l2: 0.327039\n",
      "[550]\ttraining's l2: 0.326257\tvalid_1's l2: 0.326976\n",
      "[600]\ttraining's l2: 0.325865\tvalid_1's l2: 0.32694\n",
      "[650]\ttraining's l2: 0.325471\tvalid_1's l2: 0.32692\n",
      "[700]\ttraining's l2: 0.325077\tvalid_1's l2: 0.326862\n",
      "[750]\ttraining's l2: 0.32472\tvalid_1's l2: 0.326886\n",
      "Early stopping, best iteration is:\n",
      "[700]\ttraining's l2: 0.325077\tvalid_1's l2: 0.326862\n",
      "mean_14_2017: 1986449.84\n",
      "mean_7_2017: 1457763.98\n",
      "mean_3_2017: 315685.86\n",
      "promo_0: 138311.77\n",
      "promo_14_2017: 55771.15\n",
      "promo_7: 20798.22\n",
      "promo_14: 7760.52\n",
      "promo_3: 5673.91\n",
      "promo_15: 3997.14\n",
      "promo_9: 2805.85\n",
      "promo_2: 2164.39\n",
      "promo_13: 1999.63\n",
      "promo_4: 1896.85\n",
      "promo_6: 1442.07\n",
      "promo_1: 1237.74\n",
      "promo_11: 1209.49\n",
      "promo_5: 1037.48\n",
      "promo_8: 1029.53\n",
      "promo_10: 878.85\n",
      "promo_12: 786.74\n",
      "==================================================\n",
      "Step 2\n",
      "==================================================\n",
      "Training until validation scores don't improve for 50 rounds.\n",
      "[50]\ttraining's l2: 0.362083\tvalid_1's l2: 0.373936\n",
      "[100]\ttraining's l2: 0.352839\tvalid_1's l2: 0.36388\n",
      "[150]\ttraining's l2: 0.350732\tvalid_1's l2: 0.361879\n",
      "[200]\ttraining's l2: 0.349587\tvalid_1's l2: 0.361007\n",
      "[250]\ttraining's l2: 0.348683\tvalid_1's l2: 0.360553\n",
      "[300]\ttraining's l2: 0.3479\tvalid_1's l2: 0.36017\n",
      "[350]\ttraining's l2: 0.347234\tvalid_1's l2: 0.360051\n",
      "[400]\ttraining's l2: 0.346659\tvalid_1's l2: 0.359872\n",
      "[450]\ttraining's l2: 0.346122\tvalid_1's l2: 0.359842\n",
      "[500]\ttraining's l2: 0.34562\tvalid_1's l2: 0.359741\n",
      "[550]\ttraining's l2: 0.345179\tvalid_1's l2: 0.359637\n",
      "Early stopping, best iteration is:\n",
      "[544]\ttraining's l2: 0.345234\tvalid_1's l2: 0.359619\n",
      "mean_14_2017: 1868914.77\n",
      "mean_7_2017: 992464.75\n",
      "mean_3_2017: 246905.29\n",
      "promo_1: 99350.78\n",
      "promo_14_2017: 44172.54\n",
      "promo_3: 12750.79\n",
      "promo_0: 6779.88\n",
      "promo_2: 6583.47\n",
      "promo_4: 5325.07\n",
      "promo_5: 4631.52\n",
      "promo_7: 2156.05\n",
      "promo_8: 1831.46\n",
      "promo_6: 1827.78\n",
      "promo_9: 1776.41\n",
      "promo_14: 1612.61\n",
      "promo_15: 1062.18\n",
      "promo_13: 950.48\n",
      "promo_11: 766.67\n",
      "promo_12: 695.36\n",
      "promo_10: 610.23\n",
      "==================================================\n",
      "Step 3\n",
      "==================================================\n",
      "Training until validation scores don't improve for 50 rounds.\n",
      "[50]\ttraining's l2: 0.380875\tvalid_1's l2: 0.402351\n",
      "[100]\ttraining's l2: 0.367498\tvalid_1's l2: 0.39009\n",
      "[150]\ttraining's l2: 0.364512\tvalid_1's l2: 0.388904\n",
      "[200]\ttraining's l2: 0.363052\tvalid_1's l2: 0.387965\n",
      "[250]\ttraining's l2: 0.361938\tvalid_1's l2: 0.387665\n",
      "[300]\ttraining's l2: 0.361065\tvalid_1's l2: 0.387599\n",
      "[350]\ttraining's l2: 0.360329\tvalid_1's l2: 0.387381\n",
      "[400]\ttraining's l2: 0.359635\tvalid_1's l2: 0.387359\n",
      "[450]\ttraining's l2: 0.359046\tvalid_1's l2: 0.387275\n",
      "[500]\ttraining's l2: 0.35847\tvalid_1's l2: 0.387182\n",
      "[550]\ttraining's l2: 0.357961\tvalid_1's l2: 0.387104\n",
      "[600]\ttraining's l2: 0.3575\tvalid_1's l2: 0.387178\n",
      "Early stopping, best iteration is:\n",
      "[566]\ttraining's l2: 0.357817\tvalid_1's l2: 0.387091\n",
      "mean_14_2017: 2319488.79\n",
      "mean_7_2017: 966966.91\n",
      "mean_3_2017: 272105.14\n",
      "promo_2: 142008.91\n",
      "promo_14_2017: 60744.28\n",
      "promo_9: 14380.12\n",
      "promo_3: 9424.53\n",
      "promo_5: 6225.54\n",
      "promo_0: 5800.61\n",
      "promo_4: 5396.82\n",
      "promo_1: 5007.91\n",
      "promo_7: 4463.36\n",
      "promo_14: 3223.84\n",
      "promo_10: 2505.59\n",
      "promo_6: 2371.64\n",
      "promo_13: 2257.02\n",
      "promo_15: 1714.15\n",
      "promo_11: 1644.68\n",
      "promo_12: 1350.52\n",
      "promo_8: 1083.30\n",
      "==================================================\n",
      "Step 4\n",
      "==================================================\n",
      "Training until validation scores don't improve for 50 rounds.\n",
      "[50]\ttraining's l2: 0.41088\tvalid_1's l2: 0.414437\n",
      "[100]\ttraining's l2: 0.398636\tvalid_1's l2: 0.402885\n",
      "[150]\ttraining's l2: 0.395403\tvalid_1's l2: 0.400838\n",
      "[200]\ttraining's l2: 0.393721\tvalid_1's l2: 0.400026\n",
      "[250]\ttraining's l2: 0.392571\tvalid_1's l2: 0.39955\n",
      "[300]\ttraining's l2: 0.391653\tvalid_1's l2: 0.399163\n",
      "[350]\ttraining's l2: 0.390913\tvalid_1's l2: 0.39899\n",
      "[400]\ttraining's l2: 0.390209\tvalid_1's l2: 0.398832\n",
      "[450]\ttraining's l2: 0.38955\tvalid_1's l2: 0.39859\n",
      "[500]\ttraining's l2: 0.388929\tvalid_1's l2: 0.39851\n",
      "[550]\ttraining's l2: 0.388391\tvalid_1's l2: 0.39842\n",
      "[600]\ttraining's l2: 0.387866\tvalid_1's l2: 0.398311\n",
      "[650]\ttraining's l2: 0.38739\tvalid_1's l2: 0.398177\n",
      "[700]\ttraining's l2: 0.386894\tvalid_1's l2: 0.398144\n",
      "[750]\ttraining's l2: 0.386481\tvalid_1's l2: 0.398138\n",
      "[800]\ttraining's l2: 0.386046\tvalid_1's l2: 0.39809\n",
      "[850]\ttraining's l2: 0.385606\tvalid_1's l2: 0.398011\n",
      "[900]\ttraining's l2: 0.385208\tvalid_1's l2: 0.398025\n",
      "Early stopping, best iteration is:\n",
      "[850]\ttraining's l2: 0.385606\tvalid_1's l2: 0.398011\n",
      "mean_14_2017: 2699240.14\n",
      "mean_7_2017: 1108185.73\n",
      "mean_3_2017: 318024.54\n",
      "promo_3: 84253.36\n",
      "promo_14_2017: 48070.58\n",
      "promo_2: 12630.11\n",
      "promo_5: 8872.43\n",
      "promo_4: 8629.52\n",
      "promo_0: 8202.50\n",
      "promo_1: 7135.85\n",
      "promo_7: 6907.18\n",
      "promo_14: 4039.79\n",
      "promo_6: 3344.26\n",
      "promo_9: 2780.04\n",
      "promo_8: 2739.25\n",
      "promo_10: 2535.59\n",
      "promo_13: 1718.36\n",
      "promo_15: 1632.95\n",
      "promo_11: 1444.55\n",
      "promo_12: 971.72\n",
      "==================================================\n",
      "Step 5\n",
      "==================================================\n",
      "Training until validation scores don't improve for 50 rounds.\n",
      "[50]\ttraining's l2: 0.439576\tvalid_1's l2: 0.437491\n",
      "[100]\ttraining's l2: 0.425773\tvalid_1's l2: 0.425185\n",
      "[150]\ttraining's l2: 0.422249\tvalid_1's l2: 0.422508\n",
      "[200]\ttraining's l2: 0.420476\tvalid_1's l2: 0.42152\n",
      "[250]\ttraining's l2: 0.419141\tvalid_1's l2: 0.420784\n",
      "[300]\ttraining's l2: 0.418091\tvalid_1's l2: 0.420299\n",
      "[350]\ttraining's l2: 0.417272\tvalid_1's l2: 0.419958\n",
      "[400]\ttraining's l2: 0.416513\tvalid_1's l2: 0.41973\n",
      "[450]\ttraining's l2: 0.415835\tvalid_1's l2: 0.419579\n",
      "[500]\ttraining's l2: 0.415178\tvalid_1's l2: 0.419386\n",
      "[550]\ttraining's l2: 0.414574\tvalid_1's l2: 0.419117\n",
      "[600]\ttraining's l2: 0.414011\tvalid_1's l2: 0.418952\n",
      "[650]\ttraining's l2: 0.413479\tvalid_1's l2: 0.418839\n",
      "[700]\ttraining's l2: 0.412944\tvalid_1's l2: 0.418794\n",
      "[750]\ttraining's l2: 0.412487\tvalid_1's l2: 0.418727\n",
      "Early stopping, best iteration is:\n",
      "[733]\ttraining's l2: 0.412644\tvalid_1's l2: 0.418721\n",
      "mean_14_2017: 2900562.14\n",
      "mean_7_2017: 940343.68\n",
      "mean_3_2017: 555576.71\n",
      "promo_4: 86413.56\n",
      "promo_14_2017: 44620.25\n",
      "promo_5: 11967.47\n",
      "promo_3: 11050.45\n",
      "promo_7: 9011.18\n",
      "promo_2: 7906.63\n",
      "promo_0: 6428.12\n",
      "promo_1: 6227.03\n",
      "promo_6: 5886.70\n",
      "promo_14: 4861.32\n",
      "promo_11: 4145.03\n",
      "promo_9: 4013.79\n",
      "promo_8: 3018.28\n",
      "promo_10: 2167.46\n",
      "promo_15: 2053.96\n",
      "promo_13: 1956.13\n",
      "promo_12: 1914.83\n",
      "==================================================\n",
      "Step 6\n",
      "==================================================\n",
      "Training until validation scores don't improve for 50 rounds.\n",
      "[50]\ttraining's l2: 0.409584\tvalid_1's l2: 0.423971\n",
      "[100]\ttraining's l2: 0.398291\tvalid_1's l2: 0.410411\n",
      "[150]\ttraining's l2: 0.395342\tvalid_1's l2: 0.407794\n",
      "[200]\ttraining's l2: 0.39379\tvalid_1's l2: 0.406887\n",
      "[250]\ttraining's l2: 0.392667\tvalid_1's l2: 0.406418\n",
      "[300]\ttraining's l2: 0.391736\tvalid_1's l2: 0.406087\n",
      "[350]\ttraining's l2: 0.390967\tvalid_1's l2: 0.405975\n",
      "[400]\ttraining's l2: 0.390286\tvalid_1's l2: 0.405775\n",
      "[450]\ttraining's l2: 0.389664\tvalid_1's l2: 0.405608\n",
      "[500]\ttraining's l2: 0.389064\tvalid_1's l2: 0.405492\n",
      "[550]\ttraining's l2: 0.388476\tvalid_1's l2: 0.405527\n",
      "Early stopping, best iteration is:\n",
      "[503]\ttraining's l2: 0.389017\tvalid_1's l2: 0.405467\n",
      "mean_14_2017: 2380586.50\n",
      "mean_7_2017: 832178.27\n",
      "mean_3_2017: 369471.68\n",
      "promo_5: 90672.57\n",
      "promo_14_2017: 43199.02\n",
      "promo_3: 14850.07\n",
      "promo_6: 11417.65\n",
      "promo_7: 10118.18\n",
      "promo_2: 5299.55\n",
      "promo_4: 5149.10\n",
      "promo_1: 4358.04\n",
      "promo_0: 4328.28\n",
      "promo_9: 3430.97\n",
      "promo_8: 3336.90\n",
      "promo_14: 2825.31\n",
      "promo_12: 2248.26\n",
      "promo_11: 2046.16\n",
      "promo_10: 1638.87\n",
      "promo_13: 1559.84\n",
      "promo_15: 1140.49\n",
      "==================================================\n",
      "Step 7\n",
      "==================================================\n",
      "Training until validation scores don't improve for 50 rounds.\n",
      "[50]\ttraining's l2: 0.399217\tvalid_1's l2: 0.499347\n"
     ]
    },
    {
     "name": "stdout",
     "output_type": "stream",
     "text": [
      "[100]\ttraining's l2: 0.387503\tvalid_1's l2: 0.484477\n",
      "[150]\ttraining's l2: 0.38451\tvalid_1's l2: 0.483293\n",
      "Early stopping, best iteration is:\n",
      "[133]\ttraining's l2: 0.385266\tvalid_1's l2: 0.483197\n",
      "mean_14_2017: 2173915.37\n",
      "mean_7_2017: 779085.54\n",
      "mean_3_2017: 309418.75\n",
      "promo_6: 153438.12\n",
      "promo_14_2017: 48445.64\n",
      "promo_3: 14017.86\n",
      "promo_7: 9137.57\n",
      "promo_13: 8640.51\n",
      "promo_5: 7108.16\n",
      "promo_0: 4701.30\n",
      "promo_1: 3898.41\n",
      "promo_4: 3646.02\n",
      "promo_9: 3257.32\n",
      "promo_2: 2908.48\n",
      "promo_14: 2786.73\n",
      "promo_8: 1924.80\n",
      "promo_15: 943.23\n",
      "promo_12: 873.16\n",
      "promo_11: 850.42\n",
      "promo_10: 779.03\n",
      "==================================================\n",
      "Step 8\n",
      "==================================================\n",
      "Training until validation scores don't improve for 50 rounds.\n",
      "[50]\ttraining's l2: 0.38804\tvalid_1's l2: 0.460395\n",
      "[100]\ttraining's l2: 0.375671\tvalid_1's l2: 0.44255\n",
      "[150]\ttraining's l2: 0.372894\tvalid_1's l2: 0.439745\n",
      "[200]\ttraining's l2: 0.371495\tvalid_1's l2: 0.438764\n",
      "[250]\ttraining's l2: 0.370359\tvalid_1's l2: 0.438271\n",
      "[300]\ttraining's l2: 0.369416\tvalid_1's l2: 0.437744\n",
      "[350]\ttraining's l2: 0.368715\tvalid_1's l2: 0.437619\n",
      "[400]\ttraining's l2: 0.368041\tvalid_1's l2: 0.437442\n",
      "[450]\ttraining's l2: 0.36745\tvalid_1's l2: 0.437331\n",
      "[500]\ttraining's l2: 0.366861\tvalid_1's l2: 0.437071\n",
      "[550]\ttraining's l2: 0.366324\tvalid_1's l2: 0.437007\n",
      "[600]\ttraining's l2: 0.365809\tvalid_1's l2: 0.436936\n",
      "[650]\ttraining's l2: 0.365316\tvalid_1's l2: 0.436796\n",
      "[700]\ttraining's l2: 0.364857\tvalid_1's l2: 0.436676\n",
      "[750]\ttraining's l2: 0.364437\tvalid_1's l2: 0.436579\n",
      "[800]\ttraining's l2: 0.364046\tvalid_1's l2: 0.436594\n",
      "Early stopping, best iteration is:\n",
      "[751]\ttraining's l2: 0.364428\tvalid_1's l2: 0.436565\n",
      "mean_14_2017: 2384937.96\n",
      "mean_7_2017: 800275.74\n",
      "mean_3_2017: 264449.48\n",
      "promo_7: 198969.97\n",
      "promo_14_2017: 43102.32\n",
      "promo_0: 40277.13\n",
      "promo_14: 25346.38\n",
      "promo_5: 8275.66\n",
      "promo_3: 7146.90\n",
      "promo_9: 6885.87\n",
      "promo_6: 5602.21\n",
      "promo_8: 4957.82\n",
      "promo_4: 4043.85\n",
      "promo_2: 3830.85\n",
      "promo_1: 3345.19\n",
      "promo_15: 3162.98\n",
      "promo_10: 2194.94\n",
      "promo_13: 2140.94\n",
      "promo_11: 1299.25\n",
      "promo_12: 1084.98\n",
      "==================================================\n",
      "Step 9\n",
      "==================================================\n",
      "Training until validation scores don't improve for 50 rounds.\n",
      "[50]\ttraining's l2: 0.39501\tvalid_1's l2: 0.439575\n",
      "[100]\ttraining's l2: 0.38446\tvalid_1's l2: 0.426923\n",
      "[150]\ttraining's l2: 0.381702\tvalid_1's l2: 0.425458\n",
      "[200]\ttraining's l2: 0.380266\tvalid_1's l2: 0.425137\n",
      "[250]\ttraining's l2: 0.379208\tvalid_1's l2: 0.42483\n",
      "[300]\ttraining's l2: 0.37831\tvalid_1's l2: 0.424731\n",
      "[350]\ttraining's l2: 0.377586\tvalid_1's l2: 0.424813\n",
      "Early stopping, best iteration is:\n",
      "[322]\ttraining's l2: 0.377986\tvalid_1's l2: 0.424682\n",
      "mean_14_2017: 2075947.93\n",
      "mean_7_2017: 655683.84\n",
      "mean_3_2017: 222744.11\n",
      "promo_8: 131624.44\n",
      "promo_14_2017: 49753.23\n",
      "promo_10: 16232.78\n",
      "promo_9: 9035.94\n",
      "promo_7: 8227.44\n",
      "promo_3: 5610.98\n",
      "promo_11: 4952.09\n",
      "promo_12: 4276.68\n",
      "promo_5: 3849.07\n",
      "promo_13: 3707.71\n",
      "promo_0: 3655.26\n",
      "promo_14: 3170.06\n",
      "promo_1: 2449.77\n",
      "promo_6: 2227.24\n",
      "promo_2: 2209.61\n",
      "promo_15: 2121.89\n",
      "promo_4: 1531.99\n",
      "==================================================\n",
      "Step 10\n",
      "==================================================\n",
      "Training until validation scores don't improve for 50 rounds.\n",
      "[50]\ttraining's l2: 0.411047\tvalid_1's l2: 0.442473\n",
      "[100]\ttraining's l2: 0.397624\tvalid_1's l2: 0.429152\n",
      "[150]\ttraining's l2: 0.394107\tvalid_1's l2: 0.427581\n",
      "[200]\ttraining's l2: 0.392325\tvalid_1's l2: 0.427375\n",
      "[250]\ttraining's l2: 0.391099\tvalid_1's l2: 0.427094\n",
      "[300]\ttraining's l2: 0.390115\tvalid_1's l2: 0.426925\n",
      "[350]\ttraining's l2: 0.389301\tvalid_1's l2: 0.42691\n",
      "[400]\ttraining's l2: 0.388546\tvalid_1's l2: 0.426784\n",
      "[450]\ttraining's l2: 0.387796\tvalid_1's l2: 0.426701\n",
      "[500]\ttraining's l2: 0.387151\tvalid_1's l2: 0.4266\n",
      "[550]\ttraining's l2: 0.386535\tvalid_1's l2: 0.426631\n",
      "Early stopping, best iteration is:\n",
      "[531]\ttraining's l2: 0.386772\tvalid_1's l2: 0.426497\n",
      "mean_14_2017: 2346893.69\n",
      "mean_7_2017: 767571.67\n",
      "mean_3_2017: 253304.63\n",
      "promo_9: 183229.22\n",
      "promo_14_2017: 65895.09\n",
      "promo_2: 21899.03\n",
      "promo_10: 11392.59\n",
      "promo_7: 9644.36\n",
      "promo_8: 6755.37\n",
      "promo_14: 6300.28\n",
      "promo_12: 5457.72\n",
      "promo_11: 5087.14\n",
      "promo_0: 3239.42\n",
      "promo_13: 2844.98\n",
      "promo_1: 2706.35\n",
      "promo_6: 2621.03\n",
      "promo_15: 2161.14\n",
      "promo_4: 1552.31\n",
      "promo_5: 1527.53\n",
      "promo_3: 1435.12\n",
      "==================================================\n",
      "Step 11\n",
      "==================================================\n",
      "Training until validation scores don't improve for 50 rounds.\n",
      "[50]\ttraining's l2: 0.44642\tvalid_1's l2: 0.449231\n",
      "[100]\ttraining's l2: 0.433665\tvalid_1's l2: 0.43933\n",
      "[150]\ttraining's l2: 0.429949\tvalid_1's l2: 0.438557\n",
      "[200]\ttraining's l2: 0.42814\tvalid_1's l2: 0.438385\n",
      "[250]\ttraining's l2: 0.426818\tvalid_1's l2: 0.438375\n",
      "Early stopping, best iteration is:\n",
      "[218]\ttraining's l2: 0.427628\tvalid_1's l2: 0.43829\n",
      "mean_14_2017: 2674856.55\n",
      "mean_7_2017: 866909.51\n",
      "mean_3_2017: 282468.04\n",
      "promo_10: 115296.28\n",
      "promo_14_2017: 52248.98\n",
      "promo_9: 15729.62\n",
      "promo_12: 11478.02\n",
      "promo_14: 9985.99\n",
      "promo_7: 9855.92\n",
      "promo_11: 8609.79\n",
      "promo_8: 7361.15\n",
      "promo_13: 4811.76\n",
      "promo_3: 4763.15\n",
      "promo_15: 3875.72\n",
      "promo_0: 2518.23\n",
      "promo_1: 2478.58\n",
      "promo_2: 2453.78\n",
      "promo_6: 2430.77\n",
      "promo_5: 2144.93\n",
      "promo_4: 1879.64\n",
      "==================================================\n",
      "Step 12\n",
      "==================================================\n",
      "Training until validation scores don't improve for 50 rounds.\n",
      "[50]\ttraining's l2: 0.473531\tvalid_1's l2: 0.478164\n",
      "[100]\ttraining's l2: 0.459874\tvalid_1's l2: 0.467236\n",
      "[150]\ttraining's l2: 0.455961\tvalid_1's l2: 0.465847\n",
      "[200]\ttraining's l2: 0.454032\tvalid_1's l2: 0.464987\n",
      "[250]\ttraining's l2: 0.452477\tvalid_1's l2: 0.464666\n",
      "[300]\ttraining's l2: 0.451408\tvalid_1's l2: 0.464392\n",
      "[350]\ttraining's l2: 0.450497\tvalid_1's l2: 0.464058\n",
      "[400]\ttraining's l2: 0.44964\tvalid_1's l2: 0.463948\n",
      "[450]\ttraining's l2: 0.448839\tvalid_1's l2: 0.463859\n",
      "[500]\ttraining's l2: 0.44812\tvalid_1's l2: 0.463847\n",
      "[550]\ttraining's l2: 0.44744\tvalid_1's l2: 0.463719\n",
      "[600]\ttraining's l2: 0.44681\tvalid_1's l2: 0.463732\n",
      "Early stopping, best iteration is:\n",
      "[558]\ttraining's l2: 0.447327\tvalid_1's l2: 0.463674\n",
      "mean_14_2017: 2863451.91\n",
      "mean_7_2017: 793941.57\n",
      "mean_3_2017: 454939.35\n",
      "promo_11: 121096.13\n",
      "promo_14_2017: 51788.18\n",
      "promo_10: 13365.51\n",
      "promo_14: 12763.64\n",
      "promo_9: 12649.93\n",
      "promo_12: 12085.60\n",
      "promo_4: 11290.30\n",
      "promo_13: 9057.12\n",
      "promo_7: 8929.03\n",
      "promo_8: 6839.25\n",
      "promo_0: 4212.43\n",
      "promo_15: 3631.61\n",
      "promo_6: 3165.39\n",
      "promo_2: 2612.85\n",
      "promo_1: 2457.32\n",
      "promo_5: 2426.51\n",
      "promo_3: 2229.57\n",
      "==================================================\n",
      "Step 13\n",
      "==================================================\n",
      "Training until validation scores don't improve for 50 rounds.\n",
      "[50]\ttraining's l2: 0.439663\tvalid_1's l2: 0.442017\n",
      "[100]\ttraining's l2: 0.427572\tvalid_1's l2: 0.43144\n",
      "[150]\ttraining's l2: 0.424178\tvalid_1's l2: 0.430049\n",
      "[200]\ttraining's l2: 0.422529\tvalid_1's l2: 0.429607\n",
      "[250]\ttraining's l2: 0.421276\tvalid_1's l2: 0.429385\n",
      "[300]\ttraining's l2: 0.4202\tvalid_1's l2: 0.429375\n",
      "[350]\ttraining's l2: 0.419331\tvalid_1's l2: 0.429369\n",
      "Early stopping, best iteration is:\n",
      "[343]\ttraining's l2: 0.419456\tvalid_1's l2: 0.429322\n",
      "mean_14_2017: 2374488.91\n",
      "mean_7_2017: 704889.17\n",
      "mean_3_2017: 339685.82\n",
      "promo_12: 106997.97\n",
      "promo_14_2017: 47577.68\n",
      "promo_13: 27859.67\n",
      "promo_10: 13382.15\n",
      "promo_14: 12542.50\n",
      "promo_9: 8178.92\n",
      "promo_15: 5883.99\n",
      "promo_5: 5882.48\n",
      "promo_11: 5750.61\n",
      "promo_7: 5431.63\n",
      "promo_8: 4317.89\n",
      "promo_0: 2690.25\n",
      "promo_6: 2671.94\n",
      "promo_3: 2307.56\n",
      "promo_2: 1666.13\n",
      "promo_1: 1419.02\n",
      "promo_4: 1202.69\n",
      "==================================================\n",
      "Step 14\n",
      "==================================================\n",
      "Training until validation scores don't improve for 50 rounds.\n",
      "[50]\ttraining's l2: 0.424673\tvalid_1's l2: 0.424792\n",
      "[100]\ttraining's l2: 0.412572\tvalid_1's l2: 0.415371\n",
      "[150]\ttraining's l2: 0.409087\tvalid_1's l2: 0.414212\n",
      "[200]\ttraining's l2: 0.407458\tvalid_1's l2: 0.413845\n",
      "[250]\ttraining's l2: 0.406269\tvalid_1's l2: 0.413571\n",
      "[300]\ttraining's l2: 0.405294\tvalid_1's l2: 0.413507\n",
      "[350]\ttraining's l2: 0.404425\tvalid_1's l2: 0.413497\n",
      "Early stopping, best iteration is:\n",
      "[319]\ttraining's l2: 0.404951\tvalid_1's l2: 0.413424\n",
      "mean_14_2017: 2204252.88\n",
      "mean_7_2017: 637532.89\n",
      "mean_3_2017: 294400.81\n",
      "promo_13: 188805.49\n",
      "promo_14_2017: 48903.87\n",
      "promo_12: 14636.31\n",
      "promo_14: 14418.49\n",
      "promo_6: 13514.03\n",
      "promo_10: 10371.92\n",
      "promo_9: 6203.03\n",
      "promo_7: 5976.85\n",
      "promo_0: 5537.58\n",
      "promo_8: 4816.48\n",
      "promo_15: 4104.16\n",
      "promo_11: 3981.07\n",
      "promo_2: 2367.04\n",
      "promo_1: 1767.85\n",
      "promo_5: 1491.46\n",
      "promo_4: 1365.14\n",
      "promo_3: 1214.20\n"
     ]
    },
    {
     "name": "stdout",
     "output_type": "stream",
     "text": [
      "==================================================\n",
      "Step 15\n",
      "==================================================\n",
      "Training until validation scores don't improve for 50 rounds.\n",
      "[50]\ttraining's l2: 0.410919\tvalid_1's l2: 0.410371\n",
      "[100]\ttraining's l2: 0.397115\tvalid_1's l2: 0.398748\n",
      "[150]\ttraining's l2: 0.394313\tvalid_1's l2: 0.397684\n",
      "[200]\ttraining's l2: 0.392711\tvalid_1's l2: 0.397309\n",
      "[250]\ttraining's l2: 0.391556\tvalid_1's l2: 0.397216\n",
      "[300]\ttraining's l2: 0.390632\tvalid_1's l2: 0.397001\n",
      "[350]\ttraining's l2: 0.389878\tvalid_1's l2: 0.396751\n",
      "[400]\ttraining's l2: 0.389201\tvalid_1's l2: 0.396668\n",
      "[450]\ttraining's l2: 0.388549\tvalid_1's l2: 0.396577\n",
      "Early stopping, best iteration is:\n",
      "[443]\ttraining's l2: 0.388637\tvalid_1's l2: 0.396544\n",
      "mean_14_2017: 2325703.66\n",
      "mean_7_2017: 697625.27\n",
      "mean_3_2017: 244009.25\n",
      "promo_14: 232375.05\n",
      "promo_14_2017: 50039.63\n",
      "promo_7: 32257.52\n",
      "promo_0: 29105.04\n",
      "promo_15: 20072.46\n",
      "promo_13: 11033.72\n",
      "promo_9: 9036.77\n",
      "promo_12: 8426.44\n",
      "promo_10: 6103.29\n",
      "promo_2: 4641.07\n",
      "promo_6: 4357.55\n",
      "promo_11: 3179.79\n",
      "promo_8: 2955.70\n",
      "promo_4: 2468.38\n",
      "promo_1: 1808.81\n",
      "promo_5: 1281.50\n",
      "promo_3: 943.46\n",
      "==================================================\n",
      "Step 16\n",
      "==================================================\n",
      "Training until validation scores don't improve for 50 rounds.\n",
      "[50]\ttraining's l2: 0.419219\tvalid_1's l2: 0.432307\n",
      "[100]\ttraining's l2: 0.408384\tvalid_1's l2: 0.423714\n",
      "[150]\ttraining's l2: 0.405477\tvalid_1's l2: 0.422287\n",
      "[200]\ttraining's l2: 0.403823\tvalid_1's l2: 0.421915\n",
      "[250]\ttraining's l2: 0.402596\tvalid_1's l2: 0.421392\n",
      "[300]\ttraining's l2: 0.401565\tvalid_1's l2: 0.421407\n",
      "Early stopping, best iteration is:\n",
      "[260]\ttraining's l2: 0.402333\tvalid_1's l2: 0.421319\n",
      "mean_14_2017: 2017786.49\n",
      "mean_7_2017: 597065.44\n",
      "mean_3_2017: 209361.65\n",
      "promo_15: 183397.47\n",
      "promo_14_2017: 49204.78\n",
      "promo_14: 9435.88\n",
      "promo_7: 4710.27\n",
      "promo_10: 4474.12\n",
      "promo_9: 4468.63\n",
      "promo_0: 4304.73\n",
      "promo_13: 3390.71\n",
      "promo_12: 3341.79\n",
      "promo_8: 2719.90\n",
      "promo_11: 2431.73\n",
      "promo_1: 2089.00\n",
      "promo_2: 1943.76\n",
      "promo_3: 1874.32\n",
      "promo_6: 1558.04\n",
      "promo_4: 1111.01\n",
      "promo_5: 1062.91\n"
     ]
    }
   ],
   "source": [
    "for i in range(16):\n",
    "    print(\"=\" * 50)\n",
    "    print(\"Step %d\" % (i+1))\n",
    "    print(\"=\" * 50)\n",
    "    dtrain = lgb.Dataset(\n",
    "        X_train, label=y_train[:, i],\n",
    "        categorical_feature=cate_vars,\n",
    "        weight=pd.concat([items[\"perishable\"]] * 4) * 0.25 + 1\n",
    "    )\n",
    "    dval = lgb.Dataset(\n",
    "        X_val, label=y_val[:, i], reference=dtrain,\n",
    "        weight=items[\"perishable\"] * 0.25 + 1,\n",
    "        categorical_feature=cate_vars)\n",
    "    bst = lgb.train(\n",
    "        params, dtrain, num_boost_round=MAX_ROUNDS,\n",
    "        valid_sets=[dtrain, dval], early_stopping_rounds=50, verbose_eval=50\n",
    "    )\n",
    "    print(\"\\n\".join((\"%s: %.2f\" % x) for x in sorted(\n",
    "        zip(X_train.columns, bst.feature_importance(\"gain\")),\n",
    "        key=lambda x: x[1], reverse=True\n",
    "    )))\n",
    "    val_pred.append(bst.predict(\n",
    "        X_val, num_iteration=bst.best_iteration or MAX_ROUNDS))\n",
    "    test_pred.append(bst.predict(\n",
    "        X_test, num_iteration=bst.best_iteration or MAX_ROUNDS))"
   ]
  },
  {
   "cell_type": "code",
   "execution_count": 111,
   "metadata": {},
   "outputs": [
    {
     "name": "stdout",
     "output_type": "stream",
     "text": [
      "Validation mse: 0.413994342653\n"
     ]
    }
   ],
   "source": [
    "print(\"Validation mse:\", mean_squared_error(\n",
    "    y_val, np.array(val_pred).transpose()))"
   ]
  },
  {
   "cell_type": "code",
   "execution_count": 112,
   "metadata": {},
   "outputs": [
    {
     "name": "stdout",
     "output_type": "stream",
     "text": [
      "Making submission...\n"
     ]
    }
   ],
   "source": [
    "print(\"Making submission...\")\n",
    "y_test = np.array(test_pred).transpose()\n",
    "df_preds = pd.DataFrame(\n",
    "    y_test, index=df_2017.index,\n",
    "    columns=pd.date_range(\"2017-08-16\", periods=16)\n",
    ").stack().to_frame(\"unit_sales\")\n",
    "df_preds.index.set_names([\"store_nbr\", \"item_nbr\", \"date\"], inplace=True)\n"
   ]
  },
  {
   "cell_type": "code",
   "execution_count": 113,
   "metadata": {
    "collapsed": true
   },
   "outputs": [],
   "source": [
    "submission = df_test[[\"id\"]].join(df_preds, how=\"left\").fillna(0)"
   ]
  },
  {
   "cell_type": "markdown",
   "metadata": {},
   "source": [
    "# 13. Conclusion\n",
    "We are getting following results on applying data set on different models:\n",
    "\n",
    "| Model | R2 Score |\n",
    "| --- | --- |\n",
    "| Linear Regression | 0.354 |\n",
    "| Decision Tree Regression | 0.825 |\n",
    "| Extra Tree Regression   | 0.825 |\n",
    "| Random Forest Regression  | 0.836 |\n",
    "| Gradient Boosting Regression | 0.836 |\n",
    "| XG Boost | 0.797 |\n",
    "| LGBM | 0.759 |\n"
   ]
  },
  {
   "cell_type": "markdown",
   "metadata": {
    "collapsed": true
   },
   "source": [
    "# 14. References and Attributions\n",
    "\n",
    "[1] Cui, G., Wong, M. L., & Lui, H. K. (2006). Machine learning for direct marketing response models:\n",
    "Bayesian networks with evolutionary programming.Management Science, 52(4), 597-612\n",
    "\n",
    "[2] Taylor, E. L. (2014). Predicting Consumer Behavior. Research World, 2014(46), 67-68\n",
    "\n",
    "[3] Morwitz, V. G., Steckel, J. H., & Gupta, A. (2007). When do purchase intentions predict sales?.\n",
    "International Journal of Forecasting, 23(3), 347-364\n",
    "\n",
    "[4] https://www.kaggle.com/c/favorita-grocery-sales-forecasting/data\n",
    "\n",
    "[5] https://en.wikipedia.org/wiki/Xgboost\n",
    "\n",
    "[6] https://en.wikipedia.org/wiki/Random_forest\n",
    "\n",
    "[7] https://en.wikipedia.org/wiki/Decision_tree\n",
    "\n",
    "[8]https://www.analyticsvidhya.com/blog/2017/06/which-algorithm-takes-the-crown-light-gbm-vsxgboost/\n",
    "\n",
    "[9] https://www.tutorialspoint.com/sales_forecasting/sales_forecasting_discussion.html\n",
    "\n",
    "[10] https://www.datawatch.com/what-is-data-blending/\n",
    "\n",
    "The text in the document by Source Wikipedia is licensed under CC BY 3.0 https://creativecommons.org/licenses/by/3.0/us/\n",
    "\n",
    "The text in the document by Analytics Vidhya is licensed under CC BY 3.0 https://creativecommons.org/licenses/by/3.0/us/\n",
    "\n",
    "The text in the document by towards data science is licensed under CC BY 3.0 https://creativecommons.org/licenses/by/3.0/us/\n",
    "\n",
    "The code in the document by Source Kaggle is licensed under the MIT License https://opensource.org/licenses/MIT"
   ]
  },
  {
   "cell_type": "code",
   "execution_count": null,
   "metadata": {
    "collapsed": true
   },
   "outputs": [],
   "source": []
  }
 ],
 "metadata": {
  "kernelspec": {
   "display_name": "Python 3",
   "language": "python",
   "name": "python3"
  },
  "language_info": {
   "codemirror_mode": {
    "name": "ipython",
    "version": 3
   },
   "file_extension": ".py",
   "mimetype": "text/x-python",
   "name": "python",
   "nbconvert_exporter": "python",
   "pygments_lexer": "ipython3",
   "version": "3.6.3"
  }
 },
 "nbformat": 4,
 "nbformat_minor": 2
}
